{
 "cells": [
  {
   "cell_type": "markdown",
   "id": "228e2398",
   "metadata": {},
   "source": [
    "## Colab Mount Drive\n"
   ]
  },
  {
   "cell_type": "code",
   "execution_count": null,
   "id": "b9e79140",
   "metadata": {},
   "outputs": [],
   "source": [
    "# prompt: mount drive\n",
    "\n",
    "from google.colab import drive\n",
    "drive.mount('/content/drive')\n"
   ]
  },
  {
   "cell_type": "markdown",
   "id": "c2b5e7c5",
   "metadata": {},
   "source": [
    "## Set Main Pathes"
   ]
  },
  {
   "cell_type": "code",
   "execution_count": 1,
   "id": "08491c6f",
   "metadata": {},
   "outputs": [],
   "source": [
    "def is_colab():\n",
    "    try:\n",
    "        import google.colab\n",
    "        return True\n",
    "    except ImportError:\n",
    "        return False\n",
    "\n"
   ]
  },
  {
   "cell_type": "code",
   "execution_count": 2,
   "id": "5d578dfc",
   "metadata": {},
   "outputs": [
    {
     "name": "stdout",
     "output_type": "stream",
     "text": [
      "Running on Windows\n"
     ]
    }
   ],
   "source": [
    "import platform\n",
    "\n",
    "if platform.system() == \"Linux\":\n",
    "    if is_colab():\n",
    "      print(\"Running in Google Colab\")\n",
    "      path_main_folder = \"/content/drive/My Drive/study/graduation_project/final/Code/project_files/TrafficManager/TrafficManager/\"\n",
    "\n",
    "\n",
    "else:\n",
    "    print(\"Running on Windows\")\n",
    "    path_main_folder = \"I:/My Drive/study/graduation_project/final/Code/project_files/TrafficManager/TrafficManager/\"\n",
    "\n",
    "\n",
    "path_data_folder = path_main_folder + \"AIST_Cleaned/data2_mosheerIsmail/\"#\"AIST_Cleaned/data2_mosheerIsmail/\"\n",
    "path_cfg = path_data_folder +\"cfg.sumocfg\"\n",
    "path_project_folder = path_main_folder + \"\"\n",
    "\n"
   ]
  },
  {
   "cell_type": "code",
   "execution_count": 3,
   "id": "201fb842",
   "metadata": {},
   "outputs": [
    {
     "name": "stdout",
     "output_type": "stream",
     "text": [
      "File exists at: I:/My Drive/study/graduation_project/final/Code/project_files/TrafficManager/TrafficManager/\n"
     ]
    }
   ],
   "source": [
    "# prompt: check if file path ok\n",
    "\n",
    "import os\n",
    "\n",
    "if os.path.exists(path_main_folder):\n",
    "  print(f\"File exists at: {path_main_folder}\")\n",
    "else:\n",
    "  print(f\"File does not exist at: {path_main_folder}\")\n"
   ]
  },
  {
   "cell_type": "code",
   "execution_count": 4,
   "id": "096bbfd4",
   "metadata": {},
   "outputs": [],
   "source": [
    "yaml_file = path_project_folder + \"config.yaml\"\n",
    "keys_file = path_project_folder + \"keys.env\""
   ]
  },
  {
   "cell_type": "markdown",
   "id": "a300a2b5",
   "metadata": {},
   "source": [
    "##  install sumo"
   ]
  },
  {
   "cell_type": "code",
   "execution_count": null,
   "id": "4885d5d1",
   "metadata": {},
   "outputs": [],
   "source": [
    "!sudo add-apt-repository -y ppa:sumo/stable\n",
    "!sudo apt-get update\n",
    "!sudo apt-get install -y sumo sumo-tools sumo-doc\n"
   ]
  },
  {
   "cell_type": "code",
   "execution_count": null,
   "id": "903f95e2",
   "metadata": {},
   "outputs": [],
   "source": [
    "!source ~/.bashrc\n"
   ]
  },
  {
   "cell_type": "code",
   "execution_count": null,
   "id": "110444b3",
   "metadata": {},
   "outputs": [],
   "source": [
    "!sumo --version\n"
   ]
  },
  {
   "cell_type": "markdown",
   "id": "5c926b59",
   "metadata": {},
   "source": [
    "## Install Packages"
   ]
  },
  {
   "cell_type": "code",
   "execution_count": null,
   "id": "01f7a20a",
   "metadata": {},
   "outputs": [],
   "source": [
    "!pip install traci\n",
    "!pip install dotenv\n",
    "!pip install ray\n",
    "!pip install ray[rllib]\n",
    "!pip install colorama\n",
    "!pip install optuna\n",
    "!pip install stable_baselines3"
   ]
  },
  {
   "cell_type": "markdown",
   "id": "bbf5d0d3",
   "metadata": {},
   "source": [
    "## Import Packages"
   ]
  },
  {
   "cell_type": "code",
   "execution_count": 5,
   "id": "79c72fe1",
   "metadata": {},
   "outputs": [],
   "source": [
    "import sys\n",
    "sys.path.append(path_project_folder)\n"
   ]
  },
  {
   "cell_type": "code",
   "execution_count": 6,
   "id": "72c48dba",
   "metadata": {},
   "outputs": [],
   "source": [
    "from Connections import SumoConnection\n",
    "from Connections.Connection import *\n",
    "import os\n",
    "import traci\n",
    "import gymnasium as gym\n",
    "from numpy import inf\n",
    "import numpy as np\n",
    "import SumoEnvSingleAgent\n",
    "from Utils_reporting import *\n",
    "from Utils_running_singleAgent import *\n",
    "from rewards import *\n",
    "from stable_baselines3 import PPO ,DQN\n",
    "from stable_baselines3.common.vec_env import DummyVecEnv, VecNormalize\n",
    "import torch\n",
    "import time\n",
    "from Callbacks import *\n",
    "from models.d3qn import D3QNAgent\n",
    "from Utils_reporting import *\n"
   ]
  },
  {
   "cell_type": "markdown",
   "id": "4341bbe5",
   "metadata": {},
   "source": [
    "## Set Parameters"
   ]
  },
  {
   "cell_type": "code",
   "execution_count": 7,
   "id": "423f975f",
   "metadata": {},
   "outputs": [],
   "source": [
    "max_step = 4000\n",
    "precent_Scale = .38\n",
    "is_gui =False"
   ]
  },
  {
   "cell_type": "code",
   "execution_count": 8,
   "id": "2a8f8ab8",
   "metadata": {},
   "outputs": [],
   "source": [
    "scale = int(10*precent_Scale)"
   ]
  },
  {
   "cell_type": "code",
   "execution_count": 9,
   "id": "977f608b",
   "metadata": {},
   "outputs": [],
   "source": [
    "agent_id='1698478721'"
   ]
  },
  {
   "cell_type": "markdown",
   "id": "b21de759",
   "metadata": {},
   "source": [
    "## Open Sumo"
   ]
  },
  {
   "cell_type": "code",
   "execution_count": 10,
   "id": "edfc6aff",
   "metadata": {},
   "outputs": [
    {
     "name": "stdout",
     "output_type": "stream",
     "text": [
      "Running on Windows\n",
      "Running in Google Colab\n"
     ]
    }
   ],
   "source": [
    "if platform.system() == \"Linux\":\n",
    "    if is_colab():\n",
    "        print(\"Running in Google Colab\")\n",
    "        sumo_home = str(os.getenv(\"sumo_home_lin\"))\n",
    "        sumo_binary = str(os.getenv(\"sumo_binary_lin\"))\n",
    "        if is_gui:\n",
    "            print(\"GUI not supported on linux\")\n",
    "    else:\n",
    "      print(\"Not running in HPC Linux (default linux)\")\n",
    "\n",
    "\n",
    "else:\n",
    "    print(\"Running on Windows\")\n",
    "    print(\"Running in Google Colab\")\n",
    "    sumo_home = str(os.getenv(\"sumo_home_win\"))\n",
    "    if is_gui:\n",
    "        sumo_binary = str(os.getenv(\"sumo_binary_gui_win\"))\n",
    "    else:\n",
    "        sumo_binary = str(os.getenv(\"sumo_binary_cli_win\"))\n",
    "\n",
    "\n"
   ]
  },
  {
   "cell_type": "code",
   "execution_count": 11,
   "id": "a7f2b36b",
   "metadata": {},
   "outputs": [],
   "source": [
    "python_path =sumo_home\n",
    "data_path = path_data_folder"
   ]
  },
  {
   "cell_type": "code",
   "execution_count": 12,
   "id": "93dcd119",
   "metadata": {},
   "outputs": [],
   "source": [
    "cmd=[sumo_binary, \"-c\", path_cfg ,\"--log\", \"sumo_log.txt\", \"--verbose\", \"true\"]\n"
   ]
  },
  {
   "cell_type": "code",
   "execution_count": 13,
   "id": "c01c1d68",
   "metadata": {},
   "outputs": [
    {
     "name": "stdout",
     "output_type": "stream",
     "text": [
      "No connection found, creating a new connection ❌\n"
     ]
    }
   ],
   "source": [
    "conn=SumoConnection.SumoConnection(cmd)"
   ]
  },
  {
   "cell_type": "markdown",
   "id": "bb3983ee",
   "metadata": {},
   "source": [
    "## Load Traffic Lights info"
   ]
  },
  {
   "cell_type": "code",
   "execution_count": 14,
   "id": "700a5067",
   "metadata": {},
   "outputs": [
    {
     "data": {
      "text/plain": [
       "[(4, '1698478721')]"
      ]
     },
     "execution_count": 14,
     "metadata": {},
     "output_type": "execute_result"
    }
   ],
   "source": [
    "traffic_lights,policies=get_traffic_lights_policies_high_group(durations=[1],agent_ids=[agent_id])\n",
    "traffic_lights"
   ]
  },
  {
   "cell_type": "markdown",
   "id": "9bbc86e1",
   "metadata": {},
   "source": [
    "## Start Simulation"
   ]
  },
  {
   "cell_type": "code",
   "execution_count": 15,
   "id": "5b1dbe12",
   "metadata": {},
   "outputs": [],
   "source": [
    "traci.simulation.setScale(scale)"
   ]
  },
  {
   "cell_type": "code",
   "execution_count": 16,
   "id": "0081b6b8",
   "metadata": {},
   "outputs": [],
   "source": [
    "time_before =time.time()\n",
    "\n",
    "for i in range(max_step):\n",
    "    conn.do_steps_duration(1,max_step,traffic_lights[0][1])\n",
    "\n",
    "time_after =time.time()\n"
   ]
  },
  {
   "cell_type": "markdown",
   "id": "26ab0699",
   "metadata": {},
   "source": [
    "## Results"
   ]
  },
  {
   "cell_type": "code",
   "execution_count": 17,
   "id": "0fd58453",
   "metadata": {},
   "outputs": [
    {
     "name": "stdout",
     "output_type": "stream",
     "text": [
      "\u001b[32mTime taken for training: 19.636 seconds (0.327 Minutes)\u001b[0m\n"
     ]
    }
   ],
   "source": [
    "time_diff = time_after - time_before\n",
    "print(Fore.GREEN + f\"Time taken for training: {round(time_diff,3)} seconds ({round(time_diff/60,3)} Minutes)\" + Style.RESET_ALL)\n"
   ]
  },
  {
   "cell_type": "code",
   "execution_count": 18,
   "id": "53ef371a",
   "metadata": {},
   "outputs": [],
   "source": [
    "def append_to_file(filename, text):\n",
    "    with open(filename, 'a') as file:\n",
    "        file.write(text + '\\n')  # '\\n' لتضيف السطر الجديد بعد كل جملة\n"
   ]
  },
  {
   "cell_type": "code",
   "execution_count": 19,
   "id": "13618b4c",
   "metadata": {},
   "outputs": [],
   "source": [
    "traci.close()"
   ]
  },
  {
   "cell_type": "code",
   "execution_count": 20,
   "id": "1f69d41f",
   "metadata": {},
   "outputs": [
    {
     "name": "stdout",
     "output_type": "stream",
     "text": [
      "Successfully ran C:\\Program Files (x86)\\Eclipse\\Sumo\\tools\\xml\\xml2csv.py with I:\\My Drive\\study\\graduation_project\\final\\Code\\project_files\\TrafficManager\\TrafficManager\\AIST_Cleaned\\data2_mosheerIsmail\\osm.statistics.xml\n",
      "\u001b[36mWaiting_Time: 137.24\u001b[0m\n",
      "\u001b[36mSpeed: 8.84\u001b[0m\n",
      "\u001b[36mWaiting_Vehicles: 4568.0\u001b[0m\n",
      "\u001b[36mTimeLoss: 147.73\u001b[0m\n",
      "\u001b[36mDepart_Delay: 139.09\u001b[0m\n"
     ]
    }
   ],
   "source": [
    "results = conn.get_sumo_statics(python_path, data_path)\n",
    "for key, value in results.items():\n",
    "    print(Fore.CYAN + f\"{key}: {round(value,3)}\" + Style.RESET_ALL)\n",
    "    #append_to_file(\"output1.txt\",f\"{key}: {round(value,3)}\")\n"
   ]
  },
  {
   "cell_type": "code",
   "execution_count": null,
   "id": "f471364f",
   "metadata": {},
   "outputs": [],
   "source": []
  }
 ],
 "metadata": {
  "kernelspec": {
   "display_name": "Python 3",
   "language": "python",
   "name": "python3"
  },
  "language_info": {
   "codemirror_mode": {
    "name": "ipython",
    "version": 3
   },
   "file_extension": ".py",
   "mimetype": "text/x-python",
   "name": "python",
   "nbconvert_exporter": "python",
   "pygments_lexer": "ipython3",
   "version": "3.11.4"
  }
 },
 "nbformat": 4,
 "nbformat_minor": 5
}
