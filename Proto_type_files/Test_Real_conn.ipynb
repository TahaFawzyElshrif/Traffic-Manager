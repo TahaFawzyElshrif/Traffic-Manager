{
 "cells": [
  {
   "cell_type": "code",
   "execution_count": 7,
   "id": "qHcMSLvL7891",
   "metadata": {
    "colab": {
     "base_uri": "https://localhost:8080/"
    },
    "executionInfo": {
     "elapsed": 13153,
     "status": "ok",
     "timestamp": 1747060999522,
     "user": {
      "displayName": "yahoo egypt",
      "userId": "13038863756302173317"
     },
     "user_tz": -180
    },
    "id": "qHcMSLvL7891",
    "outputId": "98a9379b-a8a3-412d-b859-5b486c7641cb"
   },
   "outputs": [
    {
     "name": "stdout",
     "output_type": "stream",
     "text": [
      "Mounted at /content/drive\n"
     ]
    }
   ],
   "source": [
    "# prompt: mount\n",
    "\n",
    "from google.colab import drive\n",
    "drive.mount('/content/drive')\n"
   ]
  },
  {
   "cell_type": "markdown",
   "id": "0e28b507",
   "metadata": {
    "id": "0e28b507"
   },
   "source": [
    "## Import Packages"
   ]
  },
  {
   "cell_type": "code",
   "execution_count": 1,
   "id": "e3ab4395",
   "metadata": {
    "colab": {
     "base_uri": "https://localhost:8080/"
    },
    "executionInfo": {
     "elapsed": 53,
     "status": "ok",
     "timestamp": 1747060964402,
     "user": {
      "displayName": "yahoo egypt",
      "userId": "13038863756302173317"
     },
     "user_tz": -180
    },
    "id": "e3ab4395",
    "outputId": "2fbc251a-a77d-472d-deba-efc0d561aa9f"
   },
   "outputs": [
    {
     "name": "stdout",
     "output_type": "stream",
     "text": [
      "Running on Windows\n"
     ]
    }
   ],
   "source": [
    "import platform\n",
    "\n",
    "print(\"Running on Windows\")\n",
    "#path_main_folder = \"/content/drive/My Drive/study/graduation_project/final/Code/project_files/TrafficManager/TrafficManager/\"\n",
    "path_main_folder = \"I:/My Drive/study/graduation_project/final/Code/project_files/TrafficManager/TrafficManager/\"\n",
    "\n",
    "\n",
    "path_data_folder = path_main_folder + \"AIST_Cleaned/data3_san_stefano/\"#\"AIST_Cleaned/data2_mosheerIsmail/\",data3_san_stefano\n",
    "path_cfg = path_data_folder +\"cfg.sumocfg\"\n",
    "path_project_folder = path_main_folder + \"\"\n",
    "\n"
   ]
  },
  {
   "cell_type": "code",
   "execution_count": 2,
   "id": "PJYfT_ta8Yjq",
   "metadata": {
    "colab": {
     "base_uri": "https://localhost:8080/"
    },
    "executionInfo": {
     "elapsed": 27,
     "status": "ok",
     "timestamp": 1747061155207,
     "user": {
      "displayName": "yahoo egypt",
      "userId": "13038863756302173317"
     },
     "user_tz": -180
    },
    "id": "PJYfT_ta8Yjq",
    "outputId": "db583cb1-2e12-406f-99ca-5baa344ba827"
   },
   "outputs": [
    {
     "data": {
      "text/plain": [
       "True"
      ]
     },
     "execution_count": 2,
     "metadata": {},
     "output_type": "execute_result"
    }
   ],
   "source": [
    "import os\n",
    "os.path.exists(path_project_folder)"
   ]
  },
  {
   "cell_type": "code",
   "execution_count": 3,
   "id": "b37e57ba",
   "metadata": {
    "id": "b37e57ba",
    "outputId": "ebf99aa3-bf49-4f17-c871-d8afdb9840af"
   },
   "outputs": [
    {
     "name": "stdout",
     "output_type": "stream",
     "text": [
      "pygame 2.6.1 (SDL 2.28.4, Python 3.11.4)\n",
      "Hello from the pygame community. https://www.pygame.org/contribute.html\n"
     ]
    }
   ],
   "source": [
    "import sys\n",
    "sys.path.append(path_project_folder)\n",
    "\n",
    "import Connections.ProtoRealConnection\n",
    "from Connections.Connection import *\n",
    "import os\n",
    "import gymnasium as gym\n",
    "from numpy import inf\n",
    "import numpy as np\n",
    "import SumoEnvSingleAgent\n",
    "from Utils_reporting import *\n",
    "from Utils_running_singleAgent import *\n",
    "from rewards import *\n",
    "from stable_baselines3 import PPO\n",
    "from stable_baselines3.common.vec_env import DummyVecEnv, VecNormalize\n",
    "import torch\n",
    "import time\n",
    "from Callbacks import *\n",
    "from models.d3qn import D3QNAgent"
   ]
  },
  {
   "cell_type": "markdown",
   "id": "329fb256",
   "metadata": {
    "id": "329fb256"
   },
   "source": [
    "## Load Parameters"
   ]
  },
  {
   "cell_type": "code",
   "execution_count": 4,
   "id": "84d9cf32",
   "metadata": {
    "id": "84d9cf32"
   },
   "outputs": [],
   "source": [
    "durations = [7 , 15 ,20 ,30] #[15,30,60,90]\n",
    "ENV_NAME = \"HighGroupedSumoEnv\"\n",
    "REWARD_TYPE = \"proposed_reward\"\n",
    "max_steps = 100000000 \n",
    "max_sumo_steps = 2000\n",
    "sumo_traffic_scale = 1\n",
    "enable_variation_action = True\n",
    "seed = 0\n",
    "\n"
   ]
  },
  {
   "cell_type": "code",
   "execution_count": 5,
   "id": "be47f225",
   "metadata": {
    "id": "be47f225"
   },
   "outputs": [],
   "source": [
    "agent_id ='6082411793'\n",
    "traffic_lights = [(4, agent_id)]\n"
   ]
  },
  {
   "cell_type": "code",
   "execution_count": 6,
   "id": "1b42d9a9",
   "metadata": {
    "id": "1b42d9a9"
   },
   "outputs": [],
   "source": [
    "reward_func = {\n",
    "'proposed_reward':reward_proposed,\n",
    "'literature':reward_liter,\n",
    "'project_reward':reward_proj,\n",
    "}\n",
    "env_classes = {\n",
    "    \"HighGroupedSumoEnv\": SumoEnvSingleAgent.HighGroupedSumoEnv,\n",
    "    \"GroupedSumoEnv\": SumoEnvSingleAgent.GroupedSumoEnv ,\n",
    "    \"SumoEnv\": SumoEnvSingleAgent.SumoEnv,\n",
    "}"
   ]
  },
  {
   "cell_type": "code",
   "execution_count": 7,
   "id": "21b9b714",
   "metadata": {
    "id": "21b9b714"
   },
   "outputs": [],
   "source": [
    "def create_env(config_):\n",
    "    args = (traffic_lights[0][1],traffic_lights[0][0], durations,reward_func[REWARD_TYPE], max_steps, max_sumo_steps,sumo_traffic_scale,enable_variation_action,config_,seed)\n",
    "    env = env_classes[ENV_NAME](*args)\n",
    "    return env\n",
    "\n"
   ]
  },
  {
   "cell_type": "code",
   "execution_count": 8,
   "id": "cecb692a",
   "metadata": {
    "executionInfo": {
     "elapsed": 43,
     "status": "ok",
     "timestamp": 1747061073746,
     "user": {
      "displayName": "yahoo egypt",
      "userId": "13038863756302173317"
     },
     "user_tz": -180
    },
    "id": "cecb692a"
   },
   "outputs": [],
   "source": [
    "video_path = \"I:/My Drive/study/graduation_project/final/Code/project_files/TrafficManager/try/vid.mp4\"\n",
    "video_output_path = \"I:/My Drive/study/graduation_project/final/Code/project_files/TrafficManager/try/vid_out.mp4\"\n",
    "#yolo_path = \"I:/My Drive/study/graduation_project/final/Code/project_files/TrafficManager/try/pruned_yolo_model.pt\"\n",
    "yolo_path = \"I:/My Drive/study/graduation_project/final/Code/project_files/TrafficManager/try/yolo11n.pt\"\n",
    "\n",
    "thresould_speed = .01 #10 ,36 is very wrong as m/s #.01 m/s\n",
    "yellow_seconds = 15"
   ]
  },
  {
   "cell_type": "code",
   "execution_count": 9,
   "id": "014bd082",
   "metadata": {
    "id": "014bd082"
   },
   "outputs": [],
   "source": [
    "video_writer = None\n",
    "speedestimator = None\n",
    "screen = None\n",
    "cap = None\n",
    "DISPLAY_WIDTH = 800\n",
    "DISPLAY_HEIGHT = 450\n"
   ]
  },
  {
   "cell_type": "code",
   "execution_count": 10,
   "id": "eec7ea60",
   "metadata": {
    "id": "eec7ea60"
   },
   "outputs": [],
   "source": [
    "port = 'COM3'"
   ]
  },
  {
   "cell_type": "markdown",
   "id": "95357d1b",
   "metadata": {
    "id": "95357d1b"
   },
   "source": [
    "## Make env"
   ]
  },
  {
   "cell_type": "code",
   "execution_count": 11,
   "id": "dab5fd28",
   "metadata": {
    "id": "dab5fd28",
    "outputId": "4d700dc8-19bb-4fed-dc22-c9059a08f2e8"
   },
   "outputs": [
    {
     "data": {
      "text/plain": [
       "<module 'Connections.ProtoRealConnection' from 'i:\\\\My Drive\\\\study\\\\graduation_project\\\\final\\\\Code\\\\project_files\\\\TrafficManager\\\\TrafficManager\\\\Connections\\\\ProtoRealConnection.py'>"
      ]
     },
     "execution_count": 11,
     "metadata": {},
     "output_type": "execute_result"
    }
   ],
   "source": [
    "import importlib\n",
    "import Connections.ProtoRealConnection\n",
    "importlib.reload(Connections.ProtoRealConnection)\n"
   ]
  },
  {
   "cell_type": "code",
   "execution_count": 47,
   "id": "8ab26dd9",
   "metadata": {
    "id": "8ab26dd9"
   },
   "outputs": [],
   "source": [
    "conn = Connections.ProtoRealConnection.ProtoRealConnection(port,video_path,yolo_path,yellow_seconds,thresould_speed = thresould_speed)\n",
    "\n",
    "set_global_conn(conn)\n"
   ]
  },
  {
   "cell_type": "code",
   "execution_count": 13,
   "id": "11a68b3c",
   "metadata": {},
   "outputs": [],
   "source": [
    "model_loaded = PPO.load(\"models/high_Env_proposed_area3_test.zip\")"
   ]
  },
  {
   "cell_type": "code",
   "execution_count": 14,
   "id": "d64093cd",
   "metadata": {},
   "outputs": [
    {
     "name": "stdout",
     "output_type": "stream",
     "text": [
      "Environment reset\n"
     ]
    },
    {
     "data": {
      "text/plain": [
       "(array([          0,           0,           0,           0,           0,           0,           0], dtype=float32),\n",
       " {})"
      ]
     },
     "execution_count": 14,
     "metadata": {},
     "output_type": "execute_result"
    }
   ],
   "source": [
    "env = create_env({})  # Create the environment instance\n",
    "vec_env = DummyVecEnv([lambda: env])\n",
    "vec_env = VecNormalize(vec_env, norm_obs=True, norm_reward=False)\n",
    "\n",
    "\n",
    "env.reset()\n"
   ]
  },
  {
   "cell_type": "code",
   "execution_count": 15,
   "id": "6ef9323f",
   "metadata": {
    "id": "6ef9323f",
    "outputId": "e336df2b-c7d4-4c19-ec8f-d09807225c64"
   },
   "outputs": [
    {
     "data": {
      "text/plain": [
       "array([          0,           0,           0,           0,           0,           0,           0])"
      ]
     },
     "execution_count": 15,
     "metadata": {},
     "output_type": "execute_result"
    }
   ],
   "source": [
    "conn.getCurrentState(agent_id)"
   ]
  },
  {
   "cell_type": "code",
   "execution_count": 16,
   "id": "a12bc6d0",
   "metadata": {},
   "outputs": [],
   "source": [
    "from collections import deque\n",
    "last_3_signals = deque(maxlen = 3)#3  "
   ]
  },
  {
   "cell_type": "code",
   "execution_count": 17,
   "id": "ea69b5e7",
   "metadata": {},
   "outputs": [],
   "source": [
    "def ensure_queue_from_action(real_action):\n",
    "    if (enable_variation_action):\n",
    "        if (env._all_equal(last_3_signals)):\n",
    "                real_action = conn.inverse_action(real_action)\n",
    "                last_3_signals.append(real_action)\n",
    "                return real_action\n",
    "    \n",
    "    last_3_signals.append(real_action)\n",
    "    return real_action"
   ]
  },
  {
   "cell_type": "code",
   "execution_count": null,
   "id": "fc878810",
   "metadata": {},
   "outputs": [],
   "source": [
    "for i in range(6):\n",
    "#while (conn._ret):\n",
    "    # get state action\n",
    "    state = conn.getCurrentState(agent_id)\n",
    "    action, _states = model_loaded.predict(state, deterministic=False)\n",
    "    real_action,real_duration = env.get_real_action(int(action))\n",
    "    reward = reward_func[REWARD_TYPE](agent_id,state,real_action,real_action)\n",
    "\n",
    "    # for better performance\n",
    "    #real_duration = real_duration//10\n",
    "    real_action = ensure_queue_from_action(real_action)\n",
    "    print(real_action)\n",
    "    \n",
    "    # backend\n",
    "    record_state_to_server(state,real_action,reward)\n",
    "    \n",
    "    # execute the action\n",
    "    print(f\"state is {state}  ,action {action} = {real_action,real_duration}\")\n",
    "    #env.step(int(action))\n",
    "    #vec_env.step([int(action)])\n",
    "    conn.do_step_one_agent(agent_id, real_action, real_duration, 500, 5)\n"
   ]
  },
  {
   "cell_type": "code",
   "execution_count": 31,
   "id": "bfdc905e",
   "metadata": {},
   "outputs": [
    {
     "data": {
      "text/plain": [
       "('gggg', 15)"
      ]
     },
     "execution_count": 31,
     "metadata": {},
     "output_type": "execute_result"
    }
   ],
   "source": [
    "env.get_real_action(int(action))"
   ]
  },
  {
   "cell_type": "code",
   "execution_count": 28,
   "id": "6f4e2ada",
   "metadata": {},
   "outputs": [
    {
     "data": {
      "text/plain": [
       "array(5, dtype=int64)"
      ]
     },
     "execution_count": 28,
     "metadata": {},
     "output_type": "execute_result"
    }
   ],
   "source": [
    "action"
   ]
  },
  {
   "cell_type": "code",
   "execution_count": 26,
   "id": "4c6bf323",
   "metadata": {},
   "outputs": [
    {
     "data": {
      "text/plain": [
       "deque(['rrrr', 'gggg', 'gggg'], maxlen=3)"
      ]
     },
     "execution_count": 26,
     "metadata": {},
     "output_type": "execute_result"
    }
   ],
   "source": [
    "env.last_3_signals"
   ]
  },
  {
   "cell_type": "code",
   "execution_count": 46,
   "id": "36493f7c",
   "metadata": {},
   "outputs": [],
   "source": [
    "conn.ardinuo.close_arduino()"
   ]
  },
  {
   "cell_type": "code",
   "execution_count": 146,
   "id": "58cb7216",
   "metadata": {},
   "outputs": [
    {
     "data": {
      "text/plain": [
       "6"
      ]
     },
     "execution_count": 146,
     "metadata": {},
     "output_type": "execute_result"
    }
   ],
   "source": [
    "int(action)"
   ]
  },
  {
   "cell_type": "code",
   "execution_count": 23,
   "id": "e9f08f51",
   "metadata": {},
   "outputs": [],
   "source": [
    "import pymysql\n",
    "connection = pymysql.connect(host=\"localhost\",user=\"root\", password=\"\", database='system_state' )\n",
    "cursor = connection.cursor()\n",
    "\n",
    "def record_state_to_server(single_state,action,reward):\n",
    "    # for those rewards last action is not used so just leave it action\n",
    "\n",
    "    data = list(single_state) + [reward,action, action]\n",
    "    \n",
    "    placeholders = \", \".join([\"%s\"] * len(data))\n",
    "\n",
    "    insert_query = f\"INSERT INTO states1 VALUES ({placeholders})\"\n",
    "\n",
    "    cursor.execute(insert_query,data)\n",
    "    \n",
    "    connection.commit()\n",
    "    #connection.close()\n",
    "    \n",
    "record_state_to_server(state,action,8.3)"
   ]
  },
  {
   "cell_type": "code",
   "execution_count": null,
   "id": "ba81d3d1",
   "metadata": {},
   "outputs": [],
   "source": [
    "## Direction of speed??????? crop video ,as lane\n",
    "## Real video /other video??\n",
    "## set max to be increasing\n",
    "## d3qn try? clean with env step?ensure always yellow in middle \n",
    "## backend"
   ]
  },
  {
   "cell_type": "markdown",
   "id": "d529009c",
   "metadata": {},
   "source": [
    "## Others"
   ]
  },
  {
   "cell_type": "code",
   "execution_count": null,
   "id": "535a3e8f",
   "metadata": {
    "id": "535a3e8f"
   },
   "outputs": [],
   "source": [
    "conn.lane_video_estimatior.init_pygame()"
   ]
  },
  {
   "cell_type": "code",
   "execution_count": null,
   "id": "cd144203",
   "metadata": {
    "id": "cd144203",
    "outputId": "d75fcf82-7fee-4d7a-bf15-ba67c2a8a77e"
   },
   "outputs": [
    {
     "name": "stdout",
     "output_type": "stream",
     "text": [
      "started main loop\n"
     ]
    }
   ],
   "source": [
    "from multiprocessing import Process, Queue\n",
    "\n",
    "def thread_yolo(frame):\n",
    "    estimate = conn.lane_video_estimatior.speedestimator(frame)\n",
    "    frame = estimate.plot_im\n",
    "    spd = estimate.spd  # extract the speed value\n",
    "    print(\"thread ended after\", str(time.time() - start))\n",
    "    return frame, spd\n",
    "    \n",
    "def yolo_worker(in_q, out_q):\n",
    "    while True:\n",
    "        frame = in_q.get()\n",
    "        if frame is None:\n",
    "            break\n",
    "        result = thread_yolo(frame)    # do the heavy work\n",
    "        out_q.put(result)\n",
    "\n",
    "\n",
    "# in your setup code, once:\n",
    "in_q, out_q = Queue(), Queue()\n",
    "p = Process(target=yolo_worker, args=(in_q, out_q))\n",
    "p.daemon = True\n",
    "p.start()\n",
    "\n",
    "# in your main loop:\n",
    "for i in range(50):\n",
    "    ret, frame = conn.lane_video_estimatior.cap.read()\n",
    "    if not ret: break\n",
    "\n",
    "    if i == 0:\n",
    "        print(\"started main loop\")\n",
    "\n",
    "    # send frame off to the worker, non-blocking\n",
    "    in_q.put(frame)\n",
    "\n",
    "    # render immediately; if there's a result ready, grab it\n",
    "    if not out_q.empty():\n",
    "        yolo_result = out_q.get()\n",
    "        frame, spd = yolo_result\n",
    "\n",
    "    conn.lane_video_estimatior.render(frame)\n"
   ]
  },
  {
   "cell_type": "code",
   "execution_count": null,
   "id": "33127d45",
   "metadata": {
    "id": "33127d45"
   },
   "outputs": [],
   "source": []
  },
  {
   "cell_type": "code",
   "execution_count": null,
   "id": "428bcc53",
   "metadata": {
    "id": "428bcc53"
   },
   "outputs": [],
   "source": [
    "conn.lane_video_estimatior.intialize_Model_CV()"
   ]
  },
  {
   "cell_type": "code",
   "execution_count": 61,
   "id": "ea44b5df",
   "metadata": {
    "id": "ea44b5df",
    "outputId": "dd6b106c-48d3-4f6d-8421-f864855ed91e"
   },
   "outputs": [
    {
     "name": "stdout",
     "output_type": "stream",
     "text": [
      "Estimate speed: {}\n"
     ]
    }
   ],
   "source": [
    "# Just to verify\n",
    "frame = conn.lane_video_estimatior.cap.read()[1]\n",
    "estimate = conn.lane_video_estimatior.speedestimator(frame)\n",
    "print(\"Estimate speed:\", conn.lane_video_estimatior.speedestimator.spd)\n"
   ]
  },
  {
   "cell_type": "code",
   "execution_count": null,
   "id": "e501eca5",
   "metadata": {
    "id": "e501eca5"
   },
   "outputs": [],
   "source": [
    "import threading\n",
    "import queue\n",
    "\n",
    "in_q = queue.Queue()\n",
    "out_q = queue.Queue()\n",
    "\n",
    "def yolo_worker():\n",
    "    while True:\n",
    "        frame = in_q.get()\n",
    "        if frame is None:\n",
    "            break\n",
    "        annotated = run_yolo(frame)  # only detection, not speed\n",
    "        out_q.put(annotated)\n",
    "\n",
    "# Start thread once\n",
    "t = threading.Thread(target=yolo_worker, daemon=True)\n",
    "t.start()\n",
    "\n",
    "# Main loop\n",
    "for i in range(50):\n",
    "    ret, frame = conn.lane_video_estimatior.cap.read()\n",
    "    if not ret:\n",
    "        break\n",
    "\n",
    "    # Always run speed estimation\n",
    "    estimate = conn.lane_video_estimatior.speedestimator(frame)\n",
    "    speed = estimate.spd\n",
    "\n",
    "    # Every N frames, send frame to background thread for YOLO\n",
    "    if i % 5 == 0:\n",
    "        if not in_q.full():\n",
    "            in_q.put(frame)\n",
    "\n",
    "    # Draw detection result if ready\n",
    "    if not out_q.empty():\n",
    "        detection_frame = out_q.get()\n",
    "        conn.lane_video_estimatior.render(detection_frame)\n",
    "    else:\n",
    "        conn.lane_video_estimatior.render(estimate.plot_im)\n",
    "\n",
    "    print(f\"Speed: {speed:.2f}\")\n"
   ]
  },
  {
   "cell_type": "code",
   "execution_count": null,
   "id": "59a91a2b",
   "metadata": {
    "id": "59a91a2b",
    "outputId": "e31a3d34-9ea4-47c3-e96b-31b322fe2ae8"
   },
   "outputs": [
    {
     "data": {
      "text/plain": [
       "{}"
      ]
     },
     "execution_count": 59,
     "metadata": {},
     "output_type": "execute_result"
    }
   ],
   "source": [
    "conn.lane_video_estimatior.speedestimator.spd"
   ]
  },
  {
   "cell_type": "code",
   "execution_count": null,
   "id": "5a52d9d1",
   "metadata": {
    "id": "5a52d9d1",
    "outputId": "638863e2-93fd-4346-8616-56f580cc2706"
   },
   "outputs": [
    {
     "name": "stdout",
     "output_type": "stream",
     "text": [
      "[          0           0           0           0           0           0           0]\n"
     ]
    }
   ],
   "source": [
    "print(conn.getCurrentState(0))"
   ]
  },
  {
   "cell_type": "code",
   "execution_count": null,
   "id": "015977ec",
   "metadata": {
    "id": "015977ec",
    "outputId": "ad4e739d-1372-48a0-c2d8-2012f5497a17"
   },
   "outputs": [
    {
     "name": "stdout",
     "output_type": "stream",
     "text": [
      "thread started after 0.03598952293395996\n"
     ]
    },
    {
     "ename": "NameError",
     "evalue": "name 'threading' is not defined",
     "output_type": "error",
     "traceback": [
      "\u001b[1;31m---------------------------------------------------------------------------\u001b[0m",
      "\u001b[1;31mNameError\u001b[0m                                 Traceback (most recent call last)",
      "Cell \u001b[1;32mIn[31], line 12\u001b[0m\n\u001b[0;32m     10\u001b[0m \u001b[38;5;28;01mif\u001b[39;00m (i \u001b[38;5;241m==\u001b[39m\u001b[38;5;241m0\u001b[39m):\n\u001b[0;32m     11\u001b[0m     \u001b[38;5;28mprint\u001b[39m(\u001b[38;5;124m\"\u001b[39m\u001b[38;5;124mthread started after\u001b[39m\u001b[38;5;124m\"\u001b[39m,\u001b[38;5;28mstr\u001b[39m(time\u001b[38;5;241m.\u001b[39mtime()\u001b[38;5;241m-\u001b[39mstart))\n\u001b[1;32m---> 12\u001b[0m     th \u001b[38;5;241m=\u001b[39m  \u001b[43mthreading\u001b[49m\u001b[38;5;241m.\u001b[39mThread(target\u001b[38;5;241m=\u001b[39mthread_yolo, args\u001b[38;5;241m=\u001b[39m(frame\u001b[38;5;241m.\u001b[39mcopy(),))\n\u001b[0;32m     13\u001b[0m     \u001b[38;5;28mprint\u001b[39m(\u001b[38;5;124m\"\u001b[39m\u001b[38;5;124mthread started after\u001b[39m\u001b[38;5;124m\"\u001b[39m,\u001b[38;5;28mstr\u001b[39m(time\u001b[38;5;241m.\u001b[39mtime()\u001b[38;5;241m-\u001b[39mstart))\n\u001b[0;32m     14\u001b[0m     th\u001b[38;5;241m.\u001b[39mstart()\n",
      "\u001b[1;31mNameError\u001b[0m: name 'threading' is not defined"
     ]
    }
   ],
   "source": [
    "ه\n",
    "frame =''\n",
    "start = time.time()\n",
    "for i in range(25):\n",
    "\n",
    "    ret, frame = conn.lane_video_estimatior.cap.read()\n",
    "    if not ret:\n",
    "        print(\"end\")\n",
    "        break\n",
    "\n",
    "    if (i ==0):\n",
    "        print(\"thread started after\",str(time.time()-start))\n",
    "        th =  threading.Thread(target=thread_yolo, args=(frame.copy(),))\n",
    "        print(\"thread started after\",str(time.time()-start))\n",
    "        th.start()\n",
    "\n",
    "    conn.lane_video_estimatior.render(frame)\n",
    "    print(\"frame \",str(i),\"end \",str(time.time()-start))\n",
    "end = time.time()\n",
    "print(end-start)"
   ]
  },
  {
   "cell_type": "code",
   "execution_count": null,
   "id": "2cb1bfa6",
   "metadata": {
    "id": "2cb1bfa6"
   },
   "outputs": [],
   "source": []
  },
  {
   "cell_type": "code",
   "execution_count": null,
   "id": "14f4f3ac",
   "metadata": {
    "id": "14f4f3ac",
    "outputId": "341631a1-e922-49fe-ce19-fb56bae1a858"
   },
   "outputs": [
    {
     "data": {
      "text/plain": [
       "0.6"
      ]
     },
     "execution_count": 98,
     "metadata": {},
     "output_type": "execute_result"
    }
   ],
   "source": [
    "(1/25)*2515"
   ]
  },
  {
   "cell_type": "code",
   "execution_count": null,
   "id": "93a6cdc2",
   "metadata": {
    "id": "93a6cdc2"
   },
   "outputs": [],
   "source": []
  },
  {
   "cell_type": "code",
   "execution_count": null,
   "id": "6d5f5fbe",
   "metadata": {
    "id": "6d5f5fbe"
   },
   "outputs": [],
   "source": [
    "conn.update_video('g',1,25,estimate)"
   ]
  },
  {
   "cell_type": "code",
   "execution_count": null,
   "id": "5d566896",
   "metadata": {
    "id": "5d566896",
    "outputId": "e769a157-5df5-4337-ab0f-5ebac6659a1d"
   },
   "outputs": [
    {
     "ename": "NameError",
     "evalue": "name 'conn' is not defined",
     "output_type": "error",
     "traceback": [
      "\u001b[1;31m---------------------------------------------------------------------------\u001b[0m",
      "\u001b[1;31mNameError\u001b[0m                                 Traceback (most recent call last)",
      "Cell \u001b[1;32mIn[12], line 1\u001b[0m\n\u001b[1;32m----> 1\u001b[0m \u001b[43mconn\u001b[49m\u001b[38;5;241m.\u001b[39mardinuo\u001b[38;5;241m.\u001b[39mclose()\n",
      "\u001b[1;31mNameError\u001b[0m: name 'conn' is not defined"
     ]
    }
   ],
   "source": [
    "conn.ardinuo.close()"
   ]
  },
  {
   "cell_type": "code",
   "execution_count": null,
   "id": "fab665ee",
   "metadata": {
    "id": "fab665ee"
   },
   "outputs": [],
   "source": [
    "model_loaded = PPO.load(\"models/high_Env_proposed_area3_test.zip\")"
   ]
  },
  {
   "cell_type": "code",
   "execution_count": null,
   "id": "c8ff0566",
   "metadata": {
    "id": "c8ff0566",
    "outputId": "38868e7b-0596-4696-8bab-f05d196a2311"
   },
   "outputs": [
    {
     "name": "stdout",
     "output_type": "stream",
     "text": [
      "Environment reset\n"
     ]
    },
    {
     "data": {
      "text/plain": [
       "(array([          0,           0,           0,           0,           0,           0,           0], dtype=float32),\n",
       " {})"
      ]
     },
     "execution_count": 42,
     "metadata": {},
     "output_type": "execute_result"
    }
   ],
   "source": [
    "env = create_env({})  # Create the environment instance\n",
    "vec_env = DummyVecEnv([lambda: env])\n",
    "vec_env = VecNormalize(vec_env, norm_obs=True, norm_reward=False)\n",
    "\n",
    "\n",
    "env.reset()\n",
    "## Direction of speed??????? crop video ,as lane\n",
    "## Real video /other video??"
   ]
  },
  {
   "cell_type": "code",
   "execution_count": null,
   "id": "57b18ac3",
   "metadata": {
    "id": "57b18ac3"
   },
   "outputs": [],
   "source": [
    "## Direction of speed??????? crop video ,as lane\n",
    "## Real video /other video??\n",
    "## thresould may be .1 as sumo\n",
    "## as sumo waiting time is accumalted ,even in signal\n",
    "## modify waiting ,to not forget ? ,or remove only them at get ???\n",
    "## solution to time processing problem"
   ]
  },
  {
   "cell_type": "code",
   "execution_count": null,
   "id": "b167a2b7",
   "metadata": {
    "id": "b167a2b7"
   },
   "outputs": [],
   "source": []
  },
  {
   "cell_type": "code",
   "execution_count": null,
   "id": "266f706a",
   "metadata": {
    "id": "266f706a",
    "outputId": "20c71e90-14e2-49de-a672-73176751cccd"
   },
   "outputs": [
    {
     "name": "stdout",
     "output_type": "stream",
     "text": [
      "state is [      14.63      127.09      11.044      3.0277         225           9           1]  ,action 5 = ('gggg', 30)\n",
      "[      12.12       12.12       12.12       12.12       12.12       12.12       10.96        7.96        7.76]\n",
      "8.868475437164307\n",
      "state is [      13.25      131.51       10.92      14.104         250          10           1]  ,action 0 = ('rrrr', 15)\n",
      "[      13.12       13.12       13.12       13.12       13.12       13.12       11.96        8.96        8.76         0.8]\n",
      "10.006856441497803\n",
      "state is [      13.25      131.51       11.92      14.104         250          10           1]  ,action 7 = ('gggg', 90)\n",
      "[      14.12       14.12       14.12       14.12       14.12       14.12       12.96        9.96        9.76         1.8]\n"
     ]
    },
    {
     "ename": "KeyboardInterrupt",
     "evalue": "",
     "output_type": "error",
     "traceback": [
      "\u001b[1;31m---------------------------------------------------------------------------\u001b[0m",
      "\u001b[1;31mKeyboardInterrupt\u001b[0m                         Traceback (most recent call last)",
      "Cell \u001b[1;32mIn[40], line 28\u001b[0m\n\u001b[0;32m     26\u001b[0m start \u001b[38;5;241m=\u001b[39mtime\u001b[38;5;241m.\u001b[39mtime()\n\u001b[0;32m     27\u001b[0m \u001b[38;5;28mprint\u001b[39m(get_waiting_video(speedestimator,fps))\n\u001b[1;32m---> 28\u001b[0m ret,frame \u001b[38;5;241m=\u001b[39m \u001b[43mupdate_video\u001b[49m\u001b[43m(\u001b[49m\u001b[43mlast_real_action\u001b[49m\u001b[43m,\u001b[49m\u001b[38;5;241;43m1\u001b[39;49m\u001b[43m,\u001b[49m\u001b[43mfps\u001b[49m\u001b[43m,\u001b[49m\u001b[43mret\u001b[49m\u001b[43m,\u001b[49m\u001b[43mframe\u001b[49m\u001b[43m)\u001b[49m\n\u001b[0;32m     29\u001b[0m end \u001b[38;5;241m=\u001b[39mtime\u001b[38;5;241m.\u001b[39mtime()\n\u001b[0;32m     30\u001b[0m \u001b[38;5;28mprint\u001b[39m(end\u001b[38;5;241m-\u001b[39mstart)\n",
      "Cell \u001b[1;32mIn[38], line 10\u001b[0m, in \u001b[0;36mupdate_video\u001b[1;34m(action, duration, fps, ret, frame)\u001b[0m\n\u001b[0;32m      7\u001b[0m     \u001b[38;5;28mprint\u001b[39m(\u001b[38;5;124m\"\u001b[39m\u001b[38;5;124mend\u001b[39m\u001b[38;5;124m\"\u001b[39m)\n\u001b[0;32m      8\u001b[0m   \u001b[38;5;66;03m# break\u001b[39;00m\n\u001b[1;32m---> 10\u001b[0m estimate \u001b[38;5;241m=\u001b[39m \u001b[43mspeedestimator\u001b[49m\u001b[43m(\u001b[49m\u001b[43mframe_vid\u001b[49m\u001b[43m)\u001b[49m\n\u001b[0;32m     11\u001b[0m frame \u001b[38;5;241m=\u001b[39m estimate\u001b[38;5;241m.\u001b[39mplot_im\n\u001b[0;32m     12\u001b[0m render(frame)\n",
      "File \u001b[1;32mc:\\Users\\LapStore\\AppData\\Local\\Programs\\Python\\Python311\\Lib\\site-packages\\ultralytics\\solutions\\solutions.py:214\u001b[0m, in \u001b[0;36mBaseSolution.__call__\u001b[1;34m(self, *args, **kwargs)\u001b[0m\n\u001b[0;32m    212\u001b[0m \u001b[38;5;28;01mdef\u001b[39;00m \u001b[38;5;21m__call__\u001b[39m(\u001b[38;5;28mself\u001b[39m, \u001b[38;5;241m*\u001b[39margs, \u001b[38;5;241m*\u001b[39m\u001b[38;5;241m*\u001b[39mkwargs):\n\u001b[0;32m    213\u001b[0m \u001b[38;5;250m    \u001b[39m\u001b[38;5;124;03m\"\"\"Allow instances to be called like a function with flexible arguments.\"\"\"\u001b[39;00m\n\u001b[1;32m--> 214\u001b[0m     result \u001b[38;5;241m=\u001b[39m \u001b[38;5;28;43mself\u001b[39;49m\u001b[38;5;241;43m.\u001b[39;49m\u001b[43mprocess\u001b[49m\u001b[43m(\u001b[49m\u001b[38;5;241;43m*\u001b[39;49m\u001b[43margs\u001b[49m\u001b[43m,\u001b[49m\u001b[43m \u001b[49m\u001b[38;5;241;43m*\u001b[39;49m\u001b[38;5;241;43m*\u001b[39;49m\u001b[43mkwargs\u001b[49m\u001b[43m)\u001b[49m  \u001b[38;5;66;03m# Call the subclass-specific process method\u001b[39;00m\n\u001b[0;32m    215\u001b[0m     \u001b[38;5;28;01mif\u001b[39;00m \u001b[38;5;28mself\u001b[39m\u001b[38;5;241m.\u001b[39mCFG[\u001b[38;5;124m\"\u001b[39m\u001b[38;5;124mverbose\u001b[39m\u001b[38;5;124m\"\u001b[39m]:  \u001b[38;5;66;03m# extract verbose value to display the output logs if True\u001b[39;00m\n\u001b[0;32m    216\u001b[0m         LOGGER\u001b[38;5;241m.\u001b[39minfo(\u001b[38;5;124mf\u001b[39m\u001b[38;5;124m\"\u001b[39m\u001b[38;5;124m🚀 Results: \u001b[39m\u001b[38;5;132;01m{\u001b[39;00mresult\u001b[38;5;132;01m}\u001b[39;00m\u001b[38;5;124m\"\u001b[39m)\n",
      "File \u001b[1;32mc:\\Users\\LapStore\\AppData\\Local\\Programs\\Python\\Python311\\Lib\\site-packages\\ultralytics\\solutions\\speed_estimation.py:73\u001b[0m, in \u001b[0;36mSpeedEstimator.process\u001b[1;34m(self, im0)\u001b[0m\n\u001b[0;32m     58\u001b[0m \u001b[38;5;250m\u001b[39m\u001b[38;5;124;03m\"\"\"\u001b[39;00m\n\u001b[0;32m     59\u001b[0m \u001b[38;5;124;03mProcess an input frame to estimate object speeds based on tracking data.\u001b[39;00m\n\u001b[0;32m     60\u001b[0m \n\u001b[1;32m   (...)\u001b[0m\n\u001b[0;32m     70\u001b[0m \u001b[38;5;124;03m    >>> results = estimator.process(image)\u001b[39;00m\n\u001b[0;32m     71\u001b[0m \u001b[38;5;124;03m\"\"\"\u001b[39;00m\n\u001b[0;32m     72\u001b[0m \u001b[38;5;28mself\u001b[39m\u001b[38;5;241m.\u001b[39mframe_count \u001b[38;5;241m+\u001b[39m\u001b[38;5;241m=\u001b[39m \u001b[38;5;241m1\u001b[39m\n\u001b[1;32m---> 73\u001b[0m \u001b[38;5;28;43mself\u001b[39;49m\u001b[38;5;241;43m.\u001b[39;49m\u001b[43mextract_tracks\u001b[49m\u001b[43m(\u001b[49m\u001b[43mim0\u001b[49m\u001b[43m)\u001b[49m\n\u001b[0;32m     74\u001b[0m annotator \u001b[38;5;241m=\u001b[39m SolutionAnnotator(im0, line_width\u001b[38;5;241m=\u001b[39m\u001b[38;5;28mself\u001b[39m\u001b[38;5;241m.\u001b[39mline_width)\n\u001b[0;32m     76\u001b[0m \u001b[38;5;28;01mfor\u001b[39;00m box, track_id, _, _ \u001b[38;5;129;01min\u001b[39;00m \u001b[38;5;28mzip\u001b[39m(\u001b[38;5;28mself\u001b[39m\u001b[38;5;241m.\u001b[39mboxes, \u001b[38;5;28mself\u001b[39m\u001b[38;5;241m.\u001b[39mtrack_ids, \u001b[38;5;28mself\u001b[39m\u001b[38;5;241m.\u001b[39mclss, \u001b[38;5;28mself\u001b[39m\u001b[38;5;241m.\u001b[39mconfs):\n",
      "File \u001b[1;32mc:\\Users\\LapStore\\AppData\\Local\\Programs\\Python\\Python311\\Lib\\site-packages\\ultralytics\\solutions\\solutions.py:138\u001b[0m, in \u001b[0;36mBaseSolution.extract_tracks\u001b[1;34m(self, im0)\u001b[0m\n\u001b[0;32m    126\u001b[0m \u001b[38;5;28;01mdef\u001b[39;00m \u001b[38;5;21mextract_tracks\u001b[39m(\u001b[38;5;28mself\u001b[39m, im0):\n\u001b[0;32m    127\u001b[0m \u001b[38;5;250m    \u001b[39m\u001b[38;5;124;03m\"\"\"\u001b[39;00m\n\u001b[0;32m    128\u001b[0m \u001b[38;5;124;03m    Applies object tracking and extracts tracks from an input image or frame.\u001b[39;00m\n\u001b[0;32m    129\u001b[0m \n\u001b[1;32m   (...)\u001b[0m\n\u001b[0;32m    136\u001b[0m \u001b[38;5;124;03m        >>> solution.extract_tracks(frame)\u001b[39;00m\n\u001b[0;32m    137\u001b[0m \u001b[38;5;124;03m    \"\"\"\u001b[39;00m\n\u001b[1;32m--> 138\u001b[0m     \u001b[38;5;28mself\u001b[39m\u001b[38;5;241m.\u001b[39mtracks \u001b[38;5;241m=\u001b[39m \u001b[38;5;28;43mself\u001b[39;49m\u001b[38;5;241;43m.\u001b[39;49m\u001b[43mmodel\u001b[49m\u001b[38;5;241;43m.\u001b[39;49m\u001b[43mtrack\u001b[49m\u001b[43m(\u001b[49m\u001b[43msource\u001b[49m\u001b[38;5;241;43m=\u001b[39;49m\u001b[43mim0\u001b[49m\u001b[43m,\u001b[49m\u001b[43m \u001b[49m\u001b[43mpersist\u001b[49m\u001b[38;5;241;43m=\u001b[39;49m\u001b[38;5;28;43;01mTrue\u001b[39;49;00m\u001b[43m,\u001b[49m\u001b[43m \u001b[49m\u001b[43mclasses\u001b[49m\u001b[38;5;241;43m=\u001b[39;49m\u001b[38;5;28;43mself\u001b[39;49m\u001b[38;5;241;43m.\u001b[39;49m\u001b[43mclasses\u001b[49m\u001b[43m,\u001b[49m\u001b[43m \u001b[49m\u001b[38;5;241;43m*\u001b[39;49m\u001b[38;5;241;43m*\u001b[39;49m\u001b[38;5;28;43mself\u001b[39;49m\u001b[38;5;241;43m.\u001b[39;49m\u001b[43mtrack_add_args\u001b[49m\u001b[43m)\u001b[49m\n\u001b[0;32m    139\u001b[0m     \u001b[38;5;28mself\u001b[39m\u001b[38;5;241m.\u001b[39mtrack_data \u001b[38;5;241m=\u001b[39m \u001b[38;5;28mself\u001b[39m\u001b[38;5;241m.\u001b[39mtracks[\u001b[38;5;241m0\u001b[39m]\u001b[38;5;241m.\u001b[39mobb \u001b[38;5;129;01mor\u001b[39;00m \u001b[38;5;28mself\u001b[39m\u001b[38;5;241m.\u001b[39mtracks[\u001b[38;5;241m0\u001b[39m]\u001b[38;5;241m.\u001b[39mboxes  \u001b[38;5;66;03m# Extract tracks for OBB or object detection\u001b[39;00m\n\u001b[0;32m    141\u001b[0m     \u001b[38;5;28mself\u001b[39m\u001b[38;5;241m.\u001b[39mmasks \u001b[38;5;241m=\u001b[39m (\n\u001b[0;32m    142\u001b[0m         \u001b[38;5;28mself\u001b[39m\u001b[38;5;241m.\u001b[39mtracks[\u001b[38;5;241m0\u001b[39m]\u001b[38;5;241m.\u001b[39mmasks \u001b[38;5;28;01mif\u001b[39;00m \u001b[38;5;28mhasattr\u001b[39m(\u001b[38;5;28mself\u001b[39m\u001b[38;5;241m.\u001b[39mtracks[\u001b[38;5;241m0\u001b[39m], \u001b[38;5;124m\"\u001b[39m\u001b[38;5;124mmasks\u001b[39m\u001b[38;5;124m\"\u001b[39m) \u001b[38;5;129;01mand\u001b[39;00m \u001b[38;5;28mself\u001b[39m\u001b[38;5;241m.\u001b[39mtracks[\u001b[38;5;241m0\u001b[39m]\u001b[38;5;241m.\u001b[39mmasks \u001b[38;5;129;01mis\u001b[39;00m \u001b[38;5;129;01mnot\u001b[39;00m \u001b[38;5;28;01mNone\u001b[39;00m \u001b[38;5;28;01melse\u001b[39;00m \u001b[38;5;28;01mNone\u001b[39;00m\n\u001b[0;32m    143\u001b[0m     )\n",
      "File \u001b[1;32mc:\\Users\\LapStore\\AppData\\Local\\Programs\\Python\\Python311\\Lib\\site-packages\\ultralytics\\engine\\model.py:596\u001b[0m, in \u001b[0;36mModel.track\u001b[1;34m(self, source, stream, persist, **kwargs)\u001b[0m\n\u001b[0;32m    594\u001b[0m kwargs[\u001b[38;5;124m\"\u001b[39m\u001b[38;5;124mbatch\u001b[39m\u001b[38;5;124m\"\u001b[39m] \u001b[38;5;241m=\u001b[39m kwargs\u001b[38;5;241m.\u001b[39mget(\u001b[38;5;124m\"\u001b[39m\u001b[38;5;124mbatch\u001b[39m\u001b[38;5;124m\"\u001b[39m) \u001b[38;5;129;01mor\u001b[39;00m \u001b[38;5;241m1\u001b[39m  \u001b[38;5;66;03m# batch-size 1 for tracking in videos\u001b[39;00m\n\u001b[0;32m    595\u001b[0m kwargs[\u001b[38;5;124m\"\u001b[39m\u001b[38;5;124mmode\u001b[39m\u001b[38;5;124m\"\u001b[39m] \u001b[38;5;241m=\u001b[39m \u001b[38;5;124m\"\u001b[39m\u001b[38;5;124mtrack\u001b[39m\u001b[38;5;124m\"\u001b[39m\n\u001b[1;32m--> 596\u001b[0m \u001b[38;5;28;01mreturn\u001b[39;00m \u001b[38;5;28;43mself\u001b[39;49m\u001b[38;5;241;43m.\u001b[39;49m\u001b[43mpredict\u001b[49m\u001b[43m(\u001b[49m\u001b[43msource\u001b[49m\u001b[38;5;241;43m=\u001b[39;49m\u001b[43msource\u001b[49m\u001b[43m,\u001b[49m\u001b[43m \u001b[49m\u001b[43mstream\u001b[49m\u001b[38;5;241;43m=\u001b[39;49m\u001b[43mstream\u001b[49m\u001b[43m,\u001b[49m\u001b[43m \u001b[49m\u001b[38;5;241;43m*\u001b[39;49m\u001b[38;5;241;43m*\u001b[39;49m\u001b[43mkwargs\u001b[49m\u001b[43m)\u001b[49m\n",
      "File \u001b[1;32mc:\\Users\\LapStore\\AppData\\Local\\Programs\\Python\\Python311\\Lib\\site-packages\\ultralytics\\engine\\model.py:552\u001b[0m, in \u001b[0;36mModel.predict\u001b[1;34m(self, source, stream, predictor, **kwargs)\u001b[0m\n\u001b[0;32m    550\u001b[0m \u001b[38;5;28;01mif\u001b[39;00m prompts \u001b[38;5;129;01mand\u001b[39;00m \u001b[38;5;28mhasattr\u001b[39m(\u001b[38;5;28mself\u001b[39m\u001b[38;5;241m.\u001b[39mpredictor, \u001b[38;5;124m\"\u001b[39m\u001b[38;5;124mset_prompts\u001b[39m\u001b[38;5;124m\"\u001b[39m):  \u001b[38;5;66;03m# for SAM-type models\u001b[39;00m\n\u001b[0;32m    551\u001b[0m     \u001b[38;5;28mself\u001b[39m\u001b[38;5;241m.\u001b[39mpredictor\u001b[38;5;241m.\u001b[39mset_prompts(prompts)\n\u001b[1;32m--> 552\u001b[0m \u001b[38;5;28;01mreturn\u001b[39;00m \u001b[38;5;28mself\u001b[39m\u001b[38;5;241m.\u001b[39mpredictor\u001b[38;5;241m.\u001b[39mpredict_cli(source\u001b[38;5;241m=\u001b[39msource) \u001b[38;5;28;01mif\u001b[39;00m is_cli \u001b[38;5;28;01melse\u001b[39;00m \u001b[38;5;28;43mself\u001b[39;49m\u001b[38;5;241;43m.\u001b[39;49m\u001b[43mpredictor\u001b[49m\u001b[43m(\u001b[49m\u001b[43msource\u001b[49m\u001b[38;5;241;43m=\u001b[39;49m\u001b[43msource\u001b[49m\u001b[43m,\u001b[49m\u001b[43m \u001b[49m\u001b[43mstream\u001b[49m\u001b[38;5;241;43m=\u001b[39;49m\u001b[43mstream\u001b[49m\u001b[43m)\u001b[49m\n",
      "File \u001b[1;32mc:\\Users\\LapStore\\AppData\\Local\\Programs\\Python\\Python311\\Lib\\site-packages\\ultralytics\\engine\\predictor.py:218\u001b[0m, in \u001b[0;36mBasePredictor.__call__\u001b[1;34m(self, source, model, stream, *args, **kwargs)\u001b[0m\n\u001b[0;32m    216\u001b[0m     \u001b[38;5;28;01mreturn\u001b[39;00m \u001b[38;5;28mself\u001b[39m\u001b[38;5;241m.\u001b[39mstream_inference(source, model, \u001b[38;5;241m*\u001b[39margs, \u001b[38;5;241m*\u001b[39m\u001b[38;5;241m*\u001b[39mkwargs)\n\u001b[0;32m    217\u001b[0m \u001b[38;5;28;01melse\u001b[39;00m:\n\u001b[1;32m--> 218\u001b[0m     \u001b[38;5;28;01mreturn\u001b[39;00m \u001b[38;5;28mlist\u001b[39m(\u001b[38;5;28mself\u001b[39m\u001b[38;5;241m.\u001b[39mstream_inference(source, model, \u001b[38;5;241m*\u001b[39margs, \u001b[38;5;241m*\u001b[39m\u001b[38;5;241m*\u001b[39mkwargs))\n",
      "File \u001b[1;32mc:\\Users\\LapStore\\AppData\\Local\\Programs\\Python\\Python311\\Lib\\site-packages\\torch\\utils\\_contextlib.py:36\u001b[0m, in \u001b[0;36m_wrap_generator.<locals>.generator_context\u001b[1;34m(*args, **kwargs)\u001b[0m\n\u001b[0;32m     33\u001b[0m \u001b[38;5;28;01mtry\u001b[39;00m:\n\u001b[0;32m     34\u001b[0m     \u001b[38;5;66;03m# Issuing `None` to a generator fires it up\u001b[39;00m\n\u001b[0;32m     35\u001b[0m     \u001b[38;5;28;01mwith\u001b[39;00m ctx_factory():\n\u001b[1;32m---> 36\u001b[0m         response \u001b[38;5;241m=\u001b[39m gen\u001b[38;5;241m.\u001b[39msend(\u001b[38;5;28;01mNone\u001b[39;00m)\n\u001b[0;32m     38\u001b[0m     \u001b[38;5;28;01mwhile\u001b[39;00m \u001b[38;5;28;01mTrue\u001b[39;00m:\n\u001b[0;32m     39\u001b[0m         \u001b[38;5;28;01mtry\u001b[39;00m:\n\u001b[0;32m     40\u001b[0m             \u001b[38;5;66;03m# Forward the response to our caller and get its next request\u001b[39;00m\n",
      "File \u001b[1;32mc:\\Users\\LapStore\\AppData\\Local\\Programs\\Python\\Python311\\Lib\\site-packages\\ultralytics\\engine\\predictor.py:337\u001b[0m, in \u001b[0;36mBasePredictor.stream_inference\u001b[1;34m(self, source, model, *args, **kwargs)\u001b[0m\n\u001b[0;32m    335\u001b[0m \u001b[38;5;28;01mwith\u001b[39;00m profilers[\u001b[38;5;241m2\u001b[39m]:\n\u001b[0;32m    336\u001b[0m     \u001b[38;5;28mself\u001b[39m\u001b[38;5;241m.\u001b[39mresults \u001b[38;5;241m=\u001b[39m \u001b[38;5;28mself\u001b[39m\u001b[38;5;241m.\u001b[39mpostprocess(preds, im, im0s)\n\u001b[1;32m--> 337\u001b[0m \u001b[38;5;28;43mself\u001b[39;49m\u001b[38;5;241;43m.\u001b[39;49m\u001b[43mrun_callbacks\u001b[49m\u001b[43m(\u001b[49m\u001b[38;5;124;43m\"\u001b[39;49m\u001b[38;5;124;43mon_predict_postprocess_end\u001b[39;49m\u001b[38;5;124;43m\"\u001b[39;49m\u001b[43m)\u001b[49m\n\u001b[0;32m    339\u001b[0m \u001b[38;5;66;03m# Visualize, save, write results\u001b[39;00m\n\u001b[0;32m    340\u001b[0m n \u001b[38;5;241m=\u001b[39m \u001b[38;5;28mlen\u001b[39m(im0s)\n",
      "File \u001b[1;32mc:\\Users\\LapStore\\AppData\\Local\\Programs\\Python\\Python311\\Lib\\site-packages\\ultralytics\\engine\\predictor.py:497\u001b[0m, in \u001b[0;36mBasePredictor.run_callbacks\u001b[1;34m(self, event)\u001b[0m\n\u001b[0;32m    495\u001b[0m \u001b[38;5;250m\u001b[39m\u001b[38;5;124;03m\"\"\"Run all registered callbacks for a specific event.\"\"\"\u001b[39;00m\n\u001b[0;32m    496\u001b[0m \u001b[38;5;28;01mfor\u001b[39;00m callback \u001b[38;5;129;01min\u001b[39;00m \u001b[38;5;28mself\u001b[39m\u001b[38;5;241m.\u001b[39mcallbacks\u001b[38;5;241m.\u001b[39mget(event, []):\n\u001b[1;32m--> 497\u001b[0m     \u001b[43mcallback\u001b[49m\u001b[43m(\u001b[49m\u001b[38;5;28;43mself\u001b[39;49m\u001b[43m)\u001b[49m\n",
      "File \u001b[1;32mc:\\Users\\LapStore\\AppData\\Local\\Programs\\Python\\Python311\\Lib\\site-packages\\ultralytics\\trackers\\track.py:101\u001b[0m, in \u001b[0;36mon_predict_postprocess_end\u001b[1;34m(predictor, persist)\u001b[0m\n\u001b[0;32m     99\u001b[0m \u001b[38;5;28;01mif\u001b[39;00m \u001b[38;5;28mlen\u001b[39m(det) \u001b[38;5;241m==\u001b[39m \u001b[38;5;241m0\u001b[39m:\n\u001b[0;32m    100\u001b[0m     \u001b[38;5;28;01mcontinue\u001b[39;00m\n\u001b[1;32m--> 101\u001b[0m tracks \u001b[38;5;241m=\u001b[39m \u001b[43mtracker\u001b[49m\u001b[38;5;241;43m.\u001b[39;49m\u001b[43mupdate\u001b[49m\u001b[43m(\u001b[49m\u001b[43mdet\u001b[49m\u001b[43m,\u001b[49m\u001b[43m \u001b[49m\u001b[43mresult\u001b[49m\u001b[38;5;241;43m.\u001b[39;49m\u001b[43morig_img\u001b[49m\u001b[43m,\u001b[49m\u001b[43m \u001b[49m\u001b[38;5;28;43mgetattr\u001b[39;49m\u001b[43m(\u001b[49m\u001b[43mresult\u001b[49m\u001b[43m,\u001b[49m\u001b[43m \u001b[49m\u001b[38;5;124;43m\"\u001b[39;49m\u001b[38;5;124;43mfeats\u001b[39;49m\u001b[38;5;124;43m\"\u001b[39;49m\u001b[43m,\u001b[49m\u001b[43m \u001b[49m\u001b[38;5;28;43;01mNone\u001b[39;49;00m\u001b[43m)\u001b[49m\u001b[43m)\u001b[49m\n\u001b[0;32m    102\u001b[0m \u001b[38;5;28;01mif\u001b[39;00m \u001b[38;5;28mlen\u001b[39m(tracks) \u001b[38;5;241m==\u001b[39m \u001b[38;5;241m0\u001b[39m:\n\u001b[0;32m    103\u001b[0m     \u001b[38;5;28;01mcontinue\u001b[39;00m\n",
      "File \u001b[1;32mc:\\Users\\LapStore\\AppData\\Local\\Programs\\Python\\Python311\\Lib\\site-packages\\ultralytics\\trackers\\byte_tracker.py:333\u001b[0m, in \u001b[0;36mBYTETracker.update\u001b[1;34m(self, results, img, feats)\u001b[0m\n\u001b[0;32m    331\u001b[0m \u001b[38;5;28mself\u001b[39m\u001b[38;5;241m.\u001b[39mmulti_predict(strack_pool)\n\u001b[0;32m    332\u001b[0m \u001b[38;5;28;01mif\u001b[39;00m \u001b[38;5;28mhasattr\u001b[39m(\u001b[38;5;28mself\u001b[39m, \u001b[38;5;124m\"\u001b[39m\u001b[38;5;124mgmc\u001b[39m\u001b[38;5;124m\"\u001b[39m) \u001b[38;5;129;01mand\u001b[39;00m img \u001b[38;5;129;01mis\u001b[39;00m \u001b[38;5;129;01mnot\u001b[39;00m \u001b[38;5;28;01mNone\u001b[39;00m:\n\u001b[1;32m--> 333\u001b[0m     warp \u001b[38;5;241m=\u001b[39m \u001b[38;5;28;43mself\u001b[39;49m\u001b[38;5;241;43m.\u001b[39;49m\u001b[43mgmc\u001b[49m\u001b[38;5;241;43m.\u001b[39;49m\u001b[43mapply\u001b[49m\u001b[43m(\u001b[49m\u001b[43mimg\u001b[49m\u001b[43m,\u001b[49m\u001b[43m \u001b[49m\u001b[43mdets\u001b[49m\u001b[43m)\u001b[49m\n\u001b[0;32m    334\u001b[0m     STrack\u001b[38;5;241m.\u001b[39mmulti_gmc(strack_pool, warp)\n\u001b[0;32m    335\u001b[0m     STrack\u001b[38;5;241m.\u001b[39mmulti_gmc(unconfirmed, warp)\n",
      "File \u001b[1;32mc:\\Users\\LapStore\\AppData\\Local\\Programs\\Python\\Python311\\Lib\\site-packages\\ultralytics\\trackers\\utils\\gmc.py:114\u001b[0m, in \u001b[0;36mGMC.apply\u001b[1;34m(self, raw_frame, detections)\u001b[0m\n\u001b[0;32m    112\u001b[0m     \u001b[38;5;28;01mreturn\u001b[39;00m \u001b[38;5;28mself\u001b[39m\u001b[38;5;241m.\u001b[39mapply_ecc(raw_frame)\n\u001b[0;32m    113\u001b[0m \u001b[38;5;28;01melif\u001b[39;00m \u001b[38;5;28mself\u001b[39m\u001b[38;5;241m.\u001b[39mmethod \u001b[38;5;241m==\u001b[39m \u001b[38;5;124m\"\u001b[39m\u001b[38;5;124msparseOptFlow\u001b[39m\u001b[38;5;124m\"\u001b[39m:\n\u001b[1;32m--> 114\u001b[0m     \u001b[38;5;28;01mreturn\u001b[39;00m \u001b[38;5;28;43mself\u001b[39;49m\u001b[38;5;241;43m.\u001b[39;49m\u001b[43mapply_sparseoptflow\u001b[49m\u001b[43m(\u001b[49m\u001b[43mraw_frame\u001b[49m\u001b[43m)\u001b[49m\n\u001b[0;32m    115\u001b[0m \u001b[38;5;28;01melse\u001b[39;00m:\n\u001b[0;32m    116\u001b[0m     \u001b[38;5;28;01mreturn\u001b[39;00m np\u001b[38;5;241m.\u001b[39meye(\u001b[38;5;241m2\u001b[39m, \u001b[38;5;241m3\u001b[39m)\n",
      "File \u001b[1;32mc:\\Users\\LapStore\\AppData\\Local\\Programs\\Python\\Python311\\Lib\\site-packages\\ultralytics\\trackers\\utils\\gmc.py:332\u001b[0m, in \u001b[0;36mGMC.apply_sparseoptflow\u001b[1;34m(self, raw_frame)\u001b[0m\n\u001b[0;32m    329\u001b[0m     frame \u001b[38;5;241m=\u001b[39m cv2\u001b[38;5;241m.\u001b[39mresize(frame, (width \u001b[38;5;241m/\u001b[39m\u001b[38;5;241m/\u001b[39m \u001b[38;5;28mself\u001b[39m\u001b[38;5;241m.\u001b[39mdownscale, height \u001b[38;5;241m/\u001b[39m\u001b[38;5;241m/\u001b[39m \u001b[38;5;28mself\u001b[39m\u001b[38;5;241m.\u001b[39mdownscale))\n\u001b[0;32m    331\u001b[0m \u001b[38;5;66;03m# Find the keypoints\u001b[39;00m\n\u001b[1;32m--> 332\u001b[0m keypoints \u001b[38;5;241m=\u001b[39m \u001b[43mcv2\u001b[49m\u001b[38;5;241;43m.\u001b[39;49m\u001b[43mgoodFeaturesToTrack\u001b[49m\u001b[43m(\u001b[49m\u001b[43mframe\u001b[49m\u001b[43m,\u001b[49m\u001b[43m \u001b[49m\u001b[43mmask\u001b[49m\u001b[38;5;241;43m=\u001b[39;49m\u001b[38;5;28;43;01mNone\u001b[39;49;00m\u001b[43m,\u001b[49m\u001b[43m \u001b[49m\u001b[38;5;241;43m*\u001b[39;49m\u001b[38;5;241;43m*\u001b[39;49m\u001b[38;5;28;43mself\u001b[39;49m\u001b[38;5;241;43m.\u001b[39;49m\u001b[43mfeature_params\u001b[49m\u001b[43m)\u001b[49m\n\u001b[0;32m    334\u001b[0m \u001b[38;5;66;03m# Handle first frame\u001b[39;00m\n\u001b[0;32m    335\u001b[0m \u001b[38;5;28;01mif\u001b[39;00m \u001b[38;5;129;01mnot\u001b[39;00m \u001b[38;5;28mself\u001b[39m\u001b[38;5;241m.\u001b[39minitializedFirstFrame \u001b[38;5;129;01mor\u001b[39;00m \u001b[38;5;28mself\u001b[39m\u001b[38;5;241m.\u001b[39mprevKeyPoints \u001b[38;5;129;01mis\u001b[39;00m \u001b[38;5;28;01mNone\u001b[39;00m:\n",
      "\u001b[1;31mKeyboardInterrupt\u001b[0m: "
     ]
    }
   ],
   "source": [
    "### Need test and revision\n",
    "last_real_action = 'r'\n",
    "frame = None\n",
    "ret = None\n",
    "ret,frame = conn.update_video('g',1,25,estimate)\n",
    "yellow_time  = 2\n",
    "ardinuo_time = .5\n",
    "for i in range(7):\n",
    "    # next for one step (equal duration)\n",
    "            if not ret :\n",
    "                    print(\"end\")\n",
    "                    break\n",
    "\n",
    "\n",
    "            #if (use_model):\n",
    "\n",
    "\n",
    "            state = conn.getCurrentState(agent_id)\n",
    "            action, _states = model_loaded.predict(state, deterministic=False)\n",
    "            real_action,real_duration = env.get_real_action(int(action))\n",
    "            real_duration = real_duration /4\n",
    "            print(f\"state is {state}  ,action {action} = {real_action,real_duration}\")\n",
    "\n",
    "\n",
    "            #pygame.time.delay(1)\n",
    "            #use_model = False #---------> real_duration * fps\n",
    "            action_lane_1 = real_action[0]\n",
    "\n",
    "\n",
    "            # perform action\n",
    "            time_to_apply = real_duration // conn.lane_video_estimatior.one_frame_processing\n",
    "\n",
    "            if last_real_action == action_lane_1:\n",
    "                start = time.time()\n",
    "                conn.ardinuo.send_command(arduino, action_lane_1,one_second_processing*time_to_apply)\n",
    "                ret,frame = update_video(action_lane_1,time_to_apply,fps,ret,frame)\n",
    "                end =time.time()\n",
    "                time.sleep (1+ one_second_processing*time_to_apply -(end-start))\n",
    "                print(f\"action {action_lane_1} is ended after {end-start}\")\n",
    "\n",
    "            else:\n",
    "                start =time.time()\n",
    "                send_command(arduino, 'y',one_second_processing*yellow_time)\n",
    "                ret,frame = update_video('y',yellow_time,fps,ret,frame)\n",
    "                end =time.time()\n",
    "                time.sleep (1+one_second_processing*time_to_apply-(end-start))\n",
    "                print(f\"action y is ended after {end-start}\")\n",
    "\n",
    "                start =time.time()\n",
    "                send_command(arduino, action_lane_1,one_second_processing*time_to_apply)\n",
    "                ret,frame = update_video(action_lane_1,time_to_apply,fps,ret,frame)\n",
    "                end =time.time()\n",
    "                time.sleep (1+one_second_processing*time_to_apply-(end-start))\n",
    "                print(f\"action {action_lane_1} is ended after {end-start}\")\n",
    "\n",
    "\n",
    "            last_real_action = action_lane_1\n"
   ]
  },
  {
   "cell_type": "code",
   "execution_count": null,
   "id": "c1cff043",
   "metadata": {
    "id": "c1cff043",
    "outputId": "0c68940a-36c2-4f78-ec4b-cb6a81793cd4"
   },
   "outputs": [
    {
     "name": "stdout",
     "output_type": "stream",
     "text": [
      "state is [     11.175       145.8         0.2  7.7037e-34         325          13           1]  ,action 3 = ('rrrr', 90)\n",
      "state is [     11.175       145.8        0.24  3.0815e-33         325          13           1]  ,action 4 = ('gggg', 15)\n",
      "state is [     11.175       145.8        0.24  3.0815e-33         325          13           1]  ,action 3 = ('rrrr', 90)\n",
      "state is [     11.175       145.8        0.24  3.0815e-33         325          13           1]  ,action 7 = ('gggg', 90)\n",
      "state is [     11.175       145.8        0.24  3.0815e-33         325          13           1]  ,action 1 = ('rrrr', 30)\n"
     ]
    }
   ],
   "source": [
    "last_duration_fps = 0 #duration * fps\n",
    "last_real_action = 'g'\n",
    "\n",
    "for i in range(27):\n",
    "    # next for one step (equal duration)\n",
    "\n",
    "    if (last_real_action == 'g'):\n",
    "            ret, frame_vid = cap.read()\n",
    "            if not ret:\n",
    "                print(\"end\")\n",
    "                break\n",
    "            estimate = speedestimator(frame_vid)\n",
    "            frame = estimate.plot_im\n",
    "            render(frame)\n",
    "    else:\n",
    "            render(frame)\n",
    "            time.sleep(1)\n",
    "\n",
    "    update_waiting_video(speedestimator,fps)\n",
    "\n",
    "    if (last_duration_fps==0):\n",
    "\n",
    "\n",
    "            state = get_State_video(speedestimator,fps)\n",
    "            action, _states = model_loaded.predict(state, deterministic=False)\n",
    "            real_action,real_duration=env.get_real_action(int(action))\n",
    "            print(f\"state is {state}  ,action {action} = {real_action,real_duration}\")\n",
    "\n",
    "\n",
    "            #pygame.time.delay(1)\n",
    "            last_duration = real_duration\n",
    "            last_duration_fps = 5 #---------> real_duration * fps\n",
    "            last_real_action = real_action[0]\n",
    "            #send_command(arduino, last_real_action,last_duration_fps)\n",
    "    else :\n",
    "            last_duration_fps -= 1\n",
    "\n"
   ]
  },
  {
   "cell_type": "code",
   "execution_count": null,
   "id": "be239a17",
   "metadata": {
    "id": "be239a17"
   },
   "outputs": [],
   "source": [
    "intial_state = np.array([7]*7)"
   ]
  },
  {
   "cell_type": "code",
   "execution_count": null,
   "id": "3cdc5db8",
   "metadata": {
    "id": "3cdc5db8",
    "outputId": "63837682-c8c8-41a6-8e0f-f87bc3c866b7"
   },
   "outputs": [
    {
     "name": "stdout",
     "output_type": "stream",
     "text": [
      "action [1]\n",
      "action [3]\n",
      "action [3]\n",
      "action [1]\n",
      "action [1]\n",
      "action [0]\n",
      "action [0]\n",
      "action [3]\n",
      "action [1]\n",
      "action [1]\n"
     ]
    }
   ],
   "source": [
    "for i in range(10):\n",
    "    action, _states = model_loaded.predict(10*np.random.random((1,7)), deterministic=True)\n",
    "    print(\"action\",action)"
   ]
  },
  {
   "cell_type": "code",
   "execution_count": null,
   "id": "4b5bd7ca",
   "metadata": {
    "id": "4b5bd7ca"
   },
   "outputs": [],
   "source": [
    "action, _states = model_loaded.predict(np.array([5]*7), deterministic=True)\n",
    "action = int(action)"
   ]
  },
  {
   "cell_type": "code",
   "execution_count": null,
   "id": "7ac3411c",
   "metadata": {
    "id": "7ac3411c",
    "outputId": "6b8c7165-0ceb-4ce3-fb98-9c8d6b0572d8"
   },
   "outputs": [
    {
     "data": {
      "text/plain": [
       "('rrrr', 2)"
      ]
     },
     "execution_count": 13,
     "metadata": {},
     "output_type": "execute_result"
    }
   ],
   "source": [
    "real_action,real_duration=env.get_real_action(int(action))\n",
    "real_action,real_duration"
   ]
  },
  {
   "cell_type": "code",
   "execution_count": null,
   "id": "f6e090a3",
   "metadata": {
    "id": "f6e090a3"
   },
   "outputs": [],
   "source": [
    "#conn2.state = {agent_id:np.array([5]*7)}"
   ]
  },
  {
   "cell_type": "code",
   "execution_count": null,
   "id": "08c73881",
   "metadata": {
    "id": "08c73881",
    "outputId": "618fe992-cd41-476d-e4d2-34359f59ce28"
   },
   "outputs": [
    {
     "name": "stdout",
     "output_type": "stream",
     "text": [
      "Progress: 1/2000, Sumo Time 0, state [0 0 0 0 0 0 0], action gggg, duration 2, reward -0.6666666666666666"
     ]
    }
   ],
   "source": [
    "obs, reward, done,terminated, info = env.step(int(action))\n"
   ]
  },
  {
   "cell_type": "code",
   "execution_count": null,
   "id": "dbf2f736",
   "metadata": {
    "id": "dbf2f736",
    "outputId": "0bd4dbd8-0c65-442a-a2ad-81b60025d5d1"
   },
   "outputs": [
    {
     "data": {
      "text/plain": [
       "{0: ('rrrr', 4),\n",
       " 1: ('rrrr', 2),\n",
       " 2: ('rrrr', 3),\n",
       " 3: ('rrrr', 5),\n",
       " 4: ('gggg', 4),\n",
       " 5: ('gggg', 2),\n",
       " 6: ('gggg', 3),\n",
       " 7: ('gggg', 5)}"
      ]
     },
     "execution_count": 22,
     "metadata": {},
     "output_type": "execute_result"
    }
   ],
   "source": [
    "env.encoded_action_mapping"
   ]
  },
  {
   "cell_type": "code",
   "execution_count": null,
   "id": "cfce6277",
   "metadata": {
    "id": "cfce6277"
   },
   "outputs": [],
   "source": [
    "import serial\n",
    "import time\n",
    "def set_Esp32(port):\n",
    "    # Replace with your actual COM port. For example, '/dev/ttyUSB0' on Linux or 'COM3' on Windows.\n",
    "    arduino = serial.Serial(port, 115200 )\n",
    "    time.sleep(2)  # Give Arduino time to reset\n",
    "    return arduino\n",
    "\n",
    "def send_command(arduino, light, duration):\n",
    "    # Create the command string\n",
    "    command = f\"{light},{duration}\\n\"  # Format: light,duration\n",
    "    # Send the command to the Arduino\n",
    "    arduino.write(command.encode())\n",
    "    time.sleep(0.5)  # Wait for a short period to ensure the command is sent\n",
    "\n",
    "\n",
    "def close_arduino(arduino):\n",
    "    # Close the serial connection\n",
    "    arduino.close()\n",
    "\n",
    "\n",
    "\n"
   ]
  },
  {
   "cell_type": "code",
   "execution_count": null,
   "id": "d88df7fc",
   "metadata": {
    "id": "d88df7fc",
    "outputId": "133a7965-022e-4165-e00c-955811b67c5f"
   },
   "outputs": [
    {
     "ename": "SerialException",
     "evalue": "could not open port 'COM3': PermissionError(13, 'Access is denied.', None, 5)",
     "output_type": "error",
     "traceback": [
      "\u001b[1;31m---------------------------------------------------------------------------\u001b[0m",
      "\u001b[1;31mSerialException\u001b[0m                           Traceback (most recent call last)",
      "Cell \u001b[1;32mIn[2], line 1\u001b[0m\n\u001b[1;32m----> 1\u001b[0m arduino \u001b[38;5;241m=\u001b[39m \u001b[43mset_Esp32\u001b[49m\u001b[43m(\u001b[49m\u001b[38;5;124;43m'\u001b[39;49m\u001b[38;5;124;43mCOM3\u001b[39;49m\u001b[38;5;124;43m'\u001b[39;49m\u001b[43m)\u001b[49m\n",
      "Cell \u001b[1;32mIn[1], line 5\u001b[0m, in \u001b[0;36mset_Esp32\u001b[1;34m(port)\u001b[0m\n\u001b[0;32m      3\u001b[0m \u001b[38;5;28;01mdef\u001b[39;00m \u001b[38;5;21mset_Esp32\u001b[39m(port):\n\u001b[0;32m      4\u001b[0m     \u001b[38;5;66;03m# Replace with your actual COM port. For example, '/dev/ttyUSB0' on Linux or 'COM3' on Windows.\u001b[39;00m\n\u001b[1;32m----> 5\u001b[0m     arduino \u001b[38;5;241m=\u001b[39m \u001b[43mserial\u001b[49m\u001b[38;5;241;43m.\u001b[39;49m\u001b[43mSerial\u001b[49m\u001b[43m(\u001b[49m\u001b[43mport\u001b[49m\u001b[43m,\u001b[49m\u001b[43m \u001b[49m\u001b[38;5;241;43m115200\u001b[39;49m\u001b[43m \u001b[49m\u001b[43m)\u001b[49m\n\u001b[0;32m      6\u001b[0m     time\u001b[38;5;241m.\u001b[39msleep(\u001b[38;5;241m2\u001b[39m)  \u001b[38;5;66;03m# Give Arduino time to reset\u001b[39;00m\n\u001b[0;32m      7\u001b[0m     \u001b[38;5;28;01mreturn\u001b[39;00m arduino\n",
      "File \u001b[1;32mc:\\Users\\LapStore\\AppData\\Local\\Programs\\Python\\Python311\\Lib\\site-packages\\serial\\serialwin32.py:33\u001b[0m, in \u001b[0;36mSerial.__init__\u001b[1;34m(self, *args, **kwargs)\u001b[0m\n\u001b[0;32m     31\u001b[0m \u001b[38;5;28mself\u001b[39m\u001b[38;5;241m.\u001b[39m_overlapped_read \u001b[38;5;241m=\u001b[39m \u001b[38;5;28;01mNone\u001b[39;00m\n\u001b[0;32m     32\u001b[0m \u001b[38;5;28mself\u001b[39m\u001b[38;5;241m.\u001b[39m_overlapped_write \u001b[38;5;241m=\u001b[39m \u001b[38;5;28;01mNone\u001b[39;00m\n\u001b[1;32m---> 33\u001b[0m \u001b[38;5;28;43msuper\u001b[39;49m\u001b[43m(\u001b[49m\u001b[43mSerial\u001b[49m\u001b[43m,\u001b[49m\u001b[43m \u001b[49m\u001b[38;5;28;43mself\u001b[39;49m\u001b[43m)\u001b[49m\u001b[38;5;241;43m.\u001b[39;49m\u001b[38;5;21;43m__init__\u001b[39;49m\u001b[43m(\u001b[49m\u001b[38;5;241;43m*\u001b[39;49m\u001b[43margs\u001b[49m\u001b[43m,\u001b[49m\u001b[43m \u001b[49m\u001b[38;5;241;43m*\u001b[39;49m\u001b[38;5;241;43m*\u001b[39;49m\u001b[43mkwargs\u001b[49m\u001b[43m)\u001b[49m\n",
      "File \u001b[1;32mc:\\Users\\LapStore\\AppData\\Local\\Programs\\Python\\Python311\\Lib\\site-packages\\serial\\serialutil.py:244\u001b[0m, in \u001b[0;36mSerialBase.__init__\u001b[1;34m(self, port, baudrate, bytesize, parity, stopbits, timeout, xonxoff, rtscts, write_timeout, dsrdtr, inter_byte_timeout, exclusive, **kwargs)\u001b[0m\n\u001b[0;32m    241\u001b[0m     \u001b[38;5;28;01mraise\u001b[39;00m \u001b[38;5;167;01mValueError\u001b[39;00m(\u001b[38;5;124m'\u001b[39m\u001b[38;5;124munexpected keyword arguments: \u001b[39m\u001b[38;5;132;01m{!r}\u001b[39;00m\u001b[38;5;124m'\u001b[39m\u001b[38;5;241m.\u001b[39mformat(kwargs))\n\u001b[0;32m    243\u001b[0m \u001b[38;5;28;01mif\u001b[39;00m port \u001b[38;5;129;01mis\u001b[39;00m \u001b[38;5;129;01mnot\u001b[39;00m \u001b[38;5;28;01mNone\u001b[39;00m:\n\u001b[1;32m--> 244\u001b[0m     \u001b[38;5;28;43mself\u001b[39;49m\u001b[38;5;241;43m.\u001b[39;49m\u001b[43mopen\u001b[49m\u001b[43m(\u001b[49m\u001b[43m)\u001b[49m\n",
      "File \u001b[1;32mc:\\Users\\LapStore\\AppData\\Local\\Programs\\Python\\Python311\\Lib\\site-packages\\serial\\serialwin32.py:64\u001b[0m, in \u001b[0;36mSerial.open\u001b[1;34m(self)\u001b[0m\n\u001b[0;32m     62\u001b[0m \u001b[38;5;28;01mif\u001b[39;00m \u001b[38;5;28mself\u001b[39m\u001b[38;5;241m.\u001b[39m_port_handle \u001b[38;5;241m==\u001b[39m win32\u001b[38;5;241m.\u001b[39mINVALID_HANDLE_VALUE:\n\u001b[0;32m     63\u001b[0m     \u001b[38;5;28mself\u001b[39m\u001b[38;5;241m.\u001b[39m_port_handle \u001b[38;5;241m=\u001b[39m \u001b[38;5;28;01mNone\u001b[39;00m    \u001b[38;5;66;03m# 'cause __del__ is called anyway\u001b[39;00m\n\u001b[1;32m---> 64\u001b[0m     \u001b[38;5;28;01mraise\u001b[39;00m SerialException(\u001b[38;5;124m\"\u001b[39m\u001b[38;5;124mcould not open port \u001b[39m\u001b[38;5;132;01m{!r}\u001b[39;00m\u001b[38;5;124m: \u001b[39m\u001b[38;5;132;01m{!r}\u001b[39;00m\u001b[38;5;124m\"\u001b[39m\u001b[38;5;241m.\u001b[39mformat(\u001b[38;5;28mself\u001b[39m\u001b[38;5;241m.\u001b[39mportstr, ctypes\u001b[38;5;241m.\u001b[39mWinError()))\n\u001b[0;32m     66\u001b[0m \u001b[38;5;28;01mtry\u001b[39;00m:\n\u001b[0;32m     67\u001b[0m     \u001b[38;5;28mself\u001b[39m\u001b[38;5;241m.\u001b[39m_overlapped_read \u001b[38;5;241m=\u001b[39m win32\u001b[38;5;241m.\u001b[39mOVERLAPPED()\n",
      "\u001b[1;31mSerialException\u001b[0m: could not open port 'COM3': PermissionError(13, 'Access is denied.', None, 5)"
     ]
    }
   ],
   "source": [
    "arduino = set_Esp32('COM3')"
   ]
  },
  {
   "cell_type": "code",
   "execution_count": null,
   "id": "cf5ba90a",
   "metadata": {
    "id": "cf5ba90a"
   },
   "outputs": [],
   "source": [
    "## single light only<-------- ,may later add the other lights by access last index as duration\n",
    "#send_command(arduino, real_action[0],real_duration)"
   ]
  },
  {
   "cell_type": "markdown",
   "id": "f093b148",
   "metadata": {
    "id": "f093b148"
   },
   "source": [
    "#### # Test the connection and sending commands\n",
    "import random\n",
    "for i in range(4):\n",
    "    #while True:\n",
    "    real_action = random.choice(['g','r','y'])\n",
    "    real_duration = random.choice([5,10])\n",
    "    print(\"action\",real_action,\"duration\",real_duration)\n",
    "    send_command(arduino, real_action,real_duration)\n",
    "    time.sleep(real_duration+1) # Wait for the duration of the light  "
   ]
  },
  {
   "cell_type": "code",
   "execution_count": null,
   "id": "8889fcfe",
   "metadata": {
    "id": "8889fcfe",
    "outputId": "954610eb-7bc3-4e09-9707-444f3b4f0f3c"
   },
   "outputs": [
    {
     "name": "stdout",
     "output_type": "stream",
     "text": [
      "action gggg duration 2\n",
      "action rrrr duration 2\n",
      "action rrrr duration 5\n",
      "action gggg duration 5\n"
     ]
    }
   ],
   "source": [
    "for i in range(4):\n",
    "    #while True:\n",
    "    action, _states = model_loaded.predict(np.array([5]*7), deterministic=False)\n",
    "    real_action,real_duration=env.get_real_action(int(action))\n",
    "    print(\"action\",real_action,\"duration\",real_duration)\n",
    "    send_command(arduino, real_action[0],real_duration)\n",
    "    time.sleep(real_duration)"
   ]
  },
  {
   "cell_type": "code",
   "execution_count": null,
   "id": "93d83805",
   "metadata": {
    "id": "93d83805"
   },
   "outputs": [],
   "source": [
    "close_arduino(arduino)"
   ]
  }
 ],
 "metadata": {
  "colab": {
   "provenance": []
  },
  "kernelspec": {
   "display_name": "Python 3",
   "language": "python",
   "name": "python3"
  },
  "language_info": {
   "codemirror_mode": {
    "name": "ipython",
    "version": 3
   },
   "file_extension": ".py",
   "mimetype": "text/x-python",
   "name": "python",
   "nbconvert_exporter": "python",
   "pygments_lexer": "ipython3",
   "version": "3.11.4"
  }
 },
 "nbformat": 4,
 "nbformat_minor": 5
}
