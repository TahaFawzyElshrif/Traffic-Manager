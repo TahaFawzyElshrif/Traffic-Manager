{
 "cells": [
  {
   "cell_type": "code",
   "execution_count": 7,
   "id": "qHcMSLvL7891",
   "metadata": {
    "colab": {
     "base_uri": "https://localhost:8080/"
    },
    "executionInfo": {
     "elapsed": 13153,
     "status": "ok",
     "timestamp": 1747060999522,
     "user": {
      "displayName": "yahoo egypt",
      "userId": "13038863756302173317"
     },
     "user_tz": -180
    },
    "id": "qHcMSLvL7891",
    "outputId": "98a9379b-a8a3-412d-b859-5b486c7641cb"
   },
   "outputs": [
    {
     "name": "stdout",
     "output_type": "stream",
     "text": [
      "Mounted at /content/drive\n"
     ]
    }
   ],
   "source": [
    "# prompt: mount\n",
    "\n",
    "from google.colab import drive\n",
    "drive.mount('/content/drive')\n"
   ]
  },
  {
   "cell_type": "markdown",
   "id": "0e28b507",
   "metadata": {
    "id": "0e28b507"
   },
   "source": [
    "## Import Packages"
   ]
  },
  {
   "cell_type": "code",
   "execution_count": 3,
   "id": "e3ab4395",
   "metadata": {
    "colab": {
     "base_uri": "https://localhost:8080/"
    },
    "executionInfo": {
     "elapsed": 53,
     "status": "ok",
     "timestamp": 1747060964402,
     "user": {
      "displayName": "yahoo egypt",
      "userId": "13038863756302173317"
     },
     "user_tz": -180
    },
    "id": "e3ab4395",
    "outputId": "2fbc251a-a77d-472d-deba-efc0d561aa9f"
   },
   "outputs": [
    {
     "name": "stdout",
     "output_type": "stream",
     "text": [
      "Running on Windows\n"
     ]
    }
   ],
   "source": [
    "import platform\n",
    "\n",
    "print(\"Running on Windows\")\n",
    "#path_main_folder = \"/content/drive/My Drive/study/graduation_project/final/Code/project_files/TrafficManager/TrafficManager/\"\n",
    "path_main_folder = \"I:/My Drive/study/graduation_project/final/Code/project_files/TrafficManager/TrafficManager/\"\n",
    "\n",
    "\n",
    "path_data_folder = path_main_folder + \"AIST_Cleaned/data3_san_stefano/\"#\"AIST_Cleaned/data2_mosheerIsmail/\",data3_san_stefano\n",
    "path_cfg = path_data_folder +\"cfg.sumocfg\"\n",
    "path_project_folder = path_main_folder + \"\"\n",
    "\n"
   ]
  },
  {
   "cell_type": "code",
   "execution_count": 2,
   "id": "PJYfT_ta8Yjq",
   "metadata": {
    "colab": {
     "base_uri": "https://localhost:8080/"
    },
    "executionInfo": {
     "elapsed": 27,
     "status": "ok",
     "timestamp": 1747061155207,
     "user": {
      "displayName": "yahoo egypt",
      "userId": "13038863756302173317"
     },
     "user_tz": -180
    },
    "id": "PJYfT_ta8Yjq",
    "outputId": "db583cb1-2e12-406f-99ca-5baa344ba827"
   },
   "outputs": [
    {
     "ename": "NameError",
     "evalue": "name 'path_project_folder' is not defined",
     "output_type": "error",
     "traceback": [
      "\u001b[1;31m---------------------------------------------------------------------------\u001b[0m",
      "\u001b[1;31mNameError\u001b[0m                                 Traceback (most recent call last)",
      "Cell \u001b[1;32mIn[2], line 2\u001b[0m\n\u001b[0;32m      1\u001b[0m \u001b[38;5;28;01mimport\u001b[39;00m \u001b[38;5;21;01mos\u001b[39;00m\n\u001b[1;32m----> 2\u001b[0m os\u001b[38;5;241m.\u001b[39mpath\u001b[38;5;241m.\u001b[39mexists(\u001b[43mpath_project_folder\u001b[49m)\n",
      "\u001b[1;31mNameError\u001b[0m: name 'path_project_folder' is not defined"
     ]
    }
   ],
   "source": [
    "import os\n",
    "os.path.exists(path_project_folder)"
   ]
  },
  {
   "cell_type": "code",
   "execution_count": 4,
   "id": "1532fe9b",
   "metadata": {},
   "outputs": [],
   "source": [
    "import sys\n",
    "sys.path.append(path_project_folder)\n",
    "\n",
    "from Connections.Proto_Connection_Utils.ardinuo import ardinuo\n",
    "a = ardinuo(4,\"COM3\")"
   ]
  },
  {
   "cell_type": "code",
   "execution_count": 7,
   "id": "ff86e685",
   "metadata": {},
   "outputs": [],
   "source": [
    "a.send_command(\"y\",4)"
   ]
  },
  {
   "cell_type": "code",
   "execution_count": 4,
   "id": "b37e57ba",
   "metadata": {
    "id": "b37e57ba",
    "outputId": "ebf99aa3-bf49-4f17-c871-d8afdb9840af"
   },
   "outputs": [],
   "source": [
    "import sys\n",
    "sys.path.append(path_project_folder)\n",
    "\n",
    "from Connections.ProtoRealConnection import status_acc,status_chk,status_emr,status_free\n",
    "import Connections.ProtoRealConnection\n",
    "from Connections.Connection import *\n",
    "import os\n",
    "import gymnasium as gym\n",
    "from numpy import inf\n",
    "import numpy as np\n",
    "import SumoEnvSingleAgent\n",
    "from Utils_reporting import *\n",
    "from Utils_running_singleAgent import *\n",
    "from rewards import *\n",
    "from stable_baselines3 import PPO\n",
    "from stable_baselines3.common.vec_env import DummyVecEnv, VecNormalize\n",
    "import torch\n",
    "import time\n",
    "from Callbacks import *\n",
    "from models.d3qn import D3QNAgent"
   ]
  },
  {
   "cell_type": "markdown",
   "id": "329fb256",
   "metadata": {
    "id": "329fb256"
   },
   "source": [
    "## Load Parameters"
   ]
  },
  {
   "cell_type": "code",
   "execution_count": 5,
   "id": "84d9cf32",
   "metadata": {
    "id": "84d9cf32"
   },
   "outputs": [],
   "source": [
    "durations = [7,10,12,15] #[15,30,60,90]\n",
    "ENV_NAME = \"HighGroupedSumoEnv\"\n",
    "REWARD_TYPE = \"literature\"\n",
    "max_steps = 100000000 \n",
    "max_sumo_steps = 2000\n",
    "sumo_traffic_scale = 1 #.14\n",
    "enable_variation_action = True\n",
    "seed = 3\n",
    "\n"
   ]
  },
  {
   "cell_type": "code",
   "execution_count": 6,
   "id": "be47f225",
   "metadata": {
    "id": "be47f225"
   },
   "outputs": [],
   "source": [
    "agent_id ='6082411793'\n",
    "traffic_lights = [(4, agent_id)]\n"
   ]
  },
  {
   "cell_type": "code",
   "execution_count": 7,
   "id": "1b42d9a9",
   "metadata": {
    "id": "1b42d9a9"
   },
   "outputs": [],
   "source": [
    "reward_func = {\n",
    "'proposed_reward':reward_proposed,\n",
    "'literature':reward_liter,\n",
    "'project_reward':reward_proj,\n",
    "}\n",
    "env_classes = {\n",
    "    \"HighGroupedSumoEnv\": SumoEnvSingleAgent.HighGroupedSumoEnv,\n",
    "    \"GroupedSumoEnv\": SumoEnvSingleAgent.GroupedSumoEnv ,\n",
    "    \"SumoEnv\": SumoEnvSingleAgent.SumoEnv,\n",
    "}"
   ]
  },
  {
   "cell_type": "code",
   "execution_count": 8,
   "id": "21b9b714",
   "metadata": {
    "id": "21b9b714"
   },
   "outputs": [],
   "source": [
    "def create_env(config_):\n",
    "    args = (traffic_lights[0][1],traffic_lights[0][0], durations,reward_func[REWARD_TYPE], max_steps, max_sumo_steps,sumo_traffic_scale,enable_variation_action,config_,seed)\n",
    "    env = env_classes[ENV_NAME](*args)\n",
    "    return env\n",
    "\n"
   ]
  },
  {
   "cell_type": "code",
   "execution_count": 9,
   "id": "cecb692a",
   "metadata": {
    "executionInfo": {
     "elapsed": 43,
     "status": "ok",
     "timestamp": 1747061073746,
     "user": {
      "displayName": "yahoo egypt",
      "userId": "13038863756302173317"
     },
     "user_tz": -180
    },
    "id": "cecb692a"
   },
   "outputs": [],
   "source": [
    "yolo_path = \"I:/My Drive/study/graduation_project/final/Code/project_files/TrafficManager/try/yolo11n.pt\"\n",
    "yaml_file = \"I:/My Drive/study/graduation_project/final/Code/project_files/TrafficManager/TrafficManager/config.yaml\"\n",
    "path_model='FINAL_HighGroupedSumoEnv_literature_exp217.keras'\n",
    "\n",
    "thresould_speed = .01 #10 ,36 is very wrong as m/s #.01 m/s\n",
    "yellow_seconds = 15"
   ]
  },
  {
   "cell_type": "code",
   "execution_count": 10,
   "id": "eec7ea60",
   "metadata": {
    "id": "eec7ea60"
   },
   "outputs": [],
   "source": [
    "ardinuo_port = 'COM3'\n",
    "global_url=\"http://127.0.0.1:8000\"\n",
    "broker=\"broker.hivemq.com\"\n",
    "mqtt_port= 1883"
   ]
  },
  {
   "cell_type": "markdown",
   "id": "6ab3f36f",
   "metadata": {},
   "source": [
    "## Load Parameters for model"
   ]
  },
  {
   "cell_type": "code",
   "execution_count": 11,
   "id": "c21c3cc5",
   "metadata": {},
   "outputs": [],
   "source": [
    "import yaml\n",
    "\n",
    "\n",
    "with open(yaml_file, \"r\") as file:\n",
    "    config = yaml.safe_load(file)\n"
   ]
  },
  {
   "cell_type": "code",
   "execution_count": 12,
   "id": "69099243",
   "metadata": {},
   "outputs": [],
   "source": [
    "general_settings = config['general_settings']\n",
    "experiment_settings_changable = config[\"experiment_settings\"]['changable_settings']\n",
    "experiment_settings_const = config[\"experiment_settings\"][\"const_settings\"]\n",
    "algorithm_settings=config[\"algorithms_settings\"]\n",
    "\n",
    "d3qn_Settings = algorithm_settings['D3QN']\n",
    "d3qn_experiment_settings =d3qn_Settings[str(ENV_NAME+\"_\"+REWARD_TYPE)]\n",
    "\n",
    "\n",
    "parameters={'learning_rate': d3qn_experiment_settings['learning_rate'],\n",
    " 'gamma': d3qn_experiment_settings['gamma'],\n",
    " 'tau': d3qn_experiment_settings['tau'],\n",
    " 'l2_reg': d3qn_experiment_settings['l2_reg'],\n",
    " 'epsilon_decay': d3qn_experiment_settings['epsilon_decay'],\n",
    " 'batch_size': d3qn_experiment_settings['batch_size']}\n"
   ]
  },
  {
   "cell_type": "markdown",
   "id": "95357d1b",
   "metadata": {
    "id": "95357d1b"
   },
   "source": [
    "## Make env"
   ]
  },
  {
   "cell_type": "code",
   "execution_count": 13,
   "id": "dab5fd28",
   "metadata": {
    "id": "dab5fd28",
    "outputId": "4d700dc8-19bb-4fed-dc22-c9059a08f2e8"
   },
   "outputs": [
    {
     "data": {
      "text/plain": [
       "<module 'Connections.ProtoRealConnection' from 'I:\\\\My Drive/study/graduation_project/final/Code/project_files/TrafficManager/TrafficManager\\\\Connections\\\\ProtoRealConnection.py'>"
      ]
     },
     "execution_count": 13,
     "metadata": {},
     "output_type": "execute_result"
    }
   ],
   "source": [
    "import importlib\n",
    "import Connections.ProtoRealConnection\n",
    "importlib.reload(Connections.ProtoRealConnection)\n"
   ]
  },
  {
   "cell_type": "code",
   "execution_count": null,
   "id": "d1592bd2",
   "metadata": {},
   "outputs": [],
   "source": []
  },
  {
   "cell_type": "code",
   "execution_count": 13,
   "id": "8ab26dd9",
   "metadata": {
    "id": "8ab26dd9"
   },
   "outputs": [
    {
     "ename": "AssertionError",
     "evalue": "Error reading video file",
     "output_type": "error",
     "traceback": [
      "\u001b[1;31m---------------------------------------------------------------------------\u001b[0m",
      "\u001b[1;31mAssertionError\u001b[0m                            Traceback (most recent call last)",
      "Cell \u001b[1;32mIn[13], line 1\u001b[0m\n\u001b[1;32m----> 1\u001b[0m conn \u001b[38;5;241m=\u001b[39m \u001b[43mConnections\u001b[49m\u001b[38;5;241;43m.\u001b[39;49m\u001b[43mProtoRealConnection\u001b[49m\u001b[38;5;241;43m.\u001b[39;49m\u001b[43mProtoRealConnection\u001b[49m\u001b[43m(\u001b[49m\u001b[43mardinuo_port\u001b[49m\u001b[43m,\u001b[49m\u001b[43mmqtt_port\u001b[49m\u001b[43m,\u001b[49m\u001b[43magent_id\u001b[49m\u001b[43m,\u001b[49m\u001b[43mglobal_url\u001b[49m\u001b[43m,\u001b[49m\u001b[43mbroker\u001b[49m\u001b[43m,\u001b[49m\u001b[43myolo_path\u001b[49m\u001b[43m,\u001b[49m\u001b[43myellow_seconds\u001b[49m\u001b[43m,\u001b[49m\u001b[43mthresould_speed\u001b[49m\u001b[43m \u001b[49m\u001b[38;5;241;43m=\u001b[39;49m\u001b[43m \u001b[49m\u001b[43mthresould_speed\u001b[49m\u001b[43m)\u001b[49m\n\u001b[0;32m      3\u001b[0m set_global_conn(conn)\n",
      "File \u001b[1;32mI:\\My Drive/study/graduation_project/final/Code/project_files/TrafficManager/TrafficManager\\Connections\\ProtoRealConnection.py:52\u001b[0m, in \u001b[0;36mProtoRealConnection.__init__\u001b[1;34m(self, ardinuo_port, mqtt_port, agent, global_url, broker, yolo_path, yellow_seconds, one_frame_processing, thresould_speed)\u001b[0m\n\u001b[0;32m     50\u001b[0m \u001b[38;5;28mself\u001b[39m\u001b[38;5;241m.\u001b[39mtopic_msg\u001b[38;5;241m=\u001b[39mMQTT_PARTOPIC_state\u001b[38;5;241m+\u001b[39m\u001b[38;5;124m\"\u001b[39m\u001b[38;5;124m/\u001b[39m\u001b[38;5;124m\"\u001b[39m\u001b[38;5;241m+\u001b[39m\u001b[38;5;28mself\u001b[39m\u001b[38;5;241m.\u001b[39magent\u001b[38;5;241m+\u001b[39m\u001b[38;5;124m\"\u001b[39m\u001b[38;5;124m/\u001b[39m\u001b[38;5;124m\"\u001b[39m\u001b[38;5;241m+\u001b[39mMQTT_SUBTOPIC_msg\n\u001b[0;32m     51\u001b[0m \u001b[38;5;28mself\u001b[39m\u001b[38;5;241m.\u001b[39mtopic_rep\u001b[38;5;241m=\u001b[39mMQTT_PARTOPIC_state\u001b[38;5;241m+\u001b[39m\u001b[38;5;124m\"\u001b[39m\u001b[38;5;124m/\u001b[39m\u001b[38;5;124m\"\u001b[39m\u001b[38;5;241m+\u001b[39m\u001b[38;5;28mself\u001b[39m\u001b[38;5;241m.\u001b[39magent\u001b[38;5;241m+\u001b[39m\u001b[38;5;124m\"\u001b[39m\u001b[38;5;124m/\u001b[39m\u001b[38;5;124m\"\u001b[39m\u001b[38;5;241m+\u001b[39mMQTT_SUBTOPIC_reply\n\u001b[1;32m---> 52\u001b[0m \u001b[38;5;28;43mself\u001b[39;49m\u001b[38;5;241;43m.\u001b[39;49m\u001b[43minitialize\u001b[49m\u001b[43m(\u001b[49m\u001b[43m)\u001b[49m\n\u001b[0;32m     53\u001b[0m \u001b[38;5;66;03m# intiail video step \u001b[39;00m\n\u001b[0;32m     54\u001b[0m \u001b[38;5;28mself\u001b[39m\u001b[38;5;241m.\u001b[39m_ret, \u001b[38;5;28mself\u001b[39m\u001b[38;5;241m.\u001b[39m_frame_vid \u001b[38;5;241m=\u001b[39m \u001b[38;5;28mself\u001b[39m\u001b[38;5;241m.\u001b[39mlane_video_estimatior\u001b[38;5;241m.\u001b[39mcap\u001b[38;5;241m.\u001b[39mread() \n",
      "File \u001b[1;32mI:\\My Drive/study/graduation_project/final/Code/project_files/TrafficManager/TrafficManager\\Connections\\ProtoRealConnection.py:63\u001b[0m, in \u001b[0;36mProtoRealConnection.initialize\u001b[1;34m(self)\u001b[0m\n\u001b[0;32m     61\u001b[0m \u001b[38;5;28;01mdef\u001b[39;00m \u001b[38;5;21minitialize\u001b[39m(\u001b[38;5;28mself\u001b[39m):\n\u001b[0;32m     62\u001b[0m     \u001b[38;5;28mself\u001b[39m\u001b[38;5;241m.\u001b[39mardinuo \u001b[38;5;241m=\u001b[39m ardinuo(\u001b[38;5;28mself\u001b[39m\u001b[38;5;241m.\u001b[39mlane_id,\u001b[38;5;28mself\u001b[39m\u001b[38;5;241m.\u001b[39mardinuo_port)\n\u001b[1;32m---> 63\u001b[0m     \u001b[38;5;28mself\u001b[39m\u001b[38;5;241m.\u001b[39mlane_video_estimatior \u001b[38;5;241m=\u001b[39m \u001b[43mVideo_Estimatior\u001b[49m\u001b[43m(\u001b[49m\u001b[38;5;28;43mself\u001b[39;49m\u001b[38;5;241;43m.\u001b[39;49m\u001b[43mlane_id\u001b[49m\u001b[43m,\u001b[49m\u001b[38;5;28;43mself\u001b[39;49m\u001b[38;5;241;43m.\u001b[39;49m\u001b[43mglobal_url\u001b[49m\u001b[43m,\u001b[49m\u001b[38;5;28;43mself\u001b[39;49m\u001b[38;5;241;43m.\u001b[39;49m\u001b[43myolo_path\u001b[49m\u001b[43m,\u001b[49m\u001b[38;5;28;43mself\u001b[39;49m\u001b[38;5;241;43m.\u001b[39;49m\u001b[43mthresould_speed\u001b[49m\u001b[43m,\u001b[49m\u001b[38;5;28;43mself\u001b[39;49m\u001b[38;5;241;43m.\u001b[39;49m\u001b[43mone_frame_processing\u001b[49m\u001b[43m)\u001b[49m\n\u001b[0;32m     64\u001b[0m     \u001b[38;5;28mself\u001b[39m\u001b[38;5;241m.\u001b[39m_prepare_and_start_mqtt()\n",
      "File \u001b[1;32mI:\\My Drive/study/graduation_project/final/Code/project_files/TrafficManager/TrafficManager\\Connections\\Proto_Connection_Utils\\Video.py:28\u001b[0m, in \u001b[0;36mVideo_Estimatior.__init__\u001b[1;34m(self, lane_id, global_url_, yolo_path_, thresould_speed_, one_frame_processing_)\u001b[0m\n\u001b[0;32m     26\u001b[0m \u001b[38;5;28mself\u001b[39m\u001b[38;5;241m.\u001b[39mone_frame_processing \u001b[38;5;241m=\u001b[39m one_frame_processing_\n\u001b[0;32m     27\u001b[0m \u001b[38;5;28mself\u001b[39m\u001b[38;5;241m.\u001b[39mlane_id\u001b[38;5;241m=\u001b[39mlane_id\n\u001b[1;32m---> 28\u001b[0m \u001b[38;5;28;43mself\u001b[39;49m\u001b[38;5;241;43m.\u001b[39;49m\u001b[43mintialize_Model_CV\u001b[49m\u001b[43m(\u001b[49m\u001b[43m)\u001b[49m\n",
      "File \u001b[1;32mI:\\My Drive/study/graduation_project/final/Code/project_files/TrafficManager/TrafficManager\\Connections\\Proto_Connection_Utils\\Video.py:33\u001b[0m, in \u001b[0;36mVideo_Estimatior.intialize_Model_CV\u001b[1;34m(self)\u001b[0m\n\u001b[0;32m     31\u001b[0m \u001b[38;5;28;01mdef\u001b[39;00m \u001b[38;5;21mintialize_Model_CV\u001b[39m(\u001b[38;5;28mself\u001b[39m):\n\u001b[0;32m     32\u001b[0m     \u001b[38;5;28mself\u001b[39m\u001b[38;5;241m.\u001b[39mcap \u001b[38;5;241m=\u001b[39m cv2\u001b[38;5;241m.\u001b[39mVideoCapture(\u001b[38;5;28mself\u001b[39m\u001b[38;5;241m.\u001b[39mglobal_url\u001b[38;5;241m+\u001b[39m\u001b[38;5;124m\"\u001b[39m\u001b[38;5;124m/video_feed\u001b[39m\u001b[38;5;124m\"\u001b[39m)\n\u001b[1;32m---> 33\u001b[0m     \u001b[38;5;28;01massert\u001b[39;00m \u001b[38;5;28mself\u001b[39m\u001b[38;5;241m.\u001b[39mcap\u001b[38;5;241m.\u001b[39misOpened(), \u001b[38;5;124m\"\u001b[39m\u001b[38;5;124mError reading video file\u001b[39m\u001b[38;5;124m\"\u001b[39m\n\u001b[0;32m     34\u001b[0m     w, h, \u001b[38;5;28mself\u001b[39m\u001b[38;5;241m.\u001b[39mfps \u001b[38;5;241m=\u001b[39m (\u001b[38;5;28mint\u001b[39m(\u001b[38;5;28mself\u001b[39m\u001b[38;5;241m.\u001b[39mcap\u001b[38;5;241m.\u001b[39mget(x)) \u001b[38;5;28;01mfor\u001b[39;00m x \u001b[38;5;129;01min\u001b[39;00m (cv2\u001b[38;5;241m.\u001b[39mCAP_PROP_FRAME_WIDTH, cv2\u001b[38;5;241m.\u001b[39mCAP_PROP_FRAME_HEIGHT, cv2\u001b[38;5;241m.\u001b[39mCAP_PROP_FPS))\n\u001b[0;32m     35\u001b[0m     \u001b[38;5;28mself\u001b[39m\u001b[38;5;241m.\u001b[39mspeedestimator \u001b[38;5;241m=\u001b[39m solutions\u001b[38;5;241m.\u001b[39mSpeedEstimator(\n\u001b[0;32m     36\u001b[0m         show\u001b[38;5;241m=\u001b[39m\u001b[38;5;28;01mFalse\u001b[39;00m,\n\u001b[0;32m     37\u001b[0m         model\u001b[38;5;241m=\u001b[39m\u001b[38;5;28mself\u001b[39m\u001b[38;5;241m.\u001b[39myolo_path,\n\u001b[0;32m     38\u001b[0m         fps\u001b[38;5;241m=\u001b[39m\u001b[38;5;28mself\u001b[39m\u001b[38;5;241m.\u001b[39mfps,\n\u001b[0;32m     39\u001b[0m         conf\u001b[38;5;241m=\u001b[39m\u001b[38;5;241m.25\u001b[39m,\n\u001b[0;32m     40\u001b[0m     )\n",
      "\u001b[1;31mAssertionError\u001b[0m: Error reading video file"
     ]
    }
   ],
   "source": [
    "conn = Connections.ProtoRealConnection.ProtoRealConnection(ardinuo_port,mqtt_port,agent_id,global_url,broker,yolo_path,yellow_seconds,thresould_speed = thresould_speed)\n",
    "\n",
    "set_global_conn(conn)\n"
   ]
  },
  {
   "cell_type": "code",
   "execution_count": 14,
   "id": "14517b7d",
   "metadata": {},
   "outputs": [
    {
     "name": "stdout",
     "output_type": "stream",
     "text": [
      "------------ STARTING MQTT LISTENER AT state/6082411793/reply ------------\n",
      "------------ STARTING MQTT PUBLISHER AND LISTENER AT state/6082411793/msg------------\n",
      "Environment reset\n"
     ]
    },
    {
     "name": "stderr",
     "output_type": "stream",
     "text": [
      "I:\\My Drive/study/graduation_project/final/Code/project_files/TrafficManager/TrafficManager\\Connections\\ProtoRealConnection.py:249: DeprecationWarning: Callback API version 1 is deprecated, update to latest version\n",
      "  client = mqtt.Client()\n"
     ]
    },
    {
     "data": {
      "text/plain": [
       "array([[          0,           0,           0,           0,           0,           0,           0]], dtype=float32)"
      ]
     },
     "execution_count": 14,
     "metadata": {},
     "output_type": "execute_result"
    },
    {
     "name": "stdout",
     "output_type": "stream",
     "text": [
      "📥 Received: QL 10\n",
      "📥 Received: CHK\n",
      "📥 Received: AVBL\n",
      "📥 Received: AVBL\n",
      "📥 Received: DONE QL?\n",
      "📥 Received: FREE\n",
      "📥 Received: QL 10\n",
      "📥 Received: DONE QL?\n",
      "📥 Received: QL 10\n",
      "📥 Received: EMR\n",
      "📥 Received: QL 10\n",
      "📥 Received: QL 10\n",
      "📥 Received: EMR 100\n",
      "📥 Received: EMR 100\n",
      "📥 Received: EMR 100\n",
      "📥 Received: EMR 100\n",
      "📥 Received: FREE\n"
     ]
    }
   ],
   "source": [
    "env = create_env({})  # Create the environment instance\n",
    "vec_env = DummyVecEnv([lambda: env])\n",
    "vec_env = VecNormalize(vec_env, norm_obs=True, norm_reward=False)\n",
    "\n",
    "\n",
    "vec_env.reset()\n"
   ]
  },
  {
   "cell_type": "code",
   "execution_count": 15,
   "id": "f6853896",
   "metadata": {},
   "outputs": [
    {
     "name": "stdout",
     "output_type": "stream",
     "text": [
      "Environment observation space: Box(-inf, inf, (7,), float32)\n",
      "Environment action space: Discrete(8)\n",
      "State size provided: (7,)\n"
     ]
    }
   ],
   "source": [
    "agent = D3QNAgent(\n",
    "            env=vec_env,\n",
    "            state_size=vec_env.observation_space.shape,\n",
    "            num_actions=vec_env.action_space.n,\n",
    "            memory_size=100000,\n",
    "            batch_size=parameters['batch_size'],\n",
    "            gamma=parameters['gamma'],\n",
    "            epsilon_start=1.0,\n",
    "            epsilon_min=0.01,\n",
    "            epsilon_decay=parameters['epsilon_decay'],\n",
    "            learning_rate=parameters['learning_rate'],\n",
    "            tau=parameters['tau'],\n",
    "            update_freq=4,\n",
    "            l2_reg=parameters['l2_reg'],\n",
    "            random_state=seed\n",
    "        )\n",
    "\n",
    "\n"
   ]
  },
  {
   "cell_type": "code",
   "execution_count": 16,
   "id": "9f561309",
   "metadata": {},
   "outputs": [],
   "source": [
    "import keras\n",
    "\n",
    "keras.config.enable_unsafe_deserialization()\n",
    "agent.load_model(path_model)\n"
   ]
  },
  {
   "cell_type": "code",
   "execution_count": 17,
   "id": "5250ffd4",
   "metadata": {},
   "outputs": [
    {
     "data": {
      "text/plain": [
       "{0: ('rrrr', 7),\n",
       " 1: ('rrrr', 10),\n",
       " 2: ('rrrr', 12),\n",
       " 3: ('rrrr', 15),\n",
       " 4: ('gggg', 7),\n",
       " 5: ('gggg', 10),\n",
       " 6: ('gggg', 12),\n",
       " 7: ('gggg', 15)}"
      ]
     },
     "execution_count": 17,
     "metadata": {},
     "output_type": "execute_result"
    }
   ],
   "source": [
    "env.encoded_action_mapping"
   ]
  },
  {
   "cell_type": "code",
   "execution_count": 18,
   "id": "7d77490b",
   "metadata": {},
   "outputs": [],
   "source": [
    "conn.yellow_seconds = 7 #7,10,12,15"
   ]
  },
  {
   "cell_type": "code",
   "execution_count": 19,
   "id": "01c62b7a",
   "metadata": {},
   "outputs": [
    {
     "name": "stderr",
     "output_type": "stream",
     "text": [
      "I:\\My Drive/study/graduation_project/final/Code/project_files/TrafficManager/TrafficManager\\rewards.py:78: DeprecationWarning: The truth value of an empty array is ambiguous. Returning False, but in future this will result in an error. Use `array.size > 0` to check that an array is not empty.\n",
      "  if not road_inf:  # This covers None or an empty list\n"
     ]
    },
    {
     "name": "stdout",
     "output_type": "stream",
     "text": [
      "Response JSON: {'message': 'Traffic data added successfully'}\n",
      "Response JSON: {'message': 'Traffic data added successfully'}\n",
      "Response JSON: {'message': 'Traffic data added successfully'}\n",
      "Response JSON: {'message': 'Traffic data added successfully'}\n",
      "Response JSON: {'message': 'Traffic data added successfully'}\n",
      "Response JSON: {'message': 'Traffic data added successfully'}\n",
      "Response JSON: {'message': 'Traffic data added successfully'}\n",
      "Response JSON: {'message': 'Traffic data added successfully'}\n",
      "Response JSON: {'message': 'Traffic data added successfully'}\n",
      "Response JSON: {'message': 'Traffic data added successfully'}\n",
      "Response JSON: {'message': 'Traffic data added successfully'}\n",
      "Response JSON: {'message': 'Traffic data added successfully'}\n",
      "Response JSON: {'message': 'Traffic data added successfully'}\n",
      "Response JSON: {'message': 'Traffic data added successfully'}\n",
      "Response JSON: {'message': 'Traffic data added successfully'}\n",
      "Response JSON: {'message': 'Traffic data added successfully'}\n",
      "Response JSON: {'message': 'Traffic data added successfully'}\n",
      "Response JSON: {'message': 'Traffic data added successfully'}\n",
      "Response JSON: {'message': 'Traffic data added successfully'}\n",
      "Response JSON: {'message': 'Traffic data added successfully'}\n",
      "Response JSON: {'message': 'Traffic data added successfully'}\n",
      "Response JSON: {'message': 'Traffic data added successfully'}\n",
      "Response JSON: {'message': 'Traffic data added successfully'}\n",
      "Response JSON: {'message': 'Traffic data added successfully'}\n",
      "Response JSON: {'message': 'Traffic data added successfully'}\n",
      "Response JSON: {'message': 'Traffic data added successfully'}\n",
      "Response JSON: {'message': 'Traffic data added successfully'}\n",
      "Response JSON: {'message': 'Traffic data added successfully'}\n",
      "Response JSON: {'message': 'Traffic data added successfully'}\n",
      "Response JSON: {'message': 'Traffic data added successfully'}\n",
      "Response JSON: {'message': 'Traffic data added successfully'}\n",
      "Response JSON: {'message': 'Traffic data added successfully'}\n",
      "Response JSON: {'message': 'Traffic data added successfully'}\n",
      "Response JSON: {'message': 'Traffic data added successfully'}\n",
      "Response JSON: {'message': 'Traffic data added successfully'}\n"
     ]
    }
   ],
   "source": [
    "import threading\n",
    "import time\n",
    "import requests\n",
    "peirod_of_send = 13 # longer for deploy\n",
    "def post_traffic_data():\n",
    "    while True:\n",
    "        \n",
    "        try:\n",
    "            payload = {\n",
    "                \"speed\": conn.getCurrentState(agent_id)[0],\n",
    "                \"var_speed\": conn.getCurrentState(agent_id)[1],\n",
    "                \"waiting_time\": conn.getCurrentState(agent_id)[2],\n",
    "                \"var_waiting\": conn.getCurrentState(agent_id)[3],\n",
    "                \"avg_throughput\": conn.getCurrentState(agent_id)[4],\n",
    "                \"avg_queue_length\": conn.getCurrentState(agent_id)[5],\n",
    "                \"avg_occupancy\": conn.getCurrentState(agent_id)[6],\n",
    "                \"reward\": str(reward_func[REWARD_TYPE](agent_id,conn.getCurrentState(agent_id),None,None)),\n",
    "                \"last_action\": str(0), # for now not store them\n",
    "                \"action\": str(0) # for now not store them\n",
    "            }\n",
    "\n",
    "            response = requests.post(\"https://taha454-trafficmanager-account.hf.space/traffic-data/add\", json=payload)\n",
    "\n",
    "            if response.ok:\n",
    "                print(\"Response JSON:\", response.json() )\n",
    "            else:\n",
    "                print(\"Error:\", response.status_code, response.text)\n",
    "\n",
    "        except Exception as e:\n",
    "            print(\"Error during traffic data post:\", e)\n",
    "\n",
    "        time.sleep(peirod_of_send)  # Sleep 30 seconds before next post\n",
    "\n",
    "# Start the thread (daemon=True to auto-exit when main thread exits)\n",
    "threading.Thread(target=post_traffic_data, daemon=True).start()\n"
   ]
  },
  {
   "cell_type": "code",
   "execution_count": 20,
   "id": "12613e91",
   "metadata": {},
   "outputs": [
    {
     "name": "stdout",
     "output_type": "stream",
     "text": [
      "global_message:  FREE\n",
      "ACTION 7 Signal gggg with duration 15 seconds\n",
      "Progress: 1/2000, Sumo Time 0, state [     8.8194      73.664           0           0         100           0          40], action gggg, duration 15, reward 0.0global_message:  FREE\n",
      "ACTION 7 Signal gggg with duration 15 seconds\n",
      "Progress: 2/2000, Sumo Time 0, state [        7.5        68.3           0           0         300           0         100], action gggg, duration 15, reward 0.0global_message:  FREE\n",
      "ACTION 2 Signal rrrr with duration 12 seconds\n",
      "Progress: 3/2000, Sumo Time 0, state [        7.5        68.3           0           0         300           0         100], action rrrr, duration 12, reward 0.0global_message:  EMR 100\n",
      "start_action _   g   EMR   100\n",
      "global_message:  FREE\n",
      "ACTION 2 Signal rrrr with duration 12 seconds\n"
     ]
    },
    {
     "ename": "SerialException",
     "evalue": "WriteFile failed (PermissionError(13, 'The device does not recognize the command.', None, 22))",
     "output_type": "error",
     "traceback": [
      "\u001b[1;31m---------------------------------------------------------------------------\u001b[0m",
      "\u001b[1;31mSerialException\u001b[0m                           Traceback (most recent call last)",
      "Cell \u001b[1;32mIn[20], line 14\u001b[0m\n\u001b[0;32m     11\u001b[0m     \u001b[38;5;28mprint\u001b[39m(\u001b[38;5;124mf\u001b[39m\u001b[38;5;124m\"\u001b[39m\u001b[38;5;124mACTION \u001b[39m\u001b[38;5;132;01m{\u001b[39;00mpredicated_action\u001b[38;5;132;01m}\u001b[39;00m\u001b[38;5;124m Signal \u001b[39m\u001b[38;5;132;01m{\u001b[39;00maction\u001b[38;5;132;01m}\u001b[39;00m\u001b[38;5;124m with duration \u001b[39m\u001b[38;5;132;01m{\u001b[39;00mduration\u001b[38;5;132;01m}\u001b[39;00m\u001b[38;5;124m seconds\u001b[39m\u001b[38;5;124m\"\u001b[39m)\n\u001b[0;32m     13\u001b[0m     conn\u001b[38;5;241m.\u001b[39mis_rl \u001b[38;5;241m=\u001b[39m \u001b[38;5;28;01mTrue\u001b[39;00m\n\u001b[1;32m---> 14\u001b[0m     \u001b[43mvec_env\u001b[49m\u001b[38;5;241;43m.\u001b[39;49m\u001b[43mstep\u001b[49m\u001b[43m(\u001b[49m\u001b[43m[\u001b[49m\u001b[43mpredicated_action\u001b[49m\u001b[43m]\u001b[49m\u001b[43m)\u001b[49m\n\u001b[0;32m     17\u001b[0m \u001b[38;5;28;01melif\u001b[39;00m conn\u001b[38;5;241m.\u001b[39mglobal_message\u001b[38;5;241m.\u001b[39mstartswith(status_emr) \u001b[38;5;129;01mor\u001b[39;00m conn\u001b[38;5;241m.\u001b[39mglobal_message\u001b[38;5;241m.\u001b[39mstartswith(status_acc):\n\u001b[0;32m     19\u001b[0m     type_r,duration\u001b[38;5;241m=\u001b[39mconn\u001b[38;5;241m.\u001b[39mglobal_message\u001b[38;5;241m.\u001b[39msplit()\n",
      "File \u001b[1;32mc:\\Users\\LapStore\\AppData\\Local\\Programs\\Python\\Python311\\Lib\\site-packages\\stable_baselines3\\common\\vec_env\\base_vec_env.py:222\u001b[0m, in \u001b[0;36mVecEnv.step\u001b[1;34m(self, actions)\u001b[0m\n\u001b[0;32m    215\u001b[0m \u001b[38;5;250m\u001b[39m\u001b[38;5;124;03m\"\"\"\u001b[39;00m\n\u001b[0;32m    216\u001b[0m \u001b[38;5;124;03mStep the environments with the given action\u001b[39;00m\n\u001b[0;32m    217\u001b[0m \n\u001b[0;32m    218\u001b[0m \u001b[38;5;124;03m:param actions: the action\u001b[39;00m\n\u001b[0;32m    219\u001b[0m \u001b[38;5;124;03m:return: observation, reward, done, information\u001b[39;00m\n\u001b[0;32m    220\u001b[0m \u001b[38;5;124;03m\"\"\"\u001b[39;00m\n\u001b[0;32m    221\u001b[0m \u001b[38;5;28mself\u001b[39m\u001b[38;5;241m.\u001b[39mstep_async(actions)\n\u001b[1;32m--> 222\u001b[0m \u001b[38;5;28;01mreturn\u001b[39;00m \u001b[38;5;28;43mself\u001b[39;49m\u001b[38;5;241;43m.\u001b[39;49m\u001b[43mstep_wait\u001b[49m\u001b[43m(\u001b[49m\u001b[43m)\u001b[49m\n",
      "File \u001b[1;32mc:\\Users\\LapStore\\AppData\\Local\\Programs\\Python\\Python311\\Lib\\site-packages\\stable_baselines3\\common\\vec_env\\vec_normalize.py:181\u001b[0m, in \u001b[0;36mVecNormalize.step_wait\u001b[1;34m(self)\u001b[0m\n\u001b[0;32m    174\u001b[0m \u001b[38;5;28;01mdef\u001b[39;00m \u001b[38;5;21mstep_wait\u001b[39m(\u001b[38;5;28mself\u001b[39m) \u001b[38;5;241m-\u001b[39m\u001b[38;5;241m>\u001b[39m VecEnvStepReturn:\n\u001b[0;32m    175\u001b[0m \u001b[38;5;250m    \u001b[39m\u001b[38;5;124;03m\"\"\"\u001b[39;00m\n\u001b[0;32m    176\u001b[0m \u001b[38;5;124;03m    Apply sequence of actions to sequence of environments\u001b[39;00m\n\u001b[0;32m    177\u001b[0m \u001b[38;5;124;03m    actions -> (observations, rewards, dones)\u001b[39;00m\n\u001b[0;32m    178\u001b[0m \n\u001b[0;32m    179\u001b[0m \u001b[38;5;124;03m    where ``dones`` is a boolean vector indicating whether each element is new.\u001b[39;00m\n\u001b[0;32m    180\u001b[0m \u001b[38;5;124;03m    \"\"\"\u001b[39;00m\n\u001b[1;32m--> 181\u001b[0m     obs, rewards, dones, infos \u001b[38;5;241m=\u001b[39m \u001b[38;5;28;43mself\u001b[39;49m\u001b[38;5;241;43m.\u001b[39;49m\u001b[43mvenv\u001b[49m\u001b[38;5;241;43m.\u001b[39;49m\u001b[43mstep_wait\u001b[49m\u001b[43m(\u001b[49m\u001b[43m)\u001b[49m\n\u001b[0;32m    182\u001b[0m     \u001b[38;5;28;01massert\u001b[39;00m \u001b[38;5;28misinstance\u001b[39m(obs, (np\u001b[38;5;241m.\u001b[39mndarray, \u001b[38;5;28mdict\u001b[39m))  \u001b[38;5;66;03m# for mypy\u001b[39;00m\n\u001b[0;32m    183\u001b[0m     \u001b[38;5;28mself\u001b[39m\u001b[38;5;241m.\u001b[39mold_obs \u001b[38;5;241m=\u001b[39m obs\n",
      "File \u001b[1;32mc:\\Users\\LapStore\\AppData\\Local\\Programs\\Python\\Python311\\Lib\\site-packages\\stable_baselines3\\common\\vec_env\\dummy_vec_env.py:59\u001b[0m, in \u001b[0;36mDummyVecEnv.step_wait\u001b[1;34m(self)\u001b[0m\n\u001b[0;32m     56\u001b[0m \u001b[38;5;28;01mdef\u001b[39;00m \u001b[38;5;21mstep_wait\u001b[39m(\u001b[38;5;28mself\u001b[39m) \u001b[38;5;241m-\u001b[39m\u001b[38;5;241m>\u001b[39m VecEnvStepReturn:\n\u001b[0;32m     57\u001b[0m     \u001b[38;5;66;03m# Avoid circular imports\u001b[39;00m\n\u001b[0;32m     58\u001b[0m     \u001b[38;5;28;01mfor\u001b[39;00m env_idx \u001b[38;5;129;01min\u001b[39;00m \u001b[38;5;28mrange\u001b[39m(\u001b[38;5;28mself\u001b[39m\u001b[38;5;241m.\u001b[39mnum_envs):\n\u001b[1;32m---> 59\u001b[0m         obs, \u001b[38;5;28mself\u001b[39m\u001b[38;5;241m.\u001b[39mbuf_rews[env_idx], terminated, truncated, \u001b[38;5;28mself\u001b[39m\u001b[38;5;241m.\u001b[39mbuf_infos[env_idx] \u001b[38;5;241m=\u001b[39m \u001b[38;5;28;43mself\u001b[39;49m\u001b[38;5;241;43m.\u001b[39;49m\u001b[43menvs\u001b[49m\u001b[43m[\u001b[49m\u001b[43menv_idx\u001b[49m\u001b[43m]\u001b[49m\u001b[38;5;241;43m.\u001b[39;49m\u001b[43mstep\u001b[49m\u001b[43m(\u001b[49m\u001b[43m  \u001b[49m\u001b[38;5;66;43;03m# type: ignore[assignment]\u001b[39;49;00m\n\u001b[0;32m     60\u001b[0m \u001b[43m            \u001b[49m\u001b[38;5;28;43mself\u001b[39;49m\u001b[38;5;241;43m.\u001b[39;49m\u001b[43mactions\u001b[49m\u001b[43m[\u001b[49m\u001b[43menv_idx\u001b[49m\u001b[43m]\u001b[49m\n\u001b[0;32m     61\u001b[0m \u001b[43m        \u001b[49m\u001b[43m)\u001b[49m\n\u001b[0;32m     62\u001b[0m         \u001b[38;5;66;03m# convert to SB3 VecEnv api\u001b[39;00m\n\u001b[0;32m     63\u001b[0m         \u001b[38;5;28mself\u001b[39m\u001b[38;5;241m.\u001b[39mbuf_dones[env_idx] \u001b[38;5;241m=\u001b[39m terminated \u001b[38;5;129;01mor\u001b[39;00m truncated\n",
      "File \u001b[1;32mI:\\My Drive/study/graduation_project/final/Code/project_files/TrafficManager/TrafficManager\\SumoEnvSingleAgent.py:165\u001b[0m, in \u001b[0;36mSumoEnv.step\u001b[1;34m(self, action)\u001b[0m\n\u001b[0;32m    162\u001b[0m \u001b[38;5;28mself\u001b[39m\u001b[38;5;241m.\u001b[39mlast_3_signals\u001b[38;5;241m.\u001b[39mappend(real_action)\n\u001b[0;32m    164\u001b[0m \u001b[38;5;66;03m# Execute action in SUMO\u001b[39;00m\n\u001b[1;32m--> 165\u001b[0m agent_steps_done \u001b[38;5;241m=\u001b[39m (\u001b[38;5;28;43mself\u001b[39;49m\u001b[38;5;241;43m.\u001b[39;49m\u001b[43mconn\u001b[49m\u001b[38;5;241;43m.\u001b[39;49m\u001b[43mdo_step_one_agent\u001b[49m\u001b[43m(\u001b[49m\n\u001b[0;32m    166\u001b[0m \u001b[43m    \u001b[49m\u001b[38;5;28;43mself\u001b[39;49m\u001b[38;5;241;43m.\u001b[39;49m\u001b[43magent_id\u001b[49m\u001b[43m,\u001b[49m\u001b[43m \u001b[49m\n\u001b[0;32m    167\u001b[0m \u001b[43m    \u001b[49m\u001b[43mreal_action\u001b[49m\u001b[43m,\u001b[49m\u001b[43m \u001b[49m\n\u001b[0;32m    168\u001b[0m \u001b[43m    \u001b[49m\u001b[43mreal_duration\u001b[49m\u001b[43m,\u001b[49m\u001b[43m \u001b[49m\n\u001b[0;32m    169\u001b[0m \u001b[43m    \u001b[49m\u001b[38;5;28;43mself\u001b[39;49m\u001b[38;5;241;43m.\u001b[39;49m\u001b[43mmax_sumo_steps\u001b[49m\u001b[43m,\u001b[49m\u001b[43m \u001b[49m\n\u001b[0;32m    170\u001b[0m \u001b[43m    \u001b[49m\u001b[38;5;28;43mself\u001b[39;49m\u001b[38;5;241;43m.\u001b[39;49m\u001b[43mcurrent_step\u001b[49m\n\u001b[0;32m    171\u001b[0m \u001b[43m\u001b[49m\u001b[43m)\u001b[49m)\n\u001b[0;32m    173\u001b[0m \u001b[38;5;66;03m# Get new state\u001b[39;00m\n\u001b[0;32m    174\u001b[0m \u001b[38;5;28mself\u001b[39m\u001b[38;5;241m.\u001b[39mstate \u001b[38;5;241m=\u001b[39m np\u001b[38;5;241m.\u001b[39marray(\u001b[38;5;28mself\u001b[39m\u001b[38;5;241m.\u001b[39mconn\u001b[38;5;241m.\u001b[39mgetCurrentState(\u001b[38;5;28mself\u001b[39m\u001b[38;5;241m.\u001b[39magent_id))\n",
      "File \u001b[1;32mI:\\My Drive/study/graduation_project/final/Code/project_files/TrafficManager/TrafficManager\\Connections\\ProtoRealConnection.py:168\u001b[0m, in \u001b[0;36mProtoRealConnection.do_step_one_agent\u001b[1;34m(self, agent, new_action, duration, max_sumo_step, traffic_scale)\u001b[0m\n\u001b[0;32m    164\u001b[0m action_lane_i \u001b[38;5;241m=\u001b[39m new_action[\u001b[38;5;241m0\u001b[39m]\n\u001b[0;32m    166\u001b[0m \u001b[38;5;28;01mif\u001b[39;00m \u001b[38;5;28mself\u001b[39m\u001b[38;5;241m.\u001b[39m_last_real_action \u001b[38;5;241m==\u001b[39m action_lane_i:\n\u001b[1;32m--> 168\u001b[0m         \u001b[38;5;28;43mself\u001b[39;49m\u001b[38;5;241;43m.\u001b[39;49m\u001b[43mdo_steps_duration\u001b[49m\u001b[43m(\u001b[49m\u001b[43m \u001b[49m\u001b[43maction_lane_i\u001b[49m\u001b[43m \u001b[49m\u001b[43m,\u001b[49m\u001b[43m \u001b[49m\u001b[43mduration\u001b[49m\u001b[43m,\u001b[49m\u001b[43m \u001b[49m\u001b[43mmax_sumo_step\u001b[49m\u001b[43m,\u001b[49m\u001b[43m \u001b[49m\u001b[43magent\u001b[49m\u001b[43m,\u001b[49m\u001b[43m \u001b[49m\u001b[43mtraffic_scale\u001b[49m\u001b[43m)\u001b[49m\n\u001b[0;32m    171\u001b[0m \u001b[38;5;28;01melse\u001b[39;00m:\n\u001b[0;32m    172\u001b[0m         \u001b[38;5;28mself\u001b[39m\u001b[38;5;241m.\u001b[39mdo_steps_duration( \u001b[38;5;124m'\u001b[39m\u001b[38;5;124my\u001b[39m\u001b[38;5;124m'\u001b[39m , \u001b[38;5;28mself\u001b[39m\u001b[38;5;241m.\u001b[39myellow_seconds, max_sumo_step, agent, traffic_scale)\n",
      "File \u001b[1;32mI:\\My Drive/study/graduation_project/final/Code/project_files/TrafficManager/TrafficManager\\Connections\\ProtoRealConnection.py:154\u001b[0m, in \u001b[0;36mProtoRealConnection.do_steps_duration\u001b[1;34m(self, action_lane_i, duration, max_sumo_step, agent, traffic_scale)\u001b[0m\n\u001b[0;32m    150\u001b[0m \u001b[38;5;250m\u001b[39m\u001b[38;5;124;03m\"\"\"\u001b[39;00m\n\u001b[0;32m    151\u001b[0m \u001b[38;5;124;03mPerforms simulation steps for a given duration.\u001b[39;00m\n\u001b[0;32m    152\u001b[0m \u001b[38;5;124;03m\"\"\"\u001b[39;00m\n\u001b[0;32m    153\u001b[0m duration_wanted_without_ardinuo \u001b[38;5;241m=\u001b[39m duration \u001b[38;5;241m-\u001b[39m \u001b[38;5;28mself\u001b[39m\u001b[38;5;241m.\u001b[39mardinuo_second_error\n\u001b[1;32m--> 154\u001b[0m \u001b[38;5;28;43mself\u001b[39;49m\u001b[38;5;241;43m.\u001b[39;49m\u001b[43mardinuo\u001b[49m\u001b[38;5;241;43m.\u001b[39;49m\u001b[43msend_command\u001b[49m\u001b[43m(\u001b[49m\u001b[43maction_lane_i\u001b[49m\u001b[43m,\u001b[49m\u001b[43mduration\u001b[49m\u001b[38;5;241;43m-\u001b[39;49m\u001b[38;5;241;43m1\u001b[39;49m\u001b[43m)\u001b[49m \u001b[38;5;66;03m# duration-1 as it consider zero\u001b[39;00m\n\u001b[0;32m    155\u001b[0m \u001b[38;5;28mself\u001b[39m\u001b[38;5;241m.\u001b[39mread_video(action_lane_i,duration_wanted_without_ardinuo)\n",
      "File \u001b[1;32mI:\\My Drive/study/graduation_project/final/Code/project_files/TrafficManager/TrafficManager\\Connections\\Proto_Connection_Utils\\ardinuo.py:21\u001b[0m, in \u001b[0;36mardinuo.send_command\u001b[1;34m(self, light, duration)\u001b[0m\n\u001b[0;32m     19\u001b[0m command \u001b[38;5;241m=\u001b[39m \u001b[38;5;124mf\u001b[39m\u001b[38;5;124m\"\u001b[39m\u001b[38;5;132;01m{\u001b[39;00mlight\u001b[38;5;132;01m}\u001b[39;00m\u001b[38;5;124m,\u001b[39m\u001b[38;5;132;01m{\u001b[39;00mduration\u001b[38;5;132;01m}\u001b[39;00m\u001b[38;5;130;01m\\n\u001b[39;00m\u001b[38;5;124m\"\u001b[39m  \u001b[38;5;66;03m# Format: light,duration\u001b[39;00m\n\u001b[0;32m     20\u001b[0m \u001b[38;5;66;03m# Send the command to the Arduino\u001b[39;00m\n\u001b[1;32m---> 21\u001b[0m \u001b[38;5;28;43mself\u001b[39;49m\u001b[38;5;241;43m.\u001b[39;49m\u001b[43marduino\u001b[49m\u001b[38;5;241;43m.\u001b[39;49m\u001b[43mwrite\u001b[49m\u001b[43m(\u001b[49m\u001b[43mcommand\u001b[49m\u001b[38;5;241;43m.\u001b[39;49m\u001b[43mencode\u001b[49m\u001b[43m(\u001b[49m\u001b[43m)\u001b[49m\u001b[43m)\u001b[49m\n\u001b[0;32m     22\u001b[0m time\u001b[38;5;241m.\u001b[39msleep(\u001b[38;5;241m0.5\u001b[39m)\n",
      "File \u001b[1;32mc:\\Users\\LapStore\\AppData\\Local\\Programs\\Python\\Python311\\Lib\\site-packages\\serial\\serialwin32.py:317\u001b[0m, in \u001b[0;36mSerial.write\u001b[1;34m(self, data)\u001b[0m\n\u001b[0;32m    315\u001b[0m \u001b[38;5;28;01mif\u001b[39;00m \u001b[38;5;28mself\u001b[39m\u001b[38;5;241m.\u001b[39m_write_timeout \u001b[38;5;241m!=\u001b[39m \u001b[38;5;241m0\u001b[39m:  \u001b[38;5;66;03m# if blocking (None) or w/ write timeout (>0)\u001b[39;00m\n\u001b[0;32m    316\u001b[0m     \u001b[38;5;28;01mif\u001b[39;00m \u001b[38;5;129;01mnot\u001b[39;00m success \u001b[38;5;129;01mand\u001b[39;00m win32\u001b[38;5;241m.\u001b[39mGetLastError() \u001b[38;5;129;01mnot\u001b[39;00m \u001b[38;5;129;01min\u001b[39;00m (win32\u001b[38;5;241m.\u001b[39mERROR_SUCCESS, win32\u001b[38;5;241m.\u001b[39mERROR_IO_PENDING):\n\u001b[1;32m--> 317\u001b[0m         \u001b[38;5;28;01mraise\u001b[39;00m SerialException(\u001b[38;5;124m\"\u001b[39m\u001b[38;5;124mWriteFile failed (\u001b[39m\u001b[38;5;132;01m{!r}\u001b[39;00m\u001b[38;5;124m)\u001b[39m\u001b[38;5;124m\"\u001b[39m\u001b[38;5;241m.\u001b[39mformat(ctypes\u001b[38;5;241m.\u001b[39mWinError()))\n\u001b[0;32m    319\u001b[0m     \u001b[38;5;66;03m# Wait for the write to complete.\u001b[39;00m\n\u001b[0;32m    320\u001b[0m     \u001b[38;5;66;03m#~ win32.WaitForSingleObject(self._overlapped_write.hEvent, win32.INFINITE)\u001b[39;00m\n\u001b[0;32m    321\u001b[0m     win32\u001b[38;5;241m.\u001b[39mGetOverlappedResult(\u001b[38;5;28mself\u001b[39m\u001b[38;5;241m.\u001b[39m_port_handle, \u001b[38;5;28mself\u001b[39m\u001b[38;5;241m.\u001b[39m_overlapped_write, ctypes\u001b[38;5;241m.\u001b[39mbyref(n), \u001b[38;5;28;01mTrue\u001b[39;00m)\n",
      "\u001b[1;31mSerialException\u001b[0m: WriteFile failed (PermissionError(13, 'The device does not recognize the command.', None, 22))"
     ]
    }
   ],
   "source": [
    "import random\n",
    "import serial\n",
    "\n",
    "\n",
    "while True:\n",
    "    print(\"global_message: \", conn.global_message)\n",
    "    if conn.global_message==status_free:\n",
    "        predicated_action = agent.get_action(conn.getCurrentState(agent_id))\n",
    "\n",
    "        action,duration = env.encoded_action_mapping[predicated_action]\n",
    "        print(f\"ACTION {predicated_action} Signal {action} with duration {duration} seconds\")\n",
    " \n",
    "        conn.is_rl = True\n",
    "        vec_env.step([predicated_action])\n",
    "\n",
    "\n",
    "    elif conn.global_message.startswith(status_emr) or conn.global_message.startswith(status_acc):\n",
    "        \n",
    "        type_r,duration=conn.global_message.split()\n",
    "        action = 'g' if type_r=='EMR' else 'r'\n",
    "        print(\"start_action _  \",action,\" \",type_r,\" \",str(duration))\n",
    "        \n",
    "        conn.is_rl = False\n",
    "        conn.ardinuo.reset()\n",
    "        time.sleep(1)  # Wait for ardinuo to reset\n",
    "        conn.do_steps_duration(action,int(duration),0,0,0)\n",
    "        conn.is_rl =True\n",
    "\n",
    "\n",
    "\n",
    "    \n",
    "    \n"
   ]
  }
 ],
 "metadata": {
  "colab": {
   "provenance": []
  },
  "kernelspec": {
   "display_name": "Python 3",
   "language": "python",
   "name": "python3"
  },
  "language_info": {
   "codemirror_mode": {
    "name": "ipython",
    "version": 3
   },
   "file_extension": ".py",
   "mimetype": "text/x-python",
   "name": "python",
   "nbconvert_exporter": "python",
   "pygments_lexer": "ipython3",
   "version": "3.11.4"
  }
 },
 "nbformat": 4,
 "nbformat_minor": 5
}
