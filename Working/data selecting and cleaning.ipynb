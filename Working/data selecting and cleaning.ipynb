{
 "cells": [
  {
   "cell_type": "code",
   "execution_count": 2,
   "id": "c6a4cbc3",
   "metadata": {},
   "outputs": [],
   "source": [
    "import sys\n",
    "path_project_folder = \"I:/My Drive/study/graduation_project/final/Code/project_files/TrafficManager/TrafficManager/\"\n",
    "sys.path.append(path_project_folder)\n"
   ]
  },
  {
   "cell_type": "code",
   "execution_count": 3,
   "id": "12396b51",
   "metadata": {},
   "outputs": [],
   "source": [
    "from Connections import SumoConnection\n",
    "from Connections.Connection import *\n",
    "from dotenv import load_dotenv\n",
    "import os\n",
    "import traci"
   ]
  },
  {
   "cell_type": "markdown",
   "id": "d39f7685",
   "metadata": {},
   "source": [
    "## Load Sumo (on whole map to extract info)"
   ]
  },
  {
   "cell_type": "code",
   "execution_count": null,
   "id": "f83f5a6f",
   "metadata": {},
   "outputs": [],
   "source": [
    "load_dotenv(path_project_folder + \"keys.env\")\n",
    "sumo_home = str(os.getenv(\"sumo_home_win\")) # modify for linux sumo_home_lin ,windows : sumo_home_win\n",
    "sumo_binary = str(os.getenv(\"sumo_binary_gui_win\")) # linux : sumo_binary_lin ,windows : sumo_binary_cli_win / sumo_binary_gui_win\n",
    "path_cfg = \"I:/My Drive/study/graduation_project/final/Code/project_files/TrafficManager/AIST_modified/osm.sumocfg\" \n",
    " # str(os.getenv(\"path_cfg_win\")) for windows , str(os.getenv(\"path_cfg_lin\")) for linux\n",
    "# \"D:/study/Projects/faculty/graduation project/code point/single-intersection/cfg.sumocfg\""
   ]
  },
  {
   "cell_type": "code",
   "execution_count": 6,
   "id": "cddb90f8",
   "metadata": {},
   "outputs": [],
   "source": [
    "cmd=[sumo_binary, \"-c\", path_cfg ,\"--log\", \"sumo_log.txt\", \"--verbose\", \"true\"]\n"
   ]
  },
  {
   "cell_type": "code",
   "execution_count": 7,
   "id": "6867fb08",
   "metadata": {},
   "outputs": [
    {
     "name": "stdout",
     "output_type": "stream",
     "text": [
      "No connection found, creating a new connection ❌\n"
     ]
    }
   ],
   "source": [
    "conn=SumoConnection.SumoConnection(cmd)"
   ]
  },
  {
   "cell_type": "markdown",
   "id": "7abdd0b8",
   "metadata": {},
   "source": [
    "## Get Links"
   ]
  },
  {
   "cell_type": "code",
   "execution_count": null,
   "id": "66d62d41",
   "metadata": {},
   "outputs": [],
   "source": [
    "import traci \n",
    "# pick your two TL IDs\n",
    "wanted = [\"1888496828\"]#[\"cluster_10969157359_1892893086_339076592_4166052956_#1more\"]\n",
    "\n",
    "for tl in wanted:\n",
    "\n",
    "    links = traci.trafficlight.getControlledLinks(tl)\n",
    "    print(f\"TL {tl} controls {len(links)} movements:\")\n",
    "    for ll in links:\n",
    "        print(ll)"
   ]
  },
  {
   "cell_type": "code",
   "execution_count": null,
   "id": "f5fdf921",
   "metadata": {},
   "outputs": [],
   "source": [
    "raw_movements_rl = [\n",
    "    ('178300937#1_0', '509341077#1_0', ':1888496828_0_0'),\n",
    "    ('178300937#1_0', '178300937#2_0', ':1888496828_1_0'),\n",
    "    ('178300937#1_0', '-509341077#0_0', ':1888496828_2_0'),\n",
    "    ('178300937#1_0', '-178300937#1_0', ':1888496828_3_0'),\n",
    "    ('509341077#0_0', '-178300937#1_0', ':1888496828_4_0'),\n",
    "    ('509341077#0_0', '509341077#1_0', ':1888496828_5_0'),\n",
    "    ('509341077#0_0', '178300937#2_0', ':1888496828_6_0'),\n",
    "    ('509341077#0_0', '-509341077#0_0', ':1888496828_7_0'),\n",
    "    ('178936279#2_0', '178936279#3_0', ':1888496828_8_0'),\n",
    "    ('-178300937#2_0', '-509341077#0_0', ':1888496828_9_0'),\n",
    "    ('-178300937#2_0', '-178300937#1_0', ':1888496828_10_0'),\n",
    "    ('-178300937#2_0', '509341077#1_0', ':1888496828_11_0'),\n",
    "    ('-178300937#2_0', '178300937#2_0', ':1888496828_12_0'),\n",
    "    ('-509341077#1_0', '178300937#2_0', ':1888496828_13_0'),\n",
    "    ('-509341077#1_0', '-509341077#0_0', ':1888496828_14_0'),\n",
    "    ('-509341077#1_0', '-178300937#1_0', ':1888496828_15_0'),\n",
    "    ('-509341077#1_0', '509341077#1_0', ':1888496828_16_0')\n",
    "]\n",
    "\n"
   ]
  },
  {
   "cell_type": "code",
   "execution_count": null,
   "id": "25cc545c",
   "metadata": {},
   "outputs": [],
   "source": [
    "raw_movements_iot = [\n",
    "('509244002#1_0', '509244002#2_0', ':cluster_10969157359_1892893086_339076592_4166052956_#1more_0_0'),\n",
    "('44638703#4_0', '44638703#5_0', ':cluster_10969157359_1892893086_339076592_4166052956_#1more_1_0'),\n",
    "('-42343865#0_0', '554792689#17_0', ':cluster_10969157359_1892893086_339076592_4166052956_#1more_2_0'),\n",
    "('-42343865#0_0', '178936293#5_0', ':cluster_10969157359_1892893086_339076592_4166052956_#1more_3_0'),\n",
    "('-42343865#0_0', '178129404#4_0', ':cluster_10969157359_1892893086_339076592_4166052956_#1more_4_0'),\n",
    "('-42343865#0_0', '42343865#0_0', ':cluster_10969157359_1892893086_339076592_4166052956_#1more_5_0'),\n",
    "('-178129404#4_0', '42343865#0_0', ':cluster_10969157359_1892893086_339076592_4166052956_#1more_6_0'),\n",
    "('-178129404#4_0', '554792689#17_0', ':cluster_10969157359_1892893086_339076592_4166052956_#1more_7_0'),\n",
    "('-178129404#4_0', '178936293#5_0', ':cluster_10969157359_1892893086_339076592_4166052956_#1more_8_0'),\n",
    "('-178129404#4_0', '178129404#4_0', ':cluster_10969157359_1892893086_339076592_4166052956_#1more_9_0'),\n",
    "('554792689#16_0', '178129404#4_0', ':cluster_10969157359_1892893086_339076592_4166052956_#1more_10_0'),\n",
    "('554792689#16_0', '42343865#0_0', ':cluster_10969157359_1892893086_339076592_4166052956_#1more_11_0'),\n",
    "('554792689#16_0', '554792689#17_0', ':cluster_10969157359_1892893086_339076592_4166052956_#1more_12_0'),\n",
    "('554792689#16_0', '178936293#5_0', ':cluster_10969157359_1892893086_339076592_4166052956_#1more_13_0'),\n",
    "('178936293#4_0', '178936293#5_0', ':cluster_10969157359_1892893086_339076592_4166052956_#1more_14_0'),\n",
    "('178936293#4_0', '178129404#4_0', ':cluster_10969157359_1892893086_339076592_4166052956_#1more_15_0'),\n",
    "('178936293#4_0', '42343865#0_0', ':cluster_10969157359_1892893086_339076592_4166052956_#1more_16_0'),\n",
    "('178936293#4_0', '554792689#17_0', ':cluster_10969157359_1892893086_339076592_4166052956_#1more_17_0')]\n"
   ]
  },
  {
   "cell_type": "markdown",
   "id": "cb1bd745",
   "metadata": {},
   "source": [
    "## Make edge file"
   ]
  },
  {
   "cell_type": "code",
   "execution_count": null,
   "id": "c3c5760b",
   "metadata": {},
   "outputs": [],
   "source": [
    "# Extract and clean edge IDs\n",
    "edges = set()\n",
    "for from_edge, to_edge, _ in raw_movements_iot:\n",
    "    for edge in (from_edge, to_edge):\n",
    "        # Remove the lane suffix (_0) to get the edge ID\n",
    "        edge_base = edge.rsplit('_', 1)[0]\n",
    "        edges.add(edge_base)\n",
    "\n",
    "# Write to file\n",
    "with open('AIST_Cleaned/mobile_iot/edges_list.txt', 'w') as f:\n",
    "    for edge in sorted(edges):\n",
    "        f.write(f\"{edge}\\n\")\n"
   ]
  },
  {
   "cell_type": "markdown",
   "id": "6c71033b",
   "metadata": {},
   "source": [
    "## Crop Map"
   ]
  },
  {
   "cell_type": "code",
   "execution_count": null,
   "id": "1738afa6",
   "metadata": {},
   "outputs": [],
   "source": [
    "!netconvert --sumo-net-file \"I:/My Drive/study/graduation_project/final/Code/project_files/TrafficManager/AIST_modified/osm.net.xml\"  --keep-edges.input-file \"AIST_Cleaned/mobile_iot/edges_list.txt\" --output-file \"AIST_Cleaned/mobile_iot/area_net.net.xml\"  \n"
   ]
  },
  {
   "cell_type": "markdown",
   "id": "494d80bb",
   "metadata": {},
   "source": [
    "## Make Trips"
   ]
  },
  {
   "cell_type": "code",
   "execution_count": null,
   "id": "de186b09",
   "metadata": {},
   "outputs": [],
   "source": []
  },
  {
   "cell_type": "code",
   "execution_count": 8,
   "id": "5ad14b6a",
   "metadata": {},
   "outputs": [
    {
     "data": {
      "text/plain": [
       "86400.0"
      ]
     },
     "execution_count": 8,
     "metadata": {},
     "output_type": "execute_result"
    }
   ],
   "source": [
    "172800 /2"
   ]
  },
  {
   "cell_type": "code",
   "execution_count": 1,
   "id": "0c26e024",
   "metadata": {},
   "outputs": [
    {
     "name": "stdout",
     "output_type": "stream",
     "text": [
      "Success.\n"
     ]
    }
   ],
   "source": [
    "!python \"C:\\Program Files (x86)/Eclipse/Sumo/tools/randomTrips.py\" -n \"I:/My Drive/study/graduation_project/final/Code/project_files/TrafficManager/TrafficManager/AIST_Cleaned/data3_san_stefano/map.net.xml\"   -r \"I:/My Drive/study/graduation_project/final/Code/project_files/TrafficManager/TrafficManager/AIST_Cleaned/data3_san_stefano/route.rou.xml\" -e 86400  --additional-files \"I:/My Drive/study/graduation_project/final/Code/project_files/TrafficManager/TrafficManager/AIST_Cleaned/data3_san_stefano/vtypes.add.xml\"\n"
   ]
  }
 ],
 "metadata": {
  "kernelspec": {
   "display_name": "Python 3",
   "language": "python",
   "name": "python3"
  },
  "language_info": {
   "codemirror_mode": {
    "name": "ipython",
    "version": 3
   },
   "file_extension": ".py",
   "mimetype": "text/x-python",
   "name": "python",
   "nbconvert_exporter": "python",
   "pygments_lexer": "ipython3",
   "version": "3.11.4"
  }
 },
 "nbformat": 4,
 "nbformat_minor": 5
}
