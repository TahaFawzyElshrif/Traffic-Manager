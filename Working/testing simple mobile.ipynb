{
 "cells": [
  {
   "cell_type": "markdown",
   "id": "124d0b15",
   "metadata": {},
   "source": [
    "## Done Steps already --> get true traffic light"
   ]
  },
  {
   "cell_type": "code",
   "execution_count": 8,
   "id": "de235e78",
   "metadata": {},
   "outputs": [
    {
     "name": "stdout",
     "output_type": "stream",
     "text": [
      "                                   geometry          highway\n",
      "element id                                                  \n",
      "node    6082411793  POINT (29.96552 31.246)  traffic_signals\n"
     ]
    }
   ],
   "source": [
    "\n",
    "import osmnx as ox\n",
    "import geopandas as gpd\n",
    "\n",
    "# Define the bounding box or coordinates\n",
    "point = (31.246045, 29.965501)#(31.223881, 29.941945)#(31.195300, 29.896000)#(31.20508426983884, 29.92390596000385)#(31.215700, 29.957500)#(31.20508426983884, 29.92390596000385)#(31.24576435679252, 29.965462454128488) #(31.222781, 29.940586)\n",
    "# 1893407032 (31.224272, 29.954452) at 340 at least ,500\n",
    "# cluster_10969157359_1892893086_339076592_4166052956_#1more (31.222781, 29.940586) : at 125 give one ,may say 2 as error\n",
    "\n",
    "tags = {'highway': 'traffic_signals'}\n",
    "gdf = ox.features_from_point(point, tags=tags, dist=10)  \n",
    "\n",
    "# Show result\n",
    "print(gdf[['geometry', 'highway']])\n"
   ]
  },
  {
   "cell_type": "code",
   "execution_count": 13,
   "id": "3f05fb76",
   "metadata": {},
   "outputs": [
    {
     "data": {
      "text/html": [
       "<div style=\"width:100%;\"><div style=\"position:relative;width:100%;height:0;padding-bottom:60%;\"><span style=\"color:#565656\">Make this Notebook Trusted to load map: File -> Trust Notebook</span><iframe srcdoc=\"&lt;!DOCTYPE html&gt;\n",
       "&lt;html&gt;\n",
       "&lt;head&gt;\n",
       "    \n",
       "    &lt;meta http-equiv=&quot;content-type&quot; content=&quot;text/html; charset=UTF-8&quot; /&gt;\n",
       "    \n",
       "        &lt;script&gt;\n",
       "            L_NO_TOUCH = false;\n",
       "            L_DISABLE_3D = false;\n",
       "        &lt;/script&gt;\n",
       "    \n",
       "    &lt;style&gt;html, body {width: 100%;height: 100%;margin: 0;padding: 0;}&lt;/style&gt;\n",
       "    &lt;style&gt;#map {position:absolute;top:0;bottom:0;right:0;left:0;}&lt;/style&gt;\n",
       "    &lt;script src=&quot;https://cdn.jsdelivr.net/npm/leaflet@1.9.3/dist/leaflet.js&quot;&gt;&lt;/script&gt;\n",
       "    &lt;script src=&quot;https://code.jquery.com/jquery-3.7.1.min.js&quot;&gt;&lt;/script&gt;\n",
       "    &lt;script src=&quot;https://cdn.jsdelivr.net/npm/bootstrap@5.2.2/dist/js/bootstrap.bundle.min.js&quot;&gt;&lt;/script&gt;\n",
       "    &lt;script src=&quot;https://cdnjs.cloudflare.com/ajax/libs/Leaflet.awesome-markers/2.0.2/leaflet.awesome-markers.js&quot;&gt;&lt;/script&gt;\n",
       "    &lt;link rel=&quot;stylesheet&quot; href=&quot;https://cdn.jsdelivr.net/npm/leaflet@1.9.3/dist/leaflet.css&quot;/&gt;\n",
       "    &lt;link rel=&quot;stylesheet&quot; href=&quot;https://cdn.jsdelivr.net/npm/bootstrap@5.2.2/dist/css/bootstrap.min.css&quot;/&gt;\n",
       "    &lt;link rel=&quot;stylesheet&quot; href=&quot;https://netdna.bootstrapcdn.com/bootstrap/3.0.0/css/bootstrap-glyphicons.css&quot;/&gt;\n",
       "    &lt;link rel=&quot;stylesheet&quot; href=&quot;https://cdn.jsdelivr.net/npm/@fortawesome/fontawesome-free@6.2.0/css/all.min.css&quot;/&gt;\n",
       "    &lt;link rel=&quot;stylesheet&quot; href=&quot;https://cdnjs.cloudflare.com/ajax/libs/Leaflet.awesome-markers/2.0.2/leaflet.awesome-markers.css&quot;/&gt;\n",
       "    &lt;link rel=&quot;stylesheet&quot; href=&quot;https://cdn.jsdelivr.net/gh/python-visualization/folium/folium/templates/leaflet.awesome.rotate.min.css&quot;/&gt;\n",
       "    \n",
       "            &lt;meta name=&quot;viewport&quot; content=&quot;width=device-width,\n",
       "                initial-scale=1.0, maximum-scale=1.0, user-scalable=no&quot; /&gt;\n",
       "            &lt;style&gt;\n",
       "                #map_9d3cd90ed0f708d094a75293a53585a6 {\n",
       "                    position: relative;\n",
       "                    width: 100.0%;\n",
       "                    height: 100.0%;\n",
       "                    left: 0.0%;\n",
       "                    top: 0.0%;\n",
       "                }\n",
       "                .leaflet-container { font-size: 1rem; }\n",
       "            &lt;/style&gt;\n",
       "        \n",
       "    \n",
       "                    &lt;style&gt;\n",
       "                        .foliumtooltip {\n",
       "                            \n",
       "                        }\n",
       "                       .foliumtooltip table{\n",
       "                            margin: auto;\n",
       "                        }\n",
       "                        .foliumtooltip tr{\n",
       "                            text-align: left;\n",
       "                        }\n",
       "                        .foliumtooltip th{\n",
       "                            padding: 2px; padding-right: 8px;\n",
       "                        }\n",
       "                    &lt;/style&gt;\n",
       "            \n",
       "&lt;/head&gt;\n",
       "&lt;body&gt;\n",
       "    \n",
       "    \n",
       "            &lt;div class=&quot;folium-map&quot; id=&quot;map_9d3cd90ed0f708d094a75293a53585a6&quot; &gt;&lt;/div&gt;\n",
       "        \n",
       "&lt;/body&gt;\n",
       "&lt;script&gt;\n",
       "    \n",
       "    \n",
       "            var map_9d3cd90ed0f708d094a75293a53585a6 = L.map(\n",
       "                &quot;map_9d3cd90ed0f708d094a75293a53585a6&quot;,\n",
       "                {\n",
       "                    center: [31.2460039, 29.9655226],\n",
       "                    crs: L.CRS.EPSG3857,\n",
       "                    ...{\n",
       "  &quot;zoom&quot;: 10,\n",
       "  &quot;zoomControl&quot;: true,\n",
       "  &quot;preferCanvas&quot;: false,\n",
       "}\n",
       "\n",
       "                }\n",
       "            );\n",
       "            L.control.scale().addTo(map_9d3cd90ed0f708d094a75293a53585a6);\n",
       "\n",
       "            \n",
       "\n",
       "        \n",
       "    \n",
       "            var tile_layer_9acb0061a94e5a7233122796f7bbe967 = L.tileLayer(\n",
       "                &quot;https://tile.openstreetmap.org/{z}/{x}/{y}.png&quot;,\n",
       "                {\n",
       "  &quot;minZoom&quot;: 0,\n",
       "  &quot;maxZoom&quot;: 19,\n",
       "  &quot;maxNativeZoom&quot;: 19,\n",
       "  &quot;noWrap&quot;: false,\n",
       "  &quot;attribution&quot;: &quot;\\u0026copy; \\u003ca href=\\&quot;https://www.openstreetmap.org/copyright\\&quot;\\u003eOpenStreetMap\\u003c/a\\u003e contributors&quot;,\n",
       "  &quot;subdomains&quot;: &quot;abc&quot;,\n",
       "  &quot;detectRetina&quot;: false,\n",
       "  &quot;tms&quot;: false,\n",
       "  &quot;opacity&quot;: 1,\n",
       "}\n",
       "\n",
       "            );\n",
       "        \n",
       "    \n",
       "            tile_layer_9acb0061a94e5a7233122796f7bbe967.addTo(map_9d3cd90ed0f708d094a75293a53585a6);\n",
       "        \n",
       "    \n",
       "            map_9d3cd90ed0f708d094a75293a53585a6.fitBounds(\n",
       "                [[31.2460039, 29.9655226], [31.2460039, 29.9655226]],\n",
       "                {}\n",
       "            );\n",
       "        \n",
       "    \n",
       "        function geo_json_406baa221a844c6844b45ea550adbe52_styler(feature) {\n",
       "            switch(feature.id) {\n",
       "                default:\n",
       "                    return {&quot;fillOpacity&quot;: 0.5, &quot;weight&quot;: 2};\n",
       "            }\n",
       "        }\n",
       "        function geo_json_406baa221a844c6844b45ea550adbe52_highlighter(feature) {\n",
       "            switch(feature.id) {\n",
       "                default:\n",
       "                    return {&quot;fillOpacity&quot;: 0.75};\n",
       "            }\n",
       "        }\n",
       "        function geo_json_406baa221a844c6844b45ea550adbe52_pointToLayer(feature, latlng) {\n",
       "            var opts = {&quot;bubblingMouseEvents&quot;: true, &quot;color&quot;: &quot;#3388ff&quot;, &quot;dashArray&quot;: null, &quot;dashOffset&quot;: null, &quot;fill&quot;: true, &quot;fillColor&quot;: &quot;#3388ff&quot;, &quot;fillOpacity&quot;: 0.2, &quot;fillRule&quot;: &quot;evenodd&quot;, &quot;lineCap&quot;: &quot;round&quot;, &quot;lineJoin&quot;: &quot;round&quot;, &quot;opacity&quot;: 1.0, &quot;radius&quot;: 2, &quot;stroke&quot;: true, &quot;weight&quot;: 3};\n",
       "            \n",
       "            let style = geo_json_406baa221a844c6844b45ea550adbe52_styler(feature)\n",
       "            Object.assign(opts, style)\n",
       "            \n",
       "            return new L.CircleMarker(latlng, opts)\n",
       "        }\n",
       "\n",
       "        function geo_json_406baa221a844c6844b45ea550adbe52_onEachFeature(feature, layer) {\n",
       "            layer.on({\n",
       "                mouseout: function(e) {\n",
       "                    if(typeof e.target.setStyle === &quot;function&quot;){\n",
       "                            geo_json_406baa221a844c6844b45ea550adbe52.resetStyle(e.target);\n",
       "                    }\n",
       "                },\n",
       "                mouseover: function(e) {\n",
       "                    if(typeof e.target.setStyle === &quot;function&quot;){\n",
       "                        const highlightStyle = geo_json_406baa221a844c6844b45ea550adbe52_highlighter(e.target.feature)\n",
       "                        e.target.setStyle(highlightStyle);\n",
       "                    }\n",
       "                },\n",
       "            });\n",
       "        };\n",
       "        var geo_json_406baa221a844c6844b45ea550adbe52 = L.geoJson(null, {\n",
       "                onEachFeature: geo_json_406baa221a844c6844b45ea550adbe52_onEachFeature,\n",
       "            \n",
       "                style: geo_json_406baa221a844c6844b45ea550adbe52_styler,\n",
       "                pointToLayer: geo_json_406baa221a844c6844b45ea550adbe52_pointToLayer,\n",
       "            ...{\n",
       "}\n",
       "        });\n",
       "\n",
       "        function geo_json_406baa221a844c6844b45ea550adbe52_add (data) {\n",
       "            geo_json_406baa221a844c6844b45ea550adbe52\n",
       "                .addData(data);\n",
       "        }\n",
       "            geo_json_406baa221a844c6844b45ea550adbe52_add({&quot;bbox&quot;: [29.9655226, 31.2460039, 29.9655226, 31.2460039], &quot;features&quot;: [{&quot;bbox&quot;: [29.9655226, 31.2460039, 29.9655226, 31.2460039], &quot;geometry&quot;: {&quot;coordinates&quot;: [29.9655226, 31.2460039], &quot;type&quot;: &quot;Point&quot;}, &quot;id&quot;: &quot;(\\u0027node\\u0027, 6082411793)&quot;, &quot;properties&quot;: {&quot;highway&quot;: &quot;traffic_signals&quot;, &quot;traffic_signals&quot;: &quot;signal&quot;}, &quot;type&quot;: &quot;Feature&quot;}], &quot;type&quot;: &quot;FeatureCollection&quot;});\n",
       "\n",
       "        \n",
       "    \n",
       "    geo_json_406baa221a844c6844b45ea550adbe52.bindTooltip(\n",
       "    function(layer){\n",
       "    let div = L.DomUtil.create(&#x27;div&#x27;);\n",
       "    \n",
       "    let handleObject = feature=&gt;typeof(feature)==&#x27;object&#x27; ? JSON.stringify(feature) : feature;\n",
       "    let fields = [&quot;highway&quot;, &quot;traffic_signals&quot;];\n",
       "    let aliases = [&quot;highway&quot;, &quot;traffic_signals&quot;];\n",
       "    let table = &#x27;&lt;table&gt;&#x27; +\n",
       "        String(\n",
       "        fields.map(\n",
       "        (v,i)=&gt;\n",
       "        `&lt;tr&gt;\n",
       "            &lt;th&gt;${aliases[i]}&lt;/th&gt;\n",
       "            \n",
       "            &lt;td&gt;${handleObject(layer.feature.properties[v])}&lt;/td&gt;\n",
       "        &lt;/tr&gt;`).join(&#x27;&#x27;))\n",
       "    +&#x27;&lt;/table&gt;&#x27;;\n",
       "    div.innerHTML=table;\n",
       "    \n",
       "    return div\n",
       "    }\n",
       "    ,{\n",
       "  &quot;sticky&quot;: true,\n",
       "  &quot;className&quot;: &quot;foliumtooltip&quot;,\n",
       "});\n",
       "                     \n",
       "    \n",
       "            geo_json_406baa221a844c6844b45ea550adbe52.addTo(map_9d3cd90ed0f708d094a75293a53585a6);\n",
       "        \n",
       "&lt;/script&gt;\n",
       "&lt;/html&gt;\" style=\"position:absolute;width:100%;height:100%;left:0;top:0;border:none !important;\" allowfullscreen webkitallowfullscreen mozallowfullscreen></iframe></div></div>"
      ],
      "text/plain": [
       "<folium.folium.Map at 0x1c2ef29b6d0>"
      ]
     },
     "execution_count": 13,
     "metadata": {},
     "output_type": "execute_result"
    }
   ],
   "source": [
    "gdf.explore()\n"
   ]
  },
  {
   "cell_type": "markdown",
   "id": "c7a48417",
   "metadata": {},
   "source": [
    "Select road in this same area ,opened in sumo\n",
    "\n",
    "\n",
    "\n",
    "as it exist real traffic lights in (with 500 dist):\n",
    "\n",
    "[{'type': 'node',\n",
    "  'id': 5064688364,\n",
    "  'lat': 31.2273268,\n",
    "  'lon': 29.9510117,\n",
    "  'tags': {'highway': 'traffic_signals', 'traffic_signals': 'signal'}},\n",
    " {'type': 'node',\n",
    "  'id': 5341021903,\n",
    "  'lat': 31.2273727,\n",
    "  'lon': 29.9509406,\n",
    "  'tags': {'highway': 'traffic_signals', 'traffic_signals': 'signal'}}]"
   ]
  },
  {
   "cell_type": "markdown",
   "id": "ca229ef3",
   "metadata": {},
   "source": [
    "## Code to Select Area using Map box python ,and then make json file"
   ]
  },
  {
   "cell_type": "code",
   "execution_count": 1,
   "id": "5524ad27",
   "metadata": {},
   "outputs": [
    {
     "name": "stdout",
     "output_type": "stream",
     "text": [
      "أبو قير, شارع بورسعيد, ثاني المنتزه, أبو قير, الإسكندرية, 21625, مصر\n",
      "(31.3172285, 30.0617561)\n"
     ]
    }
   ],
   "source": [
    "from geopy.geocoders import Nominatim\n",
    "\n",
    "geolocator = Nominatim(user_agent=\"my_app\")\n",
    "location = geolocator.geocode(\"Abu Qir Street, Alexandria Governorate, Egypt\") # May change if want closer to place\n",
    "\n",
    "print(location.address)\n",
    "print((location.latitude, location.longitude))\n"
   ]
  },
  {
   "cell_type": "code",
   "execution_count": 2,
   "id": "30504adf",
   "metadata": {},
   "outputs": [],
   "source": [
    "import folium\n",
    "from folium.plugins import Draw\n",
    "\n",
    "# إنشاء الخريطة باستخدام folium\n",
    "map_osm = folium.Map(location=[location.latitude, location.longitude], zoom_start=15,tiles='OpenStreetMap')\n",
    "\n",
    "draw = Draw(export=True)\n",
    "draw.add_to(map_osm)\n",
    "\n",
    "# إضافة علامة للموقع\n",
    "folium.Marker(\n",
    "    [location.latitude, location.longitude],\n",
    "    popup=location.address,\n",
    "    tooltip=\"Abou Qir Street\"\n",
    ").add_to(map_osm)\n",
    "\n",
    "# حفظ الخريطة كملف HTML\n",
    "map_osm.save(\"abu_qir_map.html\")\n"
   ]
  },
  {
   "cell_type": "markdown",
   "id": "89a23ed7",
   "metadata": {},
   "source": [
    "## Next Read file ,get traffic lights"
   ]
  },
  {
   "cell_type": "code",
   "execution_count": 11,
   "id": "5bca7f4d",
   "metadata": {},
   "outputs": [
    {
     "name": "stdout",
     "output_type": "stream",
     "text": [
      "Coordinates: [[29.941778, 31.226674], [29.941907, 31.22205]]\n"
     ]
    }
   ],
   "source": [
    "import json\n",
    "\n",
    "# فتح الملف الذي يحتوي على geojson\n",
    "with open('geo_draw/14.geojson', 'r') as f:\n",
    "    geojson_data = json.load(f)\n",
    "\n",
    "# استخراج الإحداثيات\n",
    "coordinates = geojson_data['features'][0]['geometry']['coordinates']\n",
    "\n",
    "# طباعة الإحداثيات\n",
    "print(\"Coordinates:\", coordinates)\n"
   ]
  },
  {
   "cell_type": "code",
   "execution_count": 12,
   "id": "2af9bef9",
   "metadata": {},
   "outputs": [],
   "source": [
    "lons = [i for i, _ in coordinates]\n",
    "lats = [i for _, i in coordinates]\n",
    "\n",
    "min_lat, max_lat = min(lats), max(lats)\n",
    "min_lon, max_lon = min(lons), max(lons)"
   ]
  },
  {
   "cell_type": "code",
   "execution_count": 20,
   "id": "80001d5c",
   "metadata": {},
   "outputs": [],
   "source": [
    "# first get the bounding box for the area of interest (smallest bounding box that contains all coordinates)\n",
    "import requests\n",
    "# نفس كود المربع الكبير\n",
    "overpass_url = \"http://overpass-api.de/api/interpreter\"\n",
    "query = f\"\"\"\n",
    "[out:json];\n",
    "node[\"highway\"=\"traffic_signals\"]({min_lat},{min_lon},{max_lat},{max_lon});\n",
    "out body;\n",
    "\"\"\"\n",
    "response = requests.get(overpass_url, params={'data': query})\n",
    "data = response.json()\n",
    "traffic_lights = [(el['lat'], el['lon']) for el in data['elements']]\n"
   ]
  },
  {
   "cell_type": "code",
   "execution_count": 21,
   "id": "b158ae3d",
   "metadata": {},
   "outputs": [
    {
     "data": {
      "text/plain": [
       "[(31.2238842, 29.9418886)]"
      ]
     },
     "execution_count": 21,
     "metadata": {},
     "output_type": "execute_result"
    }
   ],
   "source": [
    "traffic_lights"
   ]
  },
  {
   "cell_type": "markdown",
   "id": "9d9ff774",
   "metadata": {},
   "source": [
    "# Cleaner Code for Mobile ,backend"
   ]
  },
  {
   "cell_type": "markdown",
   "id": "d6a479d6",
   "metadata": {},
   "source": [
    "## Database  Design "
   ]
  },
  {
   "cell_type": "markdown",
   "id": "c171947c",
   "metadata": {},
   "source": [
    "# key coordinte , value tl_id in sumo , tl_id in osm (if later) \n",
    "(29.94189,31.22388) , cluster_10969157359_1892893086_339076592_4166052956_#1more , 5375841071 \n",
    "(31.22733,29.95101) , 1893407032 , 5064688364\n",
    "(31.22737,29.95094) , 1893407032 , 5341021903\n"
   ]
  },
  {
   "cell_type": "code",
   "execution_count": null,
   "id": "804ac619",
   "metadata": {},
   "outputs": [],
   "source": [
    "import sqlite3\n",
    "import pandas as pd\n",
    "\n",
    "# Original data\n",
    "data = [\n",
    "    (29.94189, 31.22388, \"cluster_10969157359_1892893086_339076592_4166052956_#1more\", \"5375841071\"),\n",
    "    (31.22733, 29.95101, \"1893407032\", \"5064688364\"),\n",
    "    (31.22737, 29.95094, \"1893407032\", \"5341021903\")\n",
    "]\n",
    "\n",
    "# Connect to SQLite\n",
    "conn = sqlite3.connect(\"traffic_signals.db\")\n",
    "cursor = conn.cursor()\n",
    "\n",
    "# Create table with composite primary key (lat, lon)\n",
    "cursor.execute(\"\"\"\n",
    "    CREATE TABLE IF NOT EXISTS traffic_signals (\n",
    "        lat REAL,\n",
    "        lon REAL,\n",
    "        tl_id_sumo TEXT,\n",
    "        tl_id_osm TEXT,\n",
    "        PRIMARY KEY (lat, lon)\n",
    "    )\n",
    "\"\"\")\n",
    "\n",
    "# Insert data\n",
    "cursor.executemany(\"\"\"\n",
    "    INSERT OR REPLACE INTO traffic_signals (lat, lon, tl_id_sumo, tl_id_osm)\n",
    "    VALUES (?, ?, ?, ?)\n",
    "\"\"\", data)\n",
    "\n",
    "conn.commit()\n",
    "conn.close()\n",
    "\n",
    "\n",
    "\n"
   ]
  },
  {
   "cell_type": "code",
   "execution_count": 42,
   "id": "ca5362ff",
   "metadata": {},
   "outputs": [
    {
     "data": {
      "text/html": [
       "<div>\n",
       "<style scoped>\n",
       "    .dataframe tbody tr th:only-of-type {\n",
       "        vertical-align: middle;\n",
       "    }\n",
       "\n",
       "    .dataframe tbody tr th {\n",
       "        vertical-align: top;\n",
       "    }\n",
       "\n",
       "    .dataframe thead th {\n",
       "        text-align: right;\n",
       "    }\n",
       "</style>\n",
       "<table border=\"1\" class=\"dataframe\">\n",
       "  <thead>\n",
       "    <tr style=\"text-align: right;\">\n",
       "      <th></th>\n",
       "      <th>lat</th>\n",
       "      <th>lon</th>\n",
       "      <th>tl_id_sumo</th>\n",
       "      <th>tl_id_osm</th>\n",
       "    </tr>\n",
       "  </thead>\n",
       "  <tbody>\n",
       "    <tr>\n",
       "      <th>0</th>\n",
       "      <td>29.94189</td>\n",
       "      <td>31.22388</td>\n",
       "      <td>cluster_10969157359_1892893086_339076592_41660...</td>\n",
       "      <td>5375841071</td>\n",
       "    </tr>\n",
       "    <tr>\n",
       "      <th>1</th>\n",
       "      <td>31.22733</td>\n",
       "      <td>29.95101</td>\n",
       "      <td>1893407032</td>\n",
       "      <td>5064688364</td>\n",
       "    </tr>\n",
       "    <tr>\n",
       "      <th>2</th>\n",
       "      <td>31.22737</td>\n",
       "      <td>29.95094</td>\n",
       "      <td>1893407032</td>\n",
       "      <td>5341021903</td>\n",
       "    </tr>\n",
       "  </tbody>\n",
       "</table>\n",
       "</div>"
      ],
      "text/plain": [
       "        lat       lon                                         tl_id_sumo  \\\n",
       "0  29.94189  31.22388  cluster_10969157359_1892893086_339076592_41660...   \n",
       "1  31.22733  29.95101                                         1893407032   \n",
       "2  31.22737  29.95094                                         1893407032   \n",
       "\n",
       "    tl_id_osm  \n",
       "0  5375841071  \n",
       "1  5064688364  \n",
       "2  5341021903  "
      ]
     },
     "execution_count": 42,
     "metadata": {},
     "output_type": "execute_result"
    }
   ],
   "source": [
    "import pandas as pd\n",
    "import sqlite3\n",
    "conn = sqlite3.connect(\"traffic_signals.db\")\n",
    "df = pd.read_sql_query(\"SELECT * FROM traffic_signals\", conn)\n",
    "df"
   ]
  },
  {
   "cell_type": "markdown",
   "id": "212198ab",
   "metadata": {},
   "source": [
    "in backend it first get path list from mobile\n",
    "### get path list"
   ]
  },
  {
   "cell_type": "code",
   "execution_count": 1,
   "id": "7c236f29",
   "metadata": {},
   "outputs": [],
   "source": [
    "def get_rectangle_container(coordinates):\n",
    "    lons = [i for i, _ in coordinates]\n",
    "    lats = [i for _, i in coordinates]\n",
    "\n",
    "    min_lat, max_lat = min(lats), max(lats)\n",
    "    min_lon, max_lon = min(lons), max(lons)\n",
    "    return (min_lat,max_lat,min_lon,max_lon)\n"
   ]
  },
  {
   "cell_type": "markdown",
   "id": "e3df72f8",
   "metadata": {},
   "source": [
    "### take coordinates return traffic light"
   ]
  },
  {
   "cell_type": "code",
   "execution_count": 2,
   "id": "ee334cc2",
   "metadata": {},
   "outputs": [],
   "source": [
    "import requests\n",
    "\n",
    "def get_traffic_in_container(coordinates):\n",
    "    (min_lat,max_lat,min_lon,max_lon)= get_rectangle_container(coordinates)\n",
    "    overpass_url = \"http://overpass-api.de/api/interpreter\"\n",
    "    query = f\"\"\"\n",
    "    [out:json];\n",
    "    node[\"highway\"=\"traffic_signals\"]({min_lat},{min_lon},{max_lat},{max_lon});\n",
    "    out body;\n",
    "    \"\"\"\n",
    "    response = requests.get(overpass_url, params={'data': query})\n",
    "    data = response.json()\n",
    "    traffic_lights = [(el['lat'], el['lon']) for el in data['elements']]\n",
    "    return traffic_lights\n"
   ]
  },
  {
   "cell_type": "code",
   "execution_count": 14,
   "id": "bcb08066",
   "metadata": {},
   "outputs": [],
   "source": [
    "coordinates= [[29.941778, 31.226674], [29.941907, 31.22205]]\n",
    "coordinates = [[29.968815,31.249021],[29.966068,31.246856],[29.963794,31.243811],[29.961691,31.242416]]\n",
    "coordinates = [[29.966669, 31.247891], [29.966831, 31.247829], [29.966872, 31.24774], [29.966628, 31.247546], [29.966322, 31.247201], [29.964927, 31.245106], [29.964628, 31.24482], [29.963926, 31.244333]]"
   ]
  },
  {
   "cell_type": "code",
   "execution_count": 15,
   "id": "a5901882",
   "metadata": {},
   "outputs": [
    {
     "name": "stdout",
     "output_type": "stream",
     "text": [
      "[(31.2459228, 29.9656881), (31.2460039, 29.9655226)]\n"
     ]
    }
   ],
   "source": [
    "print(get_traffic_in_container(coordinates))"
   ]
  }
 ],
 "metadata": {
  "kernelspec": {
   "display_name": "Python 3",
   "language": "python",
   "name": "python3"
  },
  "language_info": {
   "codemirror_mode": {
    "name": "ipython",
    "version": 3
   },
   "file_extension": ".py",
   "mimetype": "text/x-python",
   "name": "python",
   "nbconvert_exporter": "python",
   "pygments_lexer": "ipython3",
   "version": "3.11.4"
  }
 },
 "nbformat": 4,
 "nbformat_minor": 5
}
