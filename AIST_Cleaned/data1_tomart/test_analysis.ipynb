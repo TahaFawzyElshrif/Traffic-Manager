{
 "cells": [
  {
   "cell_type": "code",
   "execution_count": 1,
   "metadata": {},
   "outputs": [],
   "source": [
    "import pandas as pd"
   ]
  },
  {
   "cell_type": "markdown",
   "metadata": {},
   "source": [
    " #### Last one is : highgroubed 50 iteration 200 sumo step"
   ]
  },
  {
   "cell_type": "code",
   "execution_count": 9,
   "metadata": {},
   "outputs": [],
   "source": [
    "!python \"C:\\Program Files (x86)\\Eclipse\\Sumo\\tools\\xml\\xml2csv.py\" osm.statistics.xml "
   ]
  },
  {
   "cell_type": "code",
   "execution_count": 10,
   "metadata": {},
   "outputs": [],
   "source": [
    "file_path = 'osm.statistics.csv'\n",
    "data = pd.read_csv(file_path, delimiter=';')"
   ]
  },
  {
   "cell_type": "code",
   "execution_count": 11,
   "metadata": {},
   "outputs": [
    {
     "name": "stdout",
     "output_type": "stream",
     "text": [
      "Index(['performance_begin', 'performance_clockBegin',\n",
      "       'performance_clockDuration', 'performance_clockEnd',\n",
      "       'performance_duration', 'performance_end',\n",
      "       'performance_personUpdatesPerSecond', 'performance_realTimeFactor',\n",
      "       'performance_traciDuration', 'performance_vehicleUpdatesPerSecond',\n",
      "       'vehicles_inserted', 'vehicles_loaded', 'vehicles_running',\n",
      "       'vehicles_waiting', 'teleports_jam', 'teleports_total',\n",
      "       'teleports_wrongLane', 'teleports_yield', 'safety_collisions',\n",
      "       'safety_emergencyBraking', 'safety_emergencyStops', 'persons_jammed',\n",
      "       'persons_loaded', 'persons_running', 'personTeleports_abortWait',\n",
      "       'personTeleports_total', 'personTeleports_wrongDest',\n",
      "       'vehicleTripStatistics_count', 'vehicleTripStatistics_departDelay',\n",
      "       'vehicleTripStatistics_departDelayWaiting',\n",
      "       'vehicleTripStatistics_duration', 'vehicleTripStatistics_routeLength',\n",
      "       'vehicleTripStatistics_speed', 'vehicleTripStatistics_timeLoss',\n",
      "       'vehicleTripStatistics_totalDepartDelay',\n",
      "       'vehicleTripStatistics_totalTravelTime',\n",
      "       'vehicleTripStatistics_waitingTime', 'pedestrianStatistics_duration',\n",
      "       'pedestrianStatistics_number', 'pedestrianStatistics_routeLength',\n",
      "       'pedestrianStatistics_timeLoss', 'rideStatistics_number',\n",
      "       'transportStatistics_number'],\n",
      "      dtype='object')\n"
     ]
    }
   ],
   "source": [
    "print(data.columns)"
   ]
  },
  {
   "cell_type": "code",
   "execution_count": 43,
   "metadata": {},
   "outputs": [
    {
     "data": {
      "text/plain": [
       "3.8"
      ]
     },
     "execution_count": 43,
     "metadata": {},
     "output_type": "execute_result"
    }
   ],
   "source": [
    "float(data['vehicleTripStatistics_waitingTime'].dropna().iloc[0])   # waiting time "
   ]
  },
  {
   "cell_type": "code",
   "execution_count": 44,
   "metadata": {},
   "outputs": [
    {
     "data": {
      "text/plain": [
       "9.16"
      ]
     },
     "execution_count": 44,
     "metadata": {},
     "output_type": "execute_result"
    }
   ],
   "source": [
    "float(data['vehicleTripStatistics_speed'].dropna().iloc[0])"
   ]
  },
  {
   "cell_type": "code",
   "execution_count": 14,
   "metadata": {},
   "outputs": [
    {
     "data": {
      "text/plain": [
       "0    NaN\n",
       "1    1.0\n",
       "2    NaN\n",
       "3    NaN\n",
       "4    NaN\n",
       "5    NaN\n",
       "6    NaN\n",
       "7    NaN\n",
       "8    NaN\n",
       "9    NaN\n",
       "Name: vehicles_waiting, dtype: float64"
      ]
     },
     "execution_count": 14,
     "metadata": {},
     "output_type": "execute_result"
    }
   ],
   "source": [
    "data['vehicles_waiting']        # waiting cars"
   ]
  },
  {
   "cell_type": "code",
   "execution_count": 15,
   "metadata": {},
   "outputs": [
    {
     "data": {
      "text/plain": [
       "0      NaN\n",
       "1      NaN\n",
       "2      NaN\n",
       "3      NaN\n",
       "4      NaN\n",
       "5      NaN\n",
       "6    12.93\n",
       "7      NaN\n",
       "8      NaN\n",
       "9      NaN\n",
       "Name: vehicleTripStatistics_timeLoss, dtype: float64"
      ]
     },
     "execution_count": 15,
     "metadata": {},
     "output_type": "execute_result"
    }
   ],
   "source": [
    "data['vehicleTripStatistics_timeLoss']      # timeloss"
   ]
  },
  {
   "cell_type": "code",
   "execution_count": 16,
   "metadata": {},
   "outputs": [
    {
     "data": {
      "text/plain": [
       "0    NaN\n",
       "1    NaN\n",
       "2    NaN\n",
       "3    NaN\n",
       "4    NaN\n",
       "5    NaN\n",
       "6    0.0\n",
       "7    NaN\n",
       "8    NaN\n",
       "9    NaN\n",
       "Name: vehicleTripStatistics_departDelay, dtype: float64"
      ]
     },
     "execution_count": 16,
     "metadata": {},
     "output_type": "execute_result"
    }
   ],
   "source": [
    "data['vehicleTripStatistics_departDelay']       # depart delay"
   ]
  },
  {
   "cell_type": "code",
   "execution_count": 49,
   "metadata": {},
   "outputs": [],
   "source": [
    "# vehicleTripStatistics_waitingTime     (waiting time)\n",
    "# vehicleTripStatistics_speed           (speed)\n",
    "# vehicles_waiting                      (waiting cars)\n",
    "# vehicleTripStatistics_timeLoss        (timeloss)\n",
    "# vehicleTripStatistics_departDelay     (depart delay)"
   ]
  },
  {
   "cell_type": "code",
   "execution_count": 47,
   "metadata": {},
   "outputs": [],
   "source": [
    "import subprocess\n",
    "import os\n",
    "\n",
    "def get_sumo_statics(python_path, data_path):\n",
    "    # Construct the paths using os.path.join (automatically handles path separator)\n",
    "    script_path = os.path.join(python_path, 'tools', 'xml', 'xml2csv.py')\n",
    "    data_file_path = os.path.join(data_path, \"osm.statistics.xml\")\n",
    "\n",
    "    # Determine the correct Python executable based on the OS\n",
    "    python_executable = 'python' if os.name == 'nt' else 'python3'  # 'nt' is for Windows\n",
    "\n",
    "    # Check if the script exists before running\n",
    "    if not os.path.exists(script_path):\n",
    "        print(f\"Error: Script not found at {script_path}\")\n",
    "        return\n",
    "    \n",
    "    # Prepare the command to run the script\n",
    "    command = [python_executable, script_path, data_file_path]\n",
    "\n",
    "    # Run the script using subprocess\n",
    "    try:\n",
    "        subprocess.run(command, check=True)\n",
    "        print(f\"Successfully ran {script_path} with {data_file_path}\")\n",
    "    except subprocess.CalledProcessError as e:\n",
    "        print(f\"An error occurred: {e}\")\n",
    "    except FileNotFoundError:\n",
    "        print(f\"File not found: {script_path}\")\n",
    "\n",
    "    data = pd.read_csv(os.path.join(data_path, \"osm.statistics.csv\"), delimiter=';')\n",
    "\n",
    "    Values_dict = dict({\n",
    "        'Waiting_Time':float(data['vehicleTripStatistics_waitingTime'].dropna().iloc[0]) ,\n",
    "        'Speed':float(data['vehicleTripStatistics_speed'].dropna().iloc[0])   ,\n",
    "        'Waiting_Vehicles':float(data['vehicles_waiting'].dropna().iloc[0])   ,\n",
    "        'TimeLoss':float(data['vehicleTripStatistics_timeLoss'].dropna().iloc[0])   ,\n",
    "        'Depart_Delay':float(data['vehicleTripStatistics_departDelay'].dropna().iloc[0])   ,  \n",
    "\n",
    "    })\n",
    "    return Values_dict\n"
   ]
  },
  {
   "cell_type": "code",
   "execution_count": null,
   "metadata": {},
   "outputs": [],
   "source": []
  },
  {
   "cell_type": "code",
   "execution_count": 49,
   "metadata": {},
   "outputs": [
    {
     "name": "stdout",
     "output_type": "stream",
     "text": [
      "An error occurred: Command '['python', 'C:/Program Files (x86)/Eclipse/Sumo/tools\\\\xml\\\\xml2csv.py', 'osm.statistics.xml']' returned non-zero exit status 1.\n"
     ]
    },
    {
     "data": {
      "text/plain": [
       "{'Waiting_Time': 3.8,\n",
       " 'Speed': 9.16,\n",
       " 'Waiting_Vehicles': 1.0,\n",
       " 'TimeLoss': 12.93,\n",
       " 'Depart_Delay': 0.0}"
      ]
     },
     "execution_count": 49,
     "metadata": {},
     "output_type": "execute_result"
    }
   ],
   "source": [
    "get_sumo_statics(\"C:/Program Files (x86)/Eclipse/Sumo/\",\"\")\n"
   ]
  }
 ],
 "metadata": {
  "kernelspec": {
   "display_name": "Python 3",
   "language": "python",
   "name": "python3"
  },
  "language_info": {
   "codemirror_mode": {
    "name": "ipython",
    "version": 3
   },
   "file_extension": ".py",
   "mimetype": "text/x-python",
   "name": "python",
   "nbconvert_exporter": "python",
   "pygments_lexer": "ipython3",
   "version": "3.11.4"
  }
 },
 "nbformat": 4,
 "nbformat_minor": 2
}
