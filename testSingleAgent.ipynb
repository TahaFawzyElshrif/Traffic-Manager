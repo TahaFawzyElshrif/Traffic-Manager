{
 "cells": [
  {
   "cell_type": "markdown",
   "metadata": {
    "id": "UXV5lkGtemDg"
   },
   "source": [
    "## Colab Mount Drive\n"
   ]
  },
  {
   "cell_type": "markdown",
   "metadata": {
    "id": "V_LIa9s2ewYW"
   },
   "source": [
    "**IMPORTANT**\n",
    "\n",
    "This colab file suppose you uploaded project file in your drive to can use same file in many session without reuploading to help save internet\n",
    "\n",
    "otherwise you can upload files manually and modify some code (without mounting)"
   ]
  },
  {
   "cell_type": "code",
   "execution_count": null,
   "metadata": {
    "colab": {
     "base_uri": "https://localhost:8080/"
    },
    "executionInfo": {
     "elapsed": 121178,
     "status": "ok",
     "timestamp": 1748200604975,
     "user": {
      "displayName": "yahoo egypt",
      "userId": "13038863756302173317"
     },
     "user_tz": -180
    },
    "id": "QbqRZPNgek6S",
    "outputId": "5af02afc-260f-414a-eb38-50ad1001a91a"
   },
   "outputs": [],
   "source": [
    "# prompt: mount drive\n",
    "\n",
    "from google.colab import drive\n",
    "drive.mount('/content/drive')\n"
   ]
  },
  {
   "cell_type": "markdown",
   "metadata": {
    "id": "6UoZ4_O-zzX_"
   },
   "source": [
    "## Install Sumo for Linux (Colab)"
   ]
  },
  {
   "cell_type": "code",
   "execution_count": null,
   "metadata": {
    "colab": {
     "base_uri": "https://localhost:8080/"
    },
    "executionInfo": {
     "elapsed": 55703,
     "status": "ok",
     "timestamp": 1748200356312,
     "user": {
      "displayName": "yahoo egypt",
      "userId": "13038863756302173317"
     },
     "user_tz": -180
    },
    "id": "v7svqVtNzzYD",
    "outputId": "51473b32-eff9-44f6-cefb-25e2bee799cf"
   },
   "outputs": [],
   "source": [
    "!sudo add-apt-repository -y ppa:sumo/stable\n",
    "!sudo apt-get update\n",
    "!sudo apt-get install -y sumo sumo-tools sumo-doc\n"
   ]
  },
  {
   "cell_type": "code",
   "execution_count": null,
   "metadata": {
    "executionInfo": {
     "elapsed": 112,
     "status": "ok",
     "timestamp": 1748200356429,
     "user": {
      "displayName": "yahoo egypt",
      "userId": "13038863756302173317"
     },
     "user_tz": -180
    },
    "id": "Dw377OzbzzZD"
   },
   "outputs": [],
   "source": [
    "!source ~/.bashrc\n"
   ]
  },
  {
   "cell_type": "code",
   "execution_count": null,
   "metadata": {
    "colab": {
     "base_uri": "https://localhost:8080/"
    },
    "executionInfo": {
     "elapsed": 130,
     "status": "ok",
     "timestamp": 1748200356562,
     "user": {
      "displayName": "yahoo egypt",
      "userId": "13038863756302173317"
     },
     "user_tz": -180
    },
    "id": "KOFJTJ9SzzZH",
    "outputId": "29a43160-a7cf-4eac-a18c-54e71c1d1657"
   },
   "outputs": [],
   "source": [
    "!sumo --version\n"
   ]
  },
  {
   "cell_type": "code",
   "execution_count": null,
   "metadata": {
    "executionInfo": {
     "elapsed": 55,
     "status": "ok",
     "timestamp": 1748200356622,
     "user": {
      "displayName": "yahoo egypt",
      "userId": "13038863756302173317"
     },
     "user_tz": -180
    },
    "id": "UD5Y7SqZqkLk"
   },
   "outputs": [],
   "source": []
  },
  {
   "cell_type": "markdown",
   "metadata": {
    "id": "COMX999vzzZj"
   },
   "source": [
    "## Install Packages"
   ]
  },
  {
   "cell_type": "code",
   "execution_count": null,
   "metadata": {
    "colab": {
     "base_uri": "https://localhost:8080/"
    },
    "executionInfo": {
     "elapsed": 127163,
     "status": "ok",
     "timestamp": 1748200483792,
     "user": {
      "displayName": "yahoo egypt",
      "userId": "13038863756302173317"
     },
     "user_tz": -180
    },
    "id": "x7UPRrw5zzZq",
    "outputId": "586207d6-6fdc-4411-fab8-36f9d1b9be88"
   },
   "outputs": [],
   "source": [
    "!pip install traci\n",
    "!pip install dotenv\n",
    "!pip install ray\n",
    "!pip install ray[rllib]\n",
    "!pip install colorama\n",
    "!pip install optuna\n",
    "!pip install stable_baselines3"
   ]
  },
  {
   "cell_type": "markdown",
   "metadata": {
    "id": "VzgmdbkkExt1"
   },
   "source": [
    "## Set Main Pathes"
   ]
  },
  {
   "cell_type": "code",
   "execution_count": null,
   "metadata": {
    "executionInfo": {
     "elapsed": 13,
     "status": "ok",
     "timestamp": 1748203858017,
     "user": {
      "displayName": "yahoo egypt",
      "userId": "13038863756302173317"
     },
     "user_tz": -180
    },
    "id": "CN3K-JgsE7cq"
   },
   "outputs": [],
   "source": [
    "def is_colab():\n",
    "    try:\n",
    "        import google.colab\n",
    "        return True\n",
    "    except ImportError:\n",
    "        return False\n",
    "\n"
   ]
  },
  {
   "cell_type": "code",
   "execution_count": null,
   "metadata": {
    "colab": {
     "base_uri": "https://localhost:8080/"
    },
    "executionInfo": {
     "elapsed": 20,
     "status": "ok",
     "timestamp": 1748203858055,
     "user": {
      "displayName": "yahoo egypt",
      "userId": "13038863756302173317"
     },
     "user_tz": -180
    },
    "id": "YyzI4XY7FCP6",
    "outputId": "4031adc7-3a8f-4a5b-aaf9-1044411a5ecc"
   },
   "outputs": [],
   "source": [
    "import platform\n",
    "\n",
    "if platform.system() == \"Linux\":\n",
    "    if is_colab():\n",
    "      print(\"Running in Google Colab\")\n",
    "      path_main_folder = \"/content/drive/My Drive/study/graduation_project/final/Code/project_files/TrafficManager/TrafficManager/\"\n",
    "\n",
    "\n",
    "else:\n",
    "    print(\"Running on Windows\")\n",
    "    path_main_folder = \"I:/My Drive/study/graduation_project/final/Code/project_files/TrafficManager/TrafficManager/\"\n",
    "\n",
    "\n",
    "path_data_folder = path_main_folder + \"AIST_Cleaned/data3_san_stefano/\"#\"AIST_Cleaned/data2_mosheerIsmail/\",data3_san_stefano\n",
    "path_cfg = path_data_folder +\"cfg.sumocfg\"\n",
    "path_project_folder = path_main_folder + \"\"\n",
    "\n"
   ]
  },
  {
   "cell_type": "code",
   "execution_count": null,
   "metadata": {
    "executionInfo": {
     "elapsed": 389,
     "status": "ok",
     "timestamp": 1748203858432,
     "user": {
      "displayName": "yahoo egypt",
      "userId": "13038863756302173317"
     },
     "user_tz": -180
    },
    "id": "oSlIHw0NEyIR"
   },
   "outputs": [],
   "source": [
    "yaml_file = path_project_folder + \"config.yaml\"\n",
    "keys_file = path_project_folder + \"keys.env\"\n",
    "log_file = \"sumo_log.txt\""
   ]
  },
  {
   "cell_type": "code",
   "execution_count": null,
   "metadata": {
    "colab": {
     "base_uri": "https://localhost:8080/"
    },
    "executionInfo": {
     "elapsed": 22,
     "status": "ok",
     "timestamp": 1748203858434,
     "user": {
      "displayName": "yahoo egypt",
      "userId": "13038863756302173317"
     },
     "user_tz": -180
    },
    "id": "x5xSRRp-fXp6",
    "outputId": "d0c12645-d86c-496c-ebd5-855e6a7df1cb"
   },
   "outputs": [],
   "source": [
    "# prompt: check if file path ok\n",
    "\n",
    "import os\n",
    "\n",
    "if os.path.exists(path_main_folder):\n",
    "  print(f\"File exists at: {path_main_folder}\")\n",
    "else:\n",
    "  print(f\"File does not exist at: {path_main_folder}\")\n"
   ]
  },
  {
   "cell_type": "code",
   "execution_count": null,
   "metadata": {
    "executionInfo": {
     "elapsed": 15,
     "status": "ok",
     "timestamp": 1748203858436,
     "user": {
      "displayName": "yahoo egypt",
      "userId": "13038863756302173317"
     },
     "user_tz": -180
    },
    "id": "5ha8KjkFezP_"
   },
   "outputs": [],
   "source": []
  },
  {
   "cell_type": "markdown",
   "metadata": {
    "id": "kQTerJYtHZhx"
   },
   "source": [
    "## Import Packages"
   ]
  },
  {
   "cell_type": "code",
   "execution_count": null,
   "metadata": {
    "executionInfo": {
     "elapsed": 2,
     "status": "ok",
     "timestamp": 1748203859470,
     "user": {
      "displayName": "yahoo egypt",
      "userId": "13038863756302173317"
     },
     "user_tz": -180
    },
    "id": "94nuFTUsHzCA"
   },
   "outputs": [],
   "source": [
    "import sys\n",
    "sys.path.append(path_project_folder)\n"
   ]
  },
  {
   "cell_type": "code",
   "execution_count": null,
   "metadata": {
    "executionInfo": {
     "elapsed": 9409,
     "status": "ok",
     "timestamp": 1748203868888,
     "user": {
      "displayName": "yahoo egypt",
      "userId": "13038863756302173317"
     },
     "user_tz": -180
    },
    "id": "jOO90qmRHcAI"
   },
   "outputs": [],
   "source": [
    "from Connections import SumoConnection\n",
    "from Connections.Connection import *\n",
    "from dotenv import load_dotenv\n",
    "import os\n",
    "import traci\n",
    "import gymnasium as gym\n",
    "from numpy import inf\n",
    "import numpy as np\n",
    "import SumoEnvSingleAgent\n",
    "from Utils_reporting import *\n",
    "from Utils_running_singleAgent import *\n",
    "from rewards import *\n",
    "from stable_baselines3 import PPO ,DQN\n",
    "from stable_baselines3.common.vec_env import DummyVecEnv, VecNormalize\n",
    "import torch\n",
    "import time\n",
    "from Callbacks import *\n",
    "from models.d3qn import D3QNAgent"
   ]
  },
  {
   "cell_type": "code",
   "execution_count": null,
   "metadata": {
    "executionInfo": {
     "elapsed": 33,
     "status": "ok",
     "timestamp": 1748203868890,
     "user": {
      "displayName": "yahoo egypt",
      "userId": "13038863756302173317"
     },
     "user_tz": -180
    },
    "id": "5xRK2zskJKoC"
   },
   "outputs": [],
   "source": []
  },
  {
   "cell_type": "code",
   "execution_count": null,
   "metadata": {
    "executionInfo": {
     "elapsed": 33,
     "status": "ok",
     "timestamp": 1748203868893,
     "user": {
      "displayName": "yahoo egypt",
      "userId": "13038863756302173317"
     },
     "user_tz": -180
    },
    "id": "8Ju86tk1JKoC"
   },
   "outputs": [],
   "source": []
  },
  {
   "cell_type": "markdown",
   "metadata": {
    "id": "Ti1PxkdOd5S3"
   },
   "source": [
    "## Load Parameters"
   ]
  },
  {
   "cell_type": "code",
   "execution_count": null,
   "metadata": {
    "executionInfo": {
     "elapsed": 10,
     "status": "ok",
     "timestamp": 1748203868896,
     "user": {
      "displayName": "yahoo egypt",
      "userId": "13038863756302173317"
     },
     "user_tz": -180
    },
    "id": "RiUeML2Md5S8"
   },
   "outputs": [],
   "source": [
    "import yaml\n",
    "\n",
    "# Load YAML file\n",
    "# if something modified ,just rerun this cell\n",
    "with open(yaml_file, \"r\") as file:\n",
    "    config = yaml.safe_load(file)\n"
   ]
  },
  {
   "cell_type": "code",
   "execution_count": null,
   "metadata": {
    "executionInfo": {
     "elapsed": 23,
     "status": "ok",
     "timestamp": 1748203868938,
     "user": {
      "displayName": "yahoo egypt",
      "userId": "13038863756302173317"
     },
     "user_tz": -180
    },
    "id": "Ic9gLz2kzzbF"
   },
   "outputs": [],
   "source": [
    "general_settings = config['general_settings']\n",
    "experiment_settings_changable = config[\"experiment_settings\"]['changable_settings']\n",
    "experiment_settings_const = config[\"experiment_settings\"][\"const_settings\"]\n",
    "algorithm_settings=config[\"algorithms_settings\"]"
   ]
  },
  {
   "cell_type": "code",
   "execution_count": null,
   "metadata": {
    "executionInfo": {
     "elapsed": 3,
     "status": "ok",
     "timestamp": 1748203868944,
     "user": {
      "displayName": "yahoo egypt",
      "userId": "13038863756302173317"
     },
     "user_tz": -180
    },
    "id": "FKgbfQORzzbH"
   },
   "outputs": [],
   "source": [
    "is_gui = general_settings['is_gui']\n",
    "see_progress_each = general_settings['see_progress_each']\n",
    "enable_variation_action = general_settings[\"enable_variation_action\"]\n"
   ]
  },
  {
   "cell_type": "code",
   "execution_count": null,
   "metadata": {
    "executionInfo": {
     "elapsed": 21,
     "status": "ok",
     "timestamp": 1748203868999,
     "user": {
      "displayName": "yahoo egypt",
      "userId": "13038863756302173317"
     },
     "user_tz": -180
    },
    "id": "P6D7CgYbd5S_"
   },
   "outputs": [],
   "source": [
    "# Access specific parameters (Changable Settings)\n",
    "n_epsiode = experiment_settings_changable[\"n_epsiode\"]\n",
    "max_sumo_steps = experiment_settings_changable[\"max_sumo_steps\"]\n",
    "ENV_NAME = experiment_settings_changable[\"ENV_NAME\"]\n",
    "REWARD_TYPE = experiment_settings_changable[\"REWARD_TYPE\"]\n",
    "EXPERIMENT_NAME = experiment_settings_changable[\"EXPERIMENT_NAME\"]\n",
    "precent_scale = experiment_settings_changable[\"precent_scale\"]\n",
    "seed = experiment_settings_changable[\"seed\"]\n"
   ]
  },
  {
   "cell_type": "code",
   "execution_count": null,
   "metadata": {
    "executionInfo": {
     "elapsed": 11,
     "status": "ok",
     "timestamp": 1748203869026,
     "user": {
      "displayName": "yahoo egypt",
      "userId": "13038863756302173317"
     },
     "user_tz": -180
    },
    "id": "ZJY5VUvtd5TC"
   },
   "outputs": [],
   "source": [
    "# Access specific parameters (Const Settings)\n",
    "max_steps = experiment_settings_const[\"max_steps\"]\n",
    "n_env = experiment_settings_const[\"n_env\"]\n",
    "durations = experiment_settings_const[\"durations\"]\n",
    "agent_id = experiment_settings_const[\"agent_id\"]\n"
   ]
  },
  {
   "cell_type": "code",
   "execution_count": null,
   "metadata": {
    "executionInfo": {
     "elapsed": 22,
     "status": "ok",
     "timestamp": 1748203869050,
     "user": {
      "displayName": "yahoo egypt",
      "userId": "13038863756302173317"
     },
     "user_tz": -180
    },
    "id": "eAlp8QxhzzbJ"
   },
   "outputs": [],
   "source": [
    "sumo_traffic_scale =  int(10 * precent_scale )\n"
   ]
  },
  {
   "cell_type": "code",
   "execution_count": null,
   "metadata": {
    "colab": {
     "base_uri": "https://localhost:8080/"
    },
    "executionInfo": {
     "elapsed": 7,
     "status": "ok",
     "timestamp": 1748203869059,
     "user": {
      "displayName": "yahoo egypt",
      "userId": "13038863756302173317"
     },
     "user_tz": -180
    },
    "id": "nuUWmjmPd5TF",
    "outputId": "b9679b90-1728-4309-d108-e4183f156a24"
   },
   "outputs": [],
   "source": [
    "step_size,reduced_durations = gcd_and_reduced(durations)\n",
    "step_size,reduced_durations"
   ]
  },
  {
   "cell_type": "code",
   "execution_count": null,
   "metadata": {
    "executionInfo": {
     "elapsed": 2,
     "status": "ok",
     "timestamp": 1748203869063,
     "user": {
      "displayName": "yahoo egypt",
      "userId": "13038863756302173317"
     },
     "user_tz": -180
    },
    "id": "B6UpSJ4Jd5TG"
   },
   "outputs": [],
   "source": [
    "reward_func = {\n",
    "'proposed_reward':reward_proposed,\n",
    "'literature':reward_liter,\n",
    "'project_reward':reward_proj,\n",
    "}\n",
    "env_classes = {\n",
    "    \"HighGroupedSumoEnv\": SumoEnvSingleAgent.HighGroupedSumoEnv,\n",
    "    \"GroupedSumoEnv\": SumoEnvSingleAgent.GroupedSumoEnv ,\n",
    "    \"SumoEnv\": SumoEnvSingleAgent.SumoEnv,\n",
    "}"
   ]
  },
  {
   "cell_type": "markdown",
   "metadata": {
    "id": "lUhSuk12d5TI"
   },
   "source": [
    "## Open Sumo"
   ]
  },
  {
   "cell_type": "code",
   "execution_count": null,
   "metadata": {
    "colab": {
     "base_uri": "https://localhost:8080/"
    },
    "executionInfo": {
     "elapsed": 36,
     "status": "ok",
     "timestamp": 1748203869118,
     "user": {
      "displayName": "yahoo egypt",
      "userId": "13038863756302173317"
     },
     "user_tz": -180
    },
    "id": "6m0TFhtKzzbW",
    "outputId": "f6b1fce6-70ea-47e2-9aa4-a926630f81ed"
   },
   "outputs": [],
   "source": [
    "from dotenv import load_dotenv\n",
    "load_dotenv(keys_file)"
   ]
  },
  {
   "cell_type": "code",
   "execution_count": null,
   "metadata": {
    "colab": {
     "base_uri": "https://localhost:8080/"
    },
    "executionInfo": {
     "elapsed": 19,
     "status": "ok",
     "timestamp": 1748203869152,
     "user": {
      "displayName": "yahoo egypt",
      "userId": "13038863756302173317"
     },
     "user_tz": -180
    },
    "id": "7H7on2-OzzbX",
    "outputId": "039ced61-301f-4f21-f1f2-c0fe88bb4114"
   },
   "outputs": [],
   "source": [
    "if platform.system() == \"Linux\":\n",
    "    if is_colab():\n",
    "        print(\"Running in Google Colab\")\n",
    "        sumo_home = str(os.getenv(\"sumo_home_lin\"))\n",
    "        sumo_binary = str(os.getenv(\"sumo_binary_lin\"))\n",
    "        if is_gui:\n",
    "            print(\"GUI not supported on linux\")\n",
    "    else:\n",
    "      print(\"Not running in HPC Linux (default linux)\")\n",
    "\n",
    "\n",
    "else:\n",
    "    print(\"Running on Windows\")\n",
    "    print(\"Running in Google Colab\")\n",
    "    sumo_home = str(os.getenv(\"sumo_home_win\"))\n",
    "    if is_gui:\n",
    "        sumo_binary = str(os.getenv(\"sumo_binary_gui_win\"))\n",
    "    else:\n",
    "        sumo_binary = str(os.getenv(\"sumo_binary_cli_win\"))\n",
    "\n",
    "\n"
   ]
  },
  {
   "cell_type": "code",
   "execution_count": null,
   "metadata": {
    "executionInfo": {
     "elapsed": 2,
     "status": "ok",
     "timestamp": 1748203869156,
     "user": {
      "displayName": "yahoo egypt",
      "userId": "13038863756302173317"
     },
     "user_tz": -180
    },
    "id": "k6RmiNiVd5TJ"
   },
   "outputs": [],
   "source": [
    "cmd=[sumo_binary, \"-c\", path_cfg ,\"--log\",log_file, \"--verbose\", \"true\",\"--step-length\", str(step_size)]\n"
   ]
  },
  {
   "cell_type": "code",
   "execution_count": null,
   "metadata": {
    "colab": {
     "base_uri": "https://localhost:8080/"
    },
    "executionInfo": {
     "elapsed": 949,
     "status": "ok",
     "timestamp": 1748203870107,
     "user": {
      "displayName": "yahoo egypt",
      "userId": "13038863756302173317"
     },
     "user_tz": -180
    },
    "id": "05QAeGRzd5TK",
    "outputId": "ef168242-b665-4133-d5fa-495d28b1fc61"
   },
   "outputs": [],
   "source": [
    "conn=SumoConnection.SumoConnection(cmd)"
   ]
  },
  {
   "cell_type": "markdown",
   "metadata": {
    "id": "Cc-_Wthzd5TL"
   },
   "source": [
    "## Load Traffic Lights info"
   ]
  },
  {
   "cell_type": "code",
   "execution_count": null,
   "metadata": {
    "executionInfo": {
     "elapsed": 24,
     "status": "ok",
     "timestamp": 1748203870145,
     "user": {
      "displayName": "yahoo egypt",
      "userId": "13038863756302173317"
     },
     "user_tz": -180
    },
    "id": "va2IJFxId5TL"
   },
   "outputs": [],
   "source": [
    "traffic_lights,policies=get_traffic_lights_policies_high_group(durations=durations,agent_ids=[agent_id])\n"
   ]
  },
  {
   "cell_type": "code",
   "execution_count": null,
   "metadata": {
    "colab": {
     "base_uri": "https://localhost:8080/"
    },
    "executionInfo": {
     "elapsed": 14,
     "status": "ok",
     "timestamp": 1748203870149,
     "user": {
      "displayName": "yahoo egypt",
      "userId": "13038863756302173317"
     },
     "user_tz": -180
    },
    "id": "nII9Grhvd5TL",
    "outputId": "42aeeffd-6835-4c13-9502-a747a83a2775"
   },
   "outputs": [],
   "source": [
    "traffic_lights"
   ]
  },
  {
   "cell_type": "markdown",
   "metadata": {
    "id": "TsHoKZR1d5TL"
   },
   "source": [
    "## Make The Environment"
   ]
  },
  {
   "cell_type": "code",
   "execution_count": null,
   "metadata": {
    "executionInfo": {
     "elapsed": 10,
     "status": "ok",
     "timestamp": 1748203870152,
     "user": {
      "displayName": "yahoo egypt",
      "userId": "13038863756302173317"
     },
     "user_tz": -180
    },
    "id": "xHKile5Yd5TM"
   },
   "outputs": [],
   "source": [
    "# Just reload if you modified the SumoEnvSingleAgent.py file\n",
    "import importlib\n",
    "import SumoEnvSingleAgent\n",
    "#importlib.reload(Connections.RealConnection)\n",
    "\n"
   ]
  },
  {
   "cell_type": "code",
   "execution_count": null,
   "metadata": {
    "executionInfo": {
     "elapsed": 14,
     "status": "ok",
     "timestamp": 1748203870168,
     "user": {
      "displayName": "yahoo egypt",
      "userId": "13038863756302173317"
     },
     "user_tz": -180
    },
    "id": "UY6xz8Aqd5TM"
   },
   "outputs": [],
   "source": [
    "\n",
    "def create_env(config_):\n",
    "    args = (traffic_lights[0][1],traffic_lights[0][0], reduced_durations,reward_func[REWARD_TYPE], max_steps, max_sumo_steps,sumo_traffic_scale,enable_variation_action,config_,seed)\n",
    "    env = env_classes[ENV_NAME](*args)\n",
    "    env.python_path =sumo_home\n",
    "    env.data_path = path_data_folder\n",
    "    env.see_progress_each = see_progress_each\n",
    "    return env\n",
    "\n",
    "#from ray.tune.registry import register_env # If used later with rlib\n",
    "#register_env(ENV_NAME, create_env)\n",
    "\n"
   ]
  },
  {
   "cell_type": "code",
   "execution_count": null,
   "metadata": {
    "executionInfo": {
     "elapsed": 3,
     "status": "ok",
     "timestamp": 1748203870174,
     "user": {
      "displayName": "yahoo egypt",
      "userId": "13038863756302173317"
     },
     "user_tz": -180
    },
    "id": "Sgy5ufbId5TM"
   },
   "outputs": [],
   "source": [
    "set_global_conn(conn)\n"
   ]
  },
  {
   "cell_type": "code",
   "execution_count": null,
   "metadata": {
    "colab": {
     "base_uri": "https://localhost:8080/"
    },
    "executionInfo": {
     "elapsed": 6,
     "status": "ok",
     "timestamp": 1748203870183,
     "user": {
      "displayName": "yahoo egypt",
      "userId": "13038863756302173317"
     },
     "user_tz": -180
    },
    "id": "PF5-FCTvzzb8",
    "outputId": "b7771fef-5d0d-4ecf-9fad-818bdfb3a7f2"
   },
   "outputs": [],
   "source": [
    "get_global_conn()"
   ]
  },
  {
   "cell_type": "markdown",
   "metadata": {
    "id": "nG0EyP10d5TM"
   },
   "source": [
    "## DQN"
   ]
  },
  {
   "cell_type": "markdown",
   "metadata": {
    "id": "wVLLcpSlzzcB"
   },
   "source": [
    "### Load DQN Parameters"
   ]
  },
  {
   "cell_type": "code",
   "execution_count": null,
   "metadata": {
    "id": "fg5jSTX0zzcH"
   },
   "outputs": [],
   "source": [
    "dqn_settings=algorithm_settings['DQN']\n"
   ]
  },
  {
   "cell_type": "code",
   "execution_count": null,
   "metadata": {
    "id": "atV728gSzzcK"
   },
   "outputs": [],
   "source": [
    "exploration_initial_eps = dqn_settings[\"exploration_initial_eps\"]\n",
    "exploration_final_eps = dqn_settings[\"exploration_final_eps\"]\n",
    "exploration_fraction = dqn_settings[\"exploration_fraction\"]\n",
    "learning_rate = float(dqn_settings[\"learning_rate\"])\n",
    "gamma = dqn_settings[\"gamma\"]\n",
    "policy_kwargs = dict(\n",
    "    net_arch=dqn_settings[\"policy_kwargs\"][\"net_arch\"],\n",
    "    activation_fn=torch.nn.ReLU\n",
    ")\n",
    "batch_size = dqn_settings['batch_size']"
   ]
  },
  {
   "cell_type": "markdown",
   "metadata": {
    "id": "uiQuEUHZzzcL"
   },
   "source": [
    "### Prepare DQN"
   ]
  },
  {
   "cell_type": "code",
   "execution_count": null,
   "metadata": {
    "id": "v-BsfDkVd5TN"
   },
   "outputs": [],
   "source": [
    "env = create_env({})  # Create the environment instance"
   ]
  },
  {
   "cell_type": "code",
   "execution_count": null,
   "metadata": {
    "colab": {
     "base_uri": "https://localhost:8080/"
    },
    "executionInfo": {
     "elapsed": 3360,
     "status": "ok",
     "timestamp": 1746485740529,
     "user": {
      "displayName": "yahoo egypt",
      "userId": "13038863756302173317"
     },
     "user_tz": -180
    },
    "id": "s2hCYeird5TN",
    "outputId": "01b0b3cf-a127-4f8d-b812-c6e33bb93cce"
   },
   "outputs": [],
   "source": [
    "model = EpsDQN(\n",
    "    RMS_DQNPolicy,\n",
    "    env,\n",
    "    verbose = 1,\n",
    "    batch_size=batch_size,\n",
    "    learning_rate=learning_rate,\n",
    "    gamma=gamma,\n",
    "    exploration_initial_eps=exploration_initial_eps,  # Initial epsilon value.\n",
    "    exploration_final_eps=exploration_final_eps,      # Final epsilon value.\n",
    "    exploration_fraction=exploration_fraction,        # Fraction of total timesteps for linear decay.\n",
    "    policy_kwargs=policy_kwargs,\n",
    "    seed=seed\n",
    ")"
   ]
  },
  {
   "cell_type": "code",
   "execution_count": null,
   "metadata": {
    "id": "vziypByDd5TN"
   },
   "outputs": [],
   "source": [
    "callback = Stable_RewardCallback(max_episodes = n_epsiode)"
   ]
  },
  {
   "cell_type": "markdown",
   "metadata": {
    "id": "8-VyR3atzzcR"
   },
   "source": [
    "### Train"
   ]
  },
  {
   "cell_type": "code",
   "execution_count": null,
   "metadata": {
    "id": "AD0X-2N5d5TN"
   },
   "outputs": [],
   "source": [
    "time_before = time.time()\n",
    "model.learn(total_timesteps=1e9, callback=callback)\n",
    "time_after = time.time()"
   ]
  },
  {
   "cell_type": "code",
   "execution_count": null,
   "metadata": {
    "id": "sSJEvpQ0d5TO"
   },
   "outputs": [],
   "source": [
    "# Save the model\n",
    "# model.save(\"models/\"+EXPERIMENT_NAME)"
   ]
  },
  {
   "cell_type": "code",
   "execution_count": null,
   "metadata": {
    "id": "BLXG-BR-d5TO"
   },
   "outputs": [],
   "source": [
    "rewards = callback.episode_rewards\n",
    "results_dict = env.last_run_dict # env.env for D3QN ,env for PPO\n"
   ]
  },
  {
   "cell_type": "markdown",
   "metadata": {
    "id": "CiFUDZ5Dd5TO"
   },
   "source": [
    "## PPO"
   ]
  },
  {
   "cell_type": "markdown",
   "metadata": {
    "id": "-vV5vP6ad5TO"
   },
   "source": [
    "### Hyperparameter Optimizing using Optuna (Only run once)"
   ]
  },
  {
   "cell_type": "code",
   "execution_count": null,
   "metadata": {
    "id": "39lH_7uDd5TP",
    "outputId": "4ce22bf9-5ebf-4769-9b7b-4d2d706ebbe6"
   },
   "outputs": [],
   "source": [
    "import optuna\n",
    "from colorama import Fore, Style\n",
    "import torch\n",
    "\n",
    "n_tune_episode = 10\n",
    "n_trials = 20\n",
    "seeds = [0, 1, 2]  # You can change or increase this list\n",
    "\n",
    "def objective(trial):\n",
    "    # Sample hyperparameters\n",
    "    learning_rate = trial.suggest_float('learning_rate', 1e-6, 1e-3)\n",
    "    gamma = trial.suggest_float('gamma', 0.9, 0.9999)\n",
    "    gae_lambda = trial.suggest_float('gae_lambda', 0.8, 1.0)\n",
    "    ent_coef = trial.suggest_float('ent_coef', 0.0, 0.1)\n",
    "    clip_range = trial.suggest_float('clip_range', 0.1, 0.4)\n",
    "    batch_size = trial.suggest_categorical('batch_size', [32, 64, 128, 256, 512])\n",
    "    net_arch = trial.suggest_categorical('net_arch', [32, 64, 128, 256, 512])\n",
    "\n",
    "    policy_kwargs = dict(\n",
    "        net_arch=[net_arch],\n",
    "        activation_fn=torch.nn.ReLU\n",
    "    )\n",
    "\n",
    "    rewards_diffs = []\n",
    "\n",
    "    for seed in seeds:\n",
    "        env = create_env({})\n",
    "        vec_env = DummyVecEnv([lambda: env])\n",
    "        vec_env = VecNormalize(vec_env, norm_obs=True, norm_reward=False)\n",
    "\n",
    "        model = PPO(\n",
    "            \"MlpPolicy\", vec_env,\n",
    "            learning_rate=learning_rate,\n",
    "            gamma=gamma,\n",
    "            gae_lambda=gae_lambda,\n",
    "            ent_coef=ent_coef,\n",
    "            clip_range=clip_range,\n",
    "            batch_size=batch_size,\n",
    "            verbose=0,\n",
    "            policy_kwargs=policy_kwargs,\n",
    "            seed=seed\n",
    "        )\n",
    "\n",
    "        callback = Stable_RewardCallback(max_episodes=n_tune_episode)\n",
    "        model.learn(total_timesteps=int(1e4), callback=callback)  # reduce steps for tuning\n",
    "\n",
    "        rewards = callback.episode_rewards\n",
    "        if len(rewards) >= 2:\n",
    "            rewards_diff = rewards[-1] - rewards[0]\n",
    "            rewards_diffs.append(rewards_diff)\n",
    "            print(Fore.BLUE + f\"Seed {seed} epsiodes done in trial {trial.number+1}\" + Style.RESET_ALL)\n",
    "\n",
    "\n",
    "    avg_reward_diff = sum(rewards_diffs) / len(rewards_diffs)\n",
    "\n",
    "    print(Fore.GREEN + f\"-------------Trial {trial.number+1} finished, avg reward delta = {avg_reward_diff:.2f}-----------\" + Style.RESET_ALL)\n",
    "    return avg_reward_diff\n",
    "\n",
    "# Create Optuna study\n",
    "study = optuna.create_study(direction=\"maximize\",sampler=optuna.samplers.TPESampler(seed=42))\n",
    "study.optimize(objective, n_trials=n_trials)\n",
    "\n",
    "print(\"Best Hyperparameters:\", study.best_params)\n"
   ]
  },
  {
   "cell_type": "code",
   "execution_count": null,
   "metadata": {
    "id": "ZCLCBSVIzzch",
    "outputId": "c3f2b595-b411-43d0-b5b7-7d2a45062575"
   },
   "outputs": [],
   "source": [
    "study.best_params"
   ]
  },
  {
   "cell_type": "code",
   "execution_count": null,
   "metadata": {
    "id": "oRC-zDJNzzcl",
    "outputId": "14b365b9-0989-4082-b022-5770baa09b3f"
   },
   "outputs": [],
   "source": [
    "study.best_value"
   ]
  },
  {
   "cell_type": "markdown",
   "metadata": {
    "id": "09h9imoid5TU"
   },
   "source": [
    "### Intialize Enviroment"
   ]
  },
  {
   "cell_type": "code",
   "execution_count": null,
   "metadata": {
    "executionInfo": {
     "elapsed": 1,
     "status": "ok",
     "timestamp": 1748203870186,
     "user": {
      "displayName": "yahoo egypt",
      "userId": "13038863756302173317"
     },
     "user_tz": -180
    },
    "id": "k_aIqJskd5TV"
   },
   "outputs": [],
   "source": [
    "env = create_env({})  # Create the environment instance\n"
   ]
  },
  {
   "cell_type": "code",
   "execution_count": null,
   "metadata": {
    "executionInfo": {
     "elapsed": 5,
     "status": "ok",
     "timestamp": 1748203870193,
     "user": {
      "displayName": "yahoo egypt",
      "userId": "13038863756302173317"
     },
     "user_tz": -180
    },
    "id": "ClFlRf9pd5TV"
   },
   "outputs": [],
   "source": [
    "vec_env = DummyVecEnv([lambda: env])\n",
    "\n",
    "# 3. Wrap with VecNormalize\n",
    "vec_env = VecNormalize(vec_env, norm_obs=True, norm_reward=False)\n",
    "\n"
   ]
  },
  {
   "cell_type": "code",
   "execution_count": null,
   "metadata": {
    "colab": {
     "base_uri": "https://localhost:8080/"
    },
    "executionInfo": {
     "elapsed": 20,
     "status": "ok",
     "timestamp": 1748203870215,
     "user": {
      "displayName": "yahoo egypt",
      "userId": "13038863756302173317"
     },
     "user_tz": -180
    },
    "id": "nGLOl9YKd5TV",
    "outputId": "17a22ca4-c3d2-480c-ea9d-570a4a859974"
   },
   "outputs": [],
   "source": [
    "print(\"Running mean:\", vec_env.obs_rms.mean)\n",
    "print(\"Running var:\", vec_env.obs_rms.var)\n"
   ]
  },
  {
   "cell_type": "code",
   "execution_count": null,
   "metadata": {
    "colab": {
     "base_uri": "https://localhost:8080/"
    },
    "executionInfo": {
     "elapsed": 7,
     "status": "ok",
     "timestamp": 1748203870223,
     "user": {
      "displayName": "yahoo egypt",
      "userId": "13038863756302173317"
     },
     "user_tz": -180
    },
    "id": "DUBWiSQ9zzcu",
    "outputId": "207433e2-4c5a-4c05-e23f-90cd2f6fa02d"
   },
   "outputs": [],
   "source": [
    "ppo_Settings = algorithm_settings['PPO']\n",
    "ppo_experiment_settings =ppo_Settings[str(ENV_NAME+\"_\"+REWARD_TYPE)]\n",
    "ppo_experiment_settings"
   ]
  },
  {
   "cell_type": "code",
   "execution_count": null,
   "metadata": {
    "colab": {
     "base_uri": "https://localhost:8080/"
    },
    "executionInfo": {
     "elapsed": 22,
     "status": "ok",
     "timestamp": 1748203870248,
     "user": {
      "displayName": "yahoo egypt",
      "userId": "13038863756302173317"
     },
     "user_tz": -180
    },
    "id": "PjqlSup9zzcw",
    "outputId": "1ff7ddc7-a087-4a33-cc9b-775327bf9f42"
   },
   "outputs": [],
   "source": [
    "ppo_experiment_settings[\"net_arch\"]"
   ]
  },
  {
   "cell_type": "code",
   "execution_count": null,
   "metadata": {
    "executionInfo": {
     "elapsed": 2449,
     "status": "ok",
     "timestamp": 1748203872698,
     "user": {
      "displayName": "yahoo egypt",
      "userId": "13038863756302173317"
     },
     "user_tz": -180
    },
    "id": "Q2AKWITtzzcy"
   },
   "outputs": [],
   "source": [
    "policy_kwargs = {\n",
    "    \"net_arch\": [ppo_experiment_settings[\"net_arch\"]],\n",
    "    \"activation_fn\": torch.nn.ReLU\n",
    "}\n",
    "\n",
    "model = PPO(\n",
    "    \"MlpPolicy\", vec_env,\n",
    "    learning_rate=ppo_experiment_settings['learning_rate'],\n",
    "    gamma=ppo_experiment_settings['gamma'],\n",
    "    gae_lambda=ppo_experiment_settings['gae_lambda'],\n",
    "    ent_coef=ppo_experiment_settings['ent_coef'],\n",
    "    clip_range=ppo_experiment_settings['clip_range'],\n",
    "    batch_size=ppo_experiment_settings['batch_size'],\n",
    "    verbose=0,\n",
    "    policy_kwargs=policy_kwargs,\n",
    "    seed=seed\n",
    ")\n"
   ]
  },
  {
   "cell_type": "code",
   "execution_count": null,
   "metadata": {
    "executionInfo": {
     "elapsed": 2,
     "status": "ok",
     "timestamp": 1748203872705,
     "user": {
      "displayName": "yahoo egypt",
      "userId": "13038863756302173317"
     },
     "user_tz": -180
    },
    "id": "HlvoQXoUd5TV"
   },
   "outputs": [],
   "source": [
    "callback = Stable_RewardCallback(max_episodes = n_epsiode)"
   ]
  },
  {
   "cell_type": "markdown",
   "metadata": {
    "id": "YfR8l0g3zzc9"
   },
   "source": [
    "### Begin Training"
   ]
  },
  {
   "cell_type": "code",
   "execution_count": null,
   "metadata": {
    "id": "_5a-m2VOd5Tb"
   },
   "outputs": [],
   "source": [
    "time_before = time.time()\n",
    "model.learn(total_timesteps=1e9, callback=callback)\n",
    "time_after = time.time()"
   ]
  },
  {
   "cell_type": "code",
   "execution_count": null,
   "metadata": {
    "executionInfo": {
     "elapsed": 3,
     "status": "ok",
     "timestamp": 1748204935652,
     "user": {
      "displayName": "yahoo egypt",
      "userId": "13038863756302173317"
     },
     "user_tz": -180
    },
    "id": "K9A9sVMnd5Tb"
   },
   "outputs": [],
   "source": [
    "# Save the model\n",
    "model.save(\"models/\"+EXPERIMENT_NAME+\"_test\")"
   ]
  },
  {
   "cell_type": "code",
   "execution_count": null,
   "metadata": {
    "executionInfo": {
     "elapsed": 6,
     "status": "ok",
     "timestamp": 1748204935663,
     "user": {
      "displayName": "yahoo egypt",
      "userId": "13038863756302173317"
     },
     "user_tz": -180
    },
    "id": "glloLiUCd5Tc"
   },
   "outputs": [],
   "source": [
    "rewards = callback.episode_rewards\n",
    "results_dict = env.last_run_dict # env.env for D3QN ,env for PPO ##Important should call this before closing env or evaluate\n"
   ]
  },
  {
   "cell_type": "markdown",
   "metadata": {
    "id": "U-yWTk87zzdD"
   },
   "source": [
    "### Evaluate agent"
   ]
  },
  {
   "cell_type": "code",
   "execution_count": null,
   "metadata": {
    "colab": {
     "base_uri": "https://localhost:8080/"
    },
    "executionInfo": {
     "elapsed": 574,
     "status": "ok",
     "timestamp": 1748204936240,
     "user": {
      "displayName": "yahoo egypt",
      "userId": "13038863756302173317"
     },
     "user_tz": -180
    },
    "id": "R3TgkVi1zzdF",
    "outputId": "73a7b99b-dbd0-45f0-fb00-c0a883bcb5c7"
   },
   "outputs": [],
   "source": [
    "from stable_baselines3.common.evaluation import evaluate_policy\n",
    "evaluate_results= evaluate_policy(model, env, n_eval_episodes=10, return_episode_rewards=False)[0]"
   ]
  },
  {
   "cell_type": "markdown",
   "metadata": {
    "id": "EaryXQlgd5Tc"
   },
   "source": [
    "## D3QN"
   ]
  },
  {
   "cell_type": "markdown",
   "metadata": {
    "id": "0zvEKX9Id5Tc"
   },
   "source": [
    "### Hyperparameter Optimizing using Optuna (Only run once)"
   ]
  },
  {
   "cell_type": "code",
   "execution_count": null,
   "metadata": {
    "id": "JS7fBdXmzzdP"
   },
   "outputs": [],
   "source": [
    "import gymnasium as gym\n",
    "from gymnasium.wrappers import NormalizeObservation, NormalizeReward\n",
    "\n"
   ]
  },
  {
   "cell_type": "code",
   "execution_count": null,
   "metadata": {
    "id": "gL4wQaU9zzdX",
    "outputId": "7034d4f5-83d1-4829-f841-601c483ab0a9"
   },
   "outputs": [],
   "source": [
    "env = create_env({})"
   ]
  },
  {
   "cell_type": "code",
   "execution_count": null,
   "metadata": {
    "id": "PmAMO7Bgzzdf"
   },
   "outputs": [],
   "source": [
    "env = NormalizeObservation(env, epsilon=1e-8)\n"
   ]
  },
  {
   "cell_type": "code",
   "execution_count": null,
   "metadata": {
    "id": "YbyDcdFBzzdj"
   },
   "outputs": [],
   "source": [
    "state_size = env.observation_space.shape\n",
    "num_actions = env.action_space.n\n"
   ]
  },
  {
   "cell_type": "code",
   "execution_count": null,
   "metadata": {
    "id": "jAyHa9mpd5Tc"
   },
   "outputs": [],
   "source": [
    "import optuna\n",
    "from colorama import Fore, Style\n",
    "\n",
    "\n",
    "n_tune_epsiode = 10\n",
    "n_trials = 20\n",
    "\n",
    "def objective(trial):\n",
    "        # Sample hyperparameters\n",
    "    learning_rate = trial.suggest_float('learning_rate', 1e-6, 1e-3)\n",
    "    gamma = trial.suggest_float('gamma', 0.9, 0.9999)\n",
    "    tau = trial.suggest_float('tau', 0.8, 1.0)\n",
    "    l2_reg = trial.suggest_float('l2_reg', 0.001, 0.01)\n",
    "    epsilon_decay = trial.suggest_float('epsilon_decay', 0.0001, 0.4)\n",
    "    batch_size = trial.suggest_categorical('batch_size', [32, 64, 128, 256, 512])\n",
    "\n",
    "    reward_diffs = []\n",
    "    seeds=[0,1,2]\n",
    "    for seed in seeds:\n",
    "        agent = D3QNAgent(\n",
    "            env=env,\n",
    "            state_size=state_size,\n",
    "            num_actions=num_actions,\n",
    "            memory_size=100000,\n",
    "            batch_size=batch_size,\n",
    "            gamma=gamma,\n",
    "            epsilon_start=1.0,\n",
    "            epsilon_min=0.01,\n",
    "            epsilon_decay=epsilon_decay,\n",
    "            learning_rate=learning_rate,\n",
    "            tau=tau,\n",
    "            update_freq=4,\n",
    "            l2_reg=l2_reg,\n",
    "            random_state=seed\n",
    "        )\n",
    "\n",
    "\n",
    "        training_results = agent.train(\n",
    "            num_episodes=n_tune_epsiode,\n",
    "            max_steps_per_episode=200,\n",
    "            num_points_for_average=100,\n",
    "            log_interval=10\n",
    "        )\n",
    "\n",
    "        rewards_diff = training_results['rewards'][-1] - training_results['rewards'][0]\n",
    "        reward_diffs.append(rewards_diff)\n",
    "        print(Fore.BLUE + f\"Seed {seed} epsiodes done in trial {trial.number+1}\" + Style.RESET_ALL)\n",
    "\n",
    "    avg_reward_diff = np.mean(reward_diffs)\n",
    "    print(Fore.GREEN + f\"Trial {trial.number+1} Finished, avg_derivative: {avg_reward_diff:.2f}\" + Style.RESET_ALL)\n",
    "\n",
    "    return rewards_diff\n",
    "\n",
    "\n",
    "# Create an Optuna study\n",
    "study = optuna.create_study(direction=\"maximize\")\n",
    "study.optimize(objective, n_trials=n_trials)\n",
    "# Print best hyperparameters\n",
    "print(\"Best Hyperparameters:\", study.best_params)\n"
   ]
  },
  {
   "cell_type": "code",
   "execution_count": null,
   "metadata": {
    "id": "GiZE1sxXzzdu",
    "outputId": "02b804f4-cbf7-46c7-bf78-1ada9089b11f"
   },
   "outputs": [],
   "source": [
    "study.best_params"
   ]
  },
  {
   "cell_type": "code",
   "execution_count": null,
   "metadata": {
    "id": "_lxXRq8ezzdw",
    "outputId": "2c4d4758-7662-4fcb-ab5d-2993c4ef24b2"
   },
   "outputs": [],
   "source": [
    "study.best_value"
   ]
  },
  {
   "cell_type": "markdown",
   "metadata": {
    "id": "YevcAY-Rd5Tc"
   },
   "source": [
    "### Algorithm"
   ]
  },
  {
   "cell_type": "code",
   "execution_count": null,
   "metadata": {
    "executionInfo": {
     "elapsed": 1,
     "status": "ok",
     "timestamp": 1748187644833,
     "user": {
      "displayName": "yahoo egypt",
      "userId": "13038863756302173317"
     },
     "user_tz": -180
    },
    "id": "uNMW3wfQzzdy"
   },
   "outputs": [],
   "source": [
    "env = create_env({})"
   ]
  },
  {
   "cell_type": "code",
   "execution_count": null,
   "metadata": {
    "executionInfo": {
     "elapsed": 1,
     "status": "ok",
     "timestamp": 1748187644837,
     "user": {
      "displayName": "yahoo egypt",
      "userId": "13038863756302173317"
     },
     "user_tz": -180
    },
    "id": "HHofeIptzzdz"
   },
   "outputs": [],
   "source": [
    "import gymnasium as gym\n",
    "from gymnasium.wrappers import NormalizeObservation, NormalizeReward\n",
    "\n",
    "env = NormalizeObservation(env, epsilon=1e-8)\n"
   ]
  },
  {
   "cell_type": "code",
   "execution_count": null,
   "metadata": {
    "executionInfo": {
     "elapsed": 15,
     "status": "ok",
     "timestamp": 1748187644854,
     "user": {
      "displayName": "yahoo egypt",
      "userId": "13038863756302173317"
     },
     "user_tz": -180
    },
    "id": "SsVzVJg0zzd_"
   },
   "outputs": [],
   "source": [
    "state_size = env.observation_space.shape\n",
    "num_actions = env.action_space.n"
   ]
  },
  {
   "cell_type": "code",
   "execution_count": null,
   "metadata": {
    "colab": {
     "base_uri": "https://localhost:8080/"
    },
    "executionInfo": {
     "elapsed": 49,
     "status": "ok",
     "timestamp": 1748187644905,
     "user": {
      "displayName": "yahoo egypt",
      "userId": "13038863756302173317"
     },
     "user_tz": -180
    },
    "id": "M6ncRaK-zzeA",
    "outputId": "88861add-fd05-4b2c-f444-73de6862f28a"
   },
   "outputs": [],
   "source": [
    "d3qn_Settings = algorithm_settings['D3QN']\n",
    "d3qn_experiment_settings =d3qn_Settings[str(ENV_NAME+\"_\"+REWARD_TYPE)]\n",
    "d3qn_experiment_settings"
   ]
  },
  {
   "cell_type": "code",
   "execution_count": null,
   "metadata": {
    "executionInfo": {
     "elapsed": 9,
     "status": "ok",
     "timestamp": 1748187644906,
     "user": {
      "displayName": "yahoo egypt",
      "userId": "13038863756302173317"
     },
     "user_tz": -180
    },
    "id": "BIiJsI9szzeB"
   },
   "outputs": [],
   "source": [
    "parameters={'learning_rate': d3qn_experiment_settings['learning_rate'],\n",
    " 'gamma': d3qn_experiment_settings['gamma'],\n",
    " 'tau': d3qn_experiment_settings['tau'],\n",
    " 'l2_reg': d3qn_experiment_settings['l2_reg'],\n",
    " 'epsilon_decay': d3qn_experiment_settings['epsilon_decay'],\n",
    " 'batch_size': d3qn_experiment_settings['batch_size']}\n"
   ]
  },
  {
   "cell_type": "code",
   "execution_count": null,
   "metadata": {
    "colab": {
     "base_uri": "https://localhost:8080/"
    },
    "executionInfo": {
     "elapsed": 267,
     "status": "ok",
     "timestamp": 1748187645168,
     "user": {
      "displayName": "yahoo egypt",
      "userId": "13038863756302173317"
     },
     "user_tz": -180
    },
    "id": "eMXEzOrIJKog",
    "outputId": "bcfc9aa3-5e85-424c-f80c-5b7e03743585"
   },
   "outputs": [],
   "source": [
    "import gymnasium as gym\n",
    "from gymnasium.wrappers import NormalizeObservation, NormalizeReward\n",
    "import gym as gymo\n",
    "from models.d3qn import D3QNAgent\n",
    "tmp_env = gymo.make('MountainCar-v0',new_step_api=True)\n",
    "\n",
    "agent_ = D3QNAgent(\n",
    "            env=tmp_env,\n",
    "            state_size=tmp_env.observation_space.shape,\n",
    "            num_actions=tmp_env.action_space.n,\n",
    "\n",
    "        )"
   ]
  },
  {
   "cell_type": "code",
   "execution_count": null,
   "metadata": {
    "executionInfo": {
     "elapsed": 86,
     "status": "ok",
     "timestamp": 1748187645255,
     "user": {
      "displayName": "yahoo egypt",
      "userId": "13038863756302173317"
     },
     "user_tz": -180
    },
    "id": "7614WUwqJKoh"
   },
   "outputs": [],
   "source": []
  },
  {
   "cell_type": "code",
   "execution_count": null,
   "metadata": {
    "colab": {
     "base_uri": "https://localhost:8080/",
     "height": 0
    },
    "executionInfo": {
     "elapsed": 38,
     "status": "ok",
     "timestamp": 1748187645257,
     "user": {
      "displayName": "yahoo egypt",
      "userId": "13038863756302173317"
     },
     "user_tz": -180
    },
    "id": "bd1zAYd1JKoh",
    "outputId": "79c93573-21e6-4905-bc2d-8abc508f39e5"
   },
   "outputs": [],
   "source": [
    "'''\n",
    "training_results = agent_.train(\n",
    "            num_episodes=2,\n",
    "            max_steps_per_episode=20,\n",
    "            num_points_for_average=2,\n",
    "            log_interval=1)\n",
    "\n",
    "\n",
    "'''"
   ]
  },
  {
   "cell_type": "code",
   "execution_count": null,
   "metadata": {
    "executionInfo": {
     "elapsed": 32,
     "status": "ok",
     "timestamp": 1748187645259,
     "user": {
      "displayName": "yahoo egypt",
      "userId": "13038863756302173317"
     },
     "user_tz": -180
    },
    "id": "eqpevD37JKoh"
   },
   "outputs": [],
   "source": [
    "#path_save = 'models/tmp_unrelated.h5'\n",
    "#agent_.save_model(path_save)\n"
   ]
  },
  {
   "cell_type": "code",
   "execution_count": null,
   "metadata": {
    "executionInfo": {
     "elapsed": 30,
     "status": "ok",
     "timestamp": 1748187645260,
     "user": {
      "displayName": "yahoo egypt",
      "userId": "13038863756302173317"
     },
     "user_tz": -180
    },
    "id": "qK6KjIAwJKoi"
   },
   "outputs": [],
   "source": [
    "#agent_.load_model(path_save)"
   ]
  },
  {
   "cell_type": "code",
   "execution_count": null,
   "metadata": {
    "colab": {
     "base_uri": "https://localhost:8080/"
    },
    "executionInfo": {
     "elapsed": 213,
     "status": "ok",
     "timestamp": 1748187645465,
     "user": {
      "displayName": "yahoo egypt",
      "userId": "13038863756302173317"
     },
     "user_tz": -180
    },
    "id": "o8B1ZgUSzzeF",
    "outputId": "c05556ab-010c-4b06-df30-b0732e00caba"
   },
   "outputs": [],
   "source": [
    "agent = D3QNAgent(\n",
    "            env=env,\n",
    "            state_size=state_size,\n",
    "            num_actions=num_actions,\n",
    "            memory_size=100000,\n",
    "            batch_size=parameters['batch_size'],\n",
    "            gamma=parameters['gamma'],\n",
    "            epsilon_start=1.0,\n",
    "            epsilon_min=0.01,\n",
    "            epsilon_decay=parameters['epsilon_decay'],\n",
    "            learning_rate=parameters['learning_rate'],\n",
    "            tau=parameters['tau'],\n",
    "            update_freq=4,\n",
    "            l2_reg=parameters['l2_reg'],\n",
    "            random_state=seed\n",
    "        )\n",
    "\n",
    "\n"
   ]
  },
  {
   "cell_type": "markdown",
   "metadata": {
    "id": "YVnYEIu6zzeG"
   },
   "source": [
    "### Begin Training"
   ]
  },
  {
   "cell_type": "code",
   "execution_count": null,
   "metadata": {
    "id": "WTJnLrqazzeJ"
   },
   "outputs": [],
   "source": [
    "time_before=time.time()\n",
    "training_results = agent.train(\n",
    "            num_episodes=n_epsiode,\n",
    "            max_steps_per_episode=max_steps,\n",
    "            num_points_for_average=100,\n",
    "            log_interval=1)\n",
    "time_after=time.time()"
   ]
  },
  {
   "cell_type": "code",
   "execution_count": null,
   "metadata": {
    "executionInfo": {
     "elapsed": 2,
     "status": "ok",
     "timestamp": 1748189139575,
     "user": {
      "displayName": "yahoo egypt",
      "userId": "13038863756302173317"
     },
     "user_tz": -180
    },
    "id": "ioloPYk2zzeN"
   },
   "outputs": [],
   "source": [
    "results_dict = env.env.last_run_dict # env.env for D3QN ,env for PPO ##Important should call this before closing env or evaluate\n"
   ]
  },
  {
   "cell_type": "markdown",
   "metadata": {
    "id": "GFzYTrAczzeO"
   },
   "source": [
    "###  Evaluate"
   ]
  },
  {
   "cell_type": "code",
   "execution_count": null,
   "metadata": {
    "colab": {
     "base_uri": "https://localhost:8080/"
    },
    "executionInfo": {
     "elapsed": 27977,
     "status": "ok",
     "timestamp": 1748189167555,
     "user": {
      "displayName": "yahoo egypt",
      "userId": "13038863756302173317"
     },
     "user_tz": -180
    },
    "id": "9REdxJqIzzeP",
    "outputId": "43c3a8b8-492d-4a92-ef2f-e169ca3e825a"
   },
   "outputs": [],
   "source": [
    "evaluate_results=agent.evaluate(num_episodes=10)"
   ]
  },
  {
   "cell_type": "code",
   "execution_count": null,
   "metadata": {
    "executionInfo": {
     "elapsed": 26,
     "status": "ok",
     "timestamp": 1748189167557,
     "user": {
      "displayName": "yahoo egypt",
      "userId": "13038863756302173317"
     },
     "user_tz": -180
    },
    "id": "phtgwTVGzzeQ"
   },
   "outputs": [],
   "source": [
    "rewards=training_results['rewards']\n",
    "losses=training_results['losses']\n"
   ]
  },
  {
   "cell_type": "code",
   "execution_count": null,
   "metadata": {
    "executionInfo": {
     "elapsed": 23,
     "status": "ok",
     "timestamp": 1748189167560,
     "user": {
      "displayName": "yahoo egypt",
      "userId": "13038863756302173317"
     },
     "user_tz": -180
    },
    "id": "smLulyGuzzeS"
   },
   "outputs": [],
   "source": []
  },
  {
   "cell_type": "code",
   "execution_count": 37,
   "metadata": {
    "executionInfo": {
     "elapsed": 26,
     "status": "ok",
     "timestamp": 1748189167566,
     "user": {
      "displayName": "yahoo egypt",
      "userId": "13038863756302173317"
     },
     "user_tz": -180
    },
    "id": "qaKhdyIRzzeT"
   },
   "outputs": [],
   "source": [
    "# Save the trained model\n",
    "path_save = str('FINAL_'+ENV_NAME+'_'+REWARD_TYPE+'_'+EXPERIMENT_NAME)\n",
    "agent.save_model(path_save+\".keras\")\n",
    "\n"
   ]
  },
  {
   "cell_type": "code",
   "execution_count": null,
   "metadata": {
    "executionInfo": {
     "elapsed": 90,
     "status": "ok",
     "timestamp": 1748189167657,
     "user": {
      "displayName": "yahoo egypt",
      "userId": "13038863756302173317"
     },
     "user_tz": -180
    },
    "id": "clevfdfJgULO"
   },
   "outputs": [],
   "source": [
    "from keras.config import enable_unsafe_deserialization\n",
    "enable_unsafe_deserialization()\n",
    "agent.load_model(path_save+\".keras\")\n"
   ]
  },
  {
   "cell_type": "markdown",
   "metadata": {
    "id": "JZFkEWXTd5Tm"
   },
   "source": [
    "## Save and See results"
   ]
  },
  {
   "cell_type": "code",
   "execution_count": null,
   "metadata": {
    "colab": {
     "base_uri": "https://localhost:8080/"
    },
    "executionInfo": {
     "elapsed": 9,
     "status": "ok",
     "timestamp": 1748204936255,
     "user": {
      "displayName": "yahoo egypt",
      "userId": "13038863756302173317"
     },
     "user_tz": -180
    },
    "id": "2FYReVPgd5Tm",
    "outputId": "6b074434-c5af-4fac-925d-e0d32c7aaf5b"
   },
   "outputs": [],
   "source": [
    "time_diff = time_after - time_before\n",
    "print(Fore.GREEN + f\"Time taken for training: {round(time_diff,3)} seconds ({round(time_diff/60,3)} Minutes)\" + Style.RESET_ALL)\n"
   ]
  },
  {
   "cell_type": "code",
   "execution_count": null,
   "metadata": {
    "executionInfo": {
     "elapsed": 5,
     "status": "ok",
     "timestamp": 1748204936264,
     "user": {
      "displayName": "yahoo egypt",
      "userId": "13038863756302173317"
     },
     "user_tz": -180
    },
    "id": "8RJYlgT7zzeW"
   },
   "outputs": [],
   "source": [
    "def append_to_file(filename, text):\n",
    "    with open(filename, 'a') as file:\n",
    "        file.write(text + '\\n')  # '\\n' لتضيف السطر الجديد بعد كل جملة\n"
   ]
  },
  {
   "cell_type": "code",
   "execution_count": null,
   "metadata": {
    "colab": {
     "base_uri": "https://localhost:8080/"
    },
    "executionInfo": {
     "elapsed": 6,
     "status": "ok",
     "timestamp": 1748204936273,
     "user": {
      "displayName": "yahoo egypt",
      "userId": "13038863756302173317"
     },
     "user_tz": -180
    },
    "id": "0zs-eqbEd5Tn",
    "outputId": "e88baaaa-0ff9-4e41-c6d2-9697700bcc14"
   },
   "outputs": [],
   "source": [
    "last_cumulative_reward = round(rewards[-1],3)\n",
    "\n",
    "print(Fore.MAGENTA + f\"The Cumulative Reward of last Epsiode is : {last_cumulative_reward} ,Using Reward {REWARD_TYPE} \" + Style.RESET_ALL)\n"
   ]
  },
  {
   "cell_type": "code",
   "execution_count": null,
   "metadata": {
    "colab": {
     "base_uri": "https://localhost:8080/"
    },
    "executionInfo": {
     "elapsed": 8,
     "status": "ok",
     "timestamp": 1748204936285,
     "user": {
      "displayName": "yahoo egypt",
      "userId": "13038863756302173317"
     },
     "user_tz": -180
    },
    "id": "x-qxD_Elzzeg",
    "outputId": "d71e551c-a30a-4da6-bc8e-5eaab781fbd0"
   },
   "outputs": [],
   "source": [
    "if 'evaluate_results' in locals():\n",
    "    print(Fore.CYAN + f\"Avg. Reward for evaluated environment: {evaluate_results}\" + Style.RESET_ALL)\n",
    "\n"
   ]
  },
  {
   "cell_type": "code",
   "execution_count": null,
   "metadata": {
    "colab": {
     "base_uri": "https://localhost:8080/"
    },
    "executionInfo": {
     "elapsed": 6,
     "status": "ok",
     "timestamp": 1748204936293,
     "user": {
      "displayName": "yahoo egypt",
      "userId": "13038863756302173317"
     },
     "user_tz": -180
    },
    "id": "ZACok9Inzzeh",
    "outputId": "7143aae8-6123-451e-9c46-66f2754d9018"
   },
   "outputs": [],
   "source": [
    "for key, value in results_dict.items():\n",
    "    print(Fore.CYAN + f\"{key}: {round(value,3)}\" + Style.RESET_ALL)\n",
    "    #append_to_file(\"output1.txt\",f\"{key}: {round(value,3)}\")\n",
    "\n"
   ]
  },
  {
   "cell_type": "code",
   "execution_count": null,
   "metadata": {
    "colab": {
     "base_uri": "https://localhost:8080/"
    },
    "executionInfo": {
     "elapsed": 9,
     "status": "ok",
     "timestamp": 1748204936306,
     "user": {
      "displayName": "yahoo egypt",
      "userId": "13038863756302173317"
     },
     "user_tz": -180
    },
    "id": "wXztdwqKd5Tn",
    "outputId": "70b0ea83-1ffe-4fb0-a1f6-c2c7721d6654"
   },
   "outputs": [],
   "source": [
    "derivative = rewards[-1] - rewards[0]\n",
    "print(Fore.GREEN + f\"Derivative of reward  is {derivative}\" + Style.RESET_ALL)\n"
   ]
  },
  {
   "cell_type": "code",
   "execution_count": null,
   "metadata": {
    "colab": {
     "base_uri": "https://localhost:8080/",
     "height": 472
    },
    "executionInfo": {
     "elapsed": 26,
     "status": "ok",
     "timestamp": 1748204936339,
     "user": {
      "displayName": "yahoo egypt",
      "userId": "13038863756302173317"
     },
     "user_tz": -180
    },
    "id": "SKZ1OFbed5To",
    "outputId": "20835c1d-81b7-44e0-8689-d536938d4083"
   },
   "outputs": [],
   "source": [
    "import matplotlib.pyplot as plt\n",
    "plt.plot(rewards)\n",
    "plt.xlabel(\"Episode\")\n",
    "plt.ylabel(\"Reward\")\n",
    "plt.title(\"Reward per Episode\")\n",
    "plt.grid(True)\n",
    "plt.show()"
   ]
  },
  {
   "cell_type": "code",
   "execution_count": null,
   "metadata": {
    "executionInfo": {
     "elapsed": 7,
     "status": "ok",
     "timestamp": 1748204936356,
     "user": {
      "displayName": "yahoo egypt",
      "userId": "13038863756302173317"
     },
     "user_tz": -180
    },
    "id": "-0x7vvpWzzel"
   },
   "outputs": [],
   "source": [
    "import matplotlib.pyplot as plt\n",
    "if 'losses' in locals():\n",
    "    plt.plot(training_results['losses'])\n",
    "    plt.xlabel(\"Episode\")\n",
    "    plt.ylabel(\"Reward\")\n",
    "    plt.title(\"Loss per Episode\")\n",
    "    plt.grid(True)\n",
    "    plt.show()"
   ]
  },
  {
   "cell_type": "markdown",
   "metadata": {
    "id": "MJYhOxUcd5Tp"
   },
   "source": [
    "The Following will work with D3QN and give error in PPO"
   ]
  },
  {
   "cell_type": "code",
   "execution_count": null,
   "metadata": {
    "colab": {
     "base_uri": "https://localhost:8080/"
    },
    "executionInfo": {
     "elapsed": 19,
     "status": "ok",
     "timestamp": 1748204936381,
     "user": {
      "displayName": "yahoo egypt",
      "userId": "13038863756302173317"
     },
     "user_tz": -180
    },
    "id": "8dZXJiMjzzer",
    "outputId": "a7c2ec68-c038-4649-aa17-3a09da917f58"
   },
   "outputs": [],
   "source": [
    "conn.close()\n",
    "env.close() # Should be closed after all (as last step results)"
   ]
  },
  {
   "cell_type": "markdown",
   "metadata": {
    "id": "Cy4h3O7Vzzeu"
   },
   "source": [
    "## ReLoading"
   ]
  },
  {
   "cell_type": "code",
   "execution_count": null,
   "metadata": {
    "id": "sQucHZapzzev"
   },
   "outputs": [],
   "source": [
    "import  Connections.RealConnection\n",
    "conn2 = Connections.RealConnection.RealConnection()"
   ]
  },
  {
   "cell_type": "code",
   "execution_count": null,
   "metadata": {
    "id": "L_vZRUA7zzev"
   },
   "outputs": [],
   "source": [
    "set_global_conn(conn2)"
   ]
  },
  {
   "cell_type": "code",
   "execution_count": null,
   "metadata": {
    "id": "LqsrL_zizzew"
   },
   "outputs": [],
   "source": [
    "model_loaded = PPO.load(\"models/temp_test.zip\")"
   ]
  },
  {
   "cell_type": "code",
   "execution_count": null,
   "metadata": {
    "id": "ALMdksuVqkNu"
   },
   "outputs": [],
   "source": [
    "tmp_data = 10* np.random.random((1,7))\n",
    "random_actions = np.array([1])\n",
    "random_rewards = np.array([.5])"
   ]
  },
  {
   "cell_type": "code",
   "execution_count": null,
   "metadata": {
    "id": "rgUGIrPdqkNv",
    "outputId": "b053a639-2f8b-4969-81f9-bdc68884e368"
   },
   "outputs": [],
   "source": [
    "model_loaded.rollout_buffer.add(tmp_data,random_actions,random_rewards,random_rewards,random_rewards,np.array([1]))"
   ]
  },
  {
   "cell_type": "code",
   "execution_count": null,
   "metadata": {
    "id": "q9wv6-tsqkNw",
    "outputId": "b830749f-cb6f-484a-9480-b047b23e3fdf"
   },
   "outputs": [],
   "source": [
    "model_loaded.train(tmp_data)"
   ]
  },
  {
   "cell_type": "code",
   "execution_count": null,
   "metadata": {
    "id": "CljNTc8Uzzex",
    "outputId": "58629a06-4529-4c7d-e74d-50fd45def515"
   },
   "outputs": [],
   "source": [
    "model_loaded"
   ]
  },
  {
   "cell_type": "code",
   "execution_count": null,
   "metadata": {
    "id": "fraHXi3_zze-"
   },
   "outputs": [],
   "source": [
    "traffic_lights = [(4, '1698478721')]\n"
   ]
  },
  {
   "cell_type": "code",
   "execution_count": null,
   "metadata": {
    "id": "18jZ5Y8Rzze_"
   },
   "outputs": [],
   "source": [
    "sumo_home=''"
   ]
  },
  {
   "cell_type": "code",
   "execution_count": null,
   "metadata": {
    "id": "3dKjIQ5SzzfL",
    "outputId": "35076541-fb4e-4754-cec7-fa482c00055e"
   },
   "outputs": [],
   "source": [
    "env = create_env({})  # Create the environment instance\n",
    "vec_env = DummyVecEnv([lambda: env])\n",
    "vec_env = VecNormalize(vec_env, norm_obs=True, norm_reward=False)\n",
    "\n",
    "\n",
    "env.reset()"
   ]
  },
  {
   "cell_type": "code",
   "execution_count": null,
   "metadata": {
    "id": "8u_rIV_RzzhT"
   },
   "outputs": [],
   "source": [
    "action, _states = model_loaded.predict(np.array([5]*7), deterministic=True)\n"
   ]
  },
  {
   "cell_type": "code",
   "execution_count": null,
   "metadata": {
    "id": "8KhpNOBrzzhV",
    "outputId": "9821b465-70f6-43d0-c753-8dba973fded7"
   },
   "outputs": [],
   "source": [
    "action"
   ]
  },
  {
   "cell_type": "code",
   "execution_count": null,
   "metadata": {
    "id": "kaiV8w6pzzhW"
   },
   "outputs": [],
   "source": []
  },
  {
   "cell_type": "code",
   "execution_count": null,
   "metadata": {
    "id": "cg-Ri2qOzzhW"
   },
   "outputs": [],
   "source": [
    "conn2.state={agent_id:np.array([5]*7)}"
   ]
  },
  {
   "cell_type": "code",
   "execution_count": null,
   "metadata": {
    "id": "ActMRPJ1zzhX",
    "outputId": "6c177bc5-0e10-4f33-c288-f857b353d0d9"
   },
   "outputs": [],
   "source": [
    "int(action)"
   ]
  },
  {
   "cell_type": "code",
   "execution_count": null,
   "metadata": {
    "id": "x52NZbsCzzha",
    "outputId": "1f8ebe0d-a756-4d26-88f4-223b939021f5"
   },
   "outputs": [],
   "source": [
    "obs, reward, done,terminated, info = env.step(int(action))"
   ]
  },
  {
   "cell_type": "code",
   "execution_count": null,
   "metadata": {
    "id": "QwLUwm72zzhd",
    "outputId": "c7e9280a-67bf-4146-ce7c-390cd39ab837"
   },
   "outputs": [],
   "source": [
    "reward"
   ]
  },
  {
   "cell_type": "code",
   "execution_count": null,
   "metadata": {
    "id": "onzkHHsrzzhf",
    "outputId": "c43e923f-d46f-444d-f8c5-a4751d28bc57"
   },
   "outputs": [],
   "source": [
    "model_loaded.predict(obs, deterministic=True)"
   ]
  },
  {
   "cell_type": "code",
   "execution_count": null,
   "metadata": {
    "id": "UJhKXiZMzzhg"
   },
   "outputs": [],
   "source": [
    "pip install pyserial\n"
   ]
  },
  {
   "cell_type": "code",
   "execution_count": null,
   "metadata": {
    "id": "uCcivJrHzzhk",
    "outputId": "6b952a51-6408-4bbb-cde6-b069c527c7ac"
   },
   "outputs": [],
   "source": [
    "import serial\n",
    "import time\n",
    "\n",
    "# Replace with your actual COM port. For example, '/dev/ttyUSB0' on Linux or 'COM3' on Windows.\n",
    "arduino = serial.Serial('COM3', 115200 )\n",
    "time.sleep(2)  # Give Arduino time to reset\n",
    "\n",
    "# Send 'g' to turn on LED\n",
    "arduino.write(b'g')\n",
    "\n",
    "# Optional: close after use\n",
    "#arduino.close()\n"
   ]
  },
  {
   "cell_type": "code",
   "execution_count": null,
   "metadata": {
    "id": "hGnGt49Jzzhl",
    "outputId": "24bf54e5-9c8d-44f5-cc53-986c727fa248"
   },
   "outputs": [],
   "source": [
    "arduino.write(b'g')\n"
   ]
  },
  {
   "cell_type": "code",
   "execution_count": null,
   "metadata": {
    "id": "THWD2Npgzzhm"
   },
   "outputs": [],
   "source": [
    "arduino.close()"
   ]
  },
  {
   "cell_type": "code",
   "execution_count": null,
   "metadata": {
    "id": "KXOjhS0Ezzhn",
    "outputId": "111f8569-18b0-473f-c1d0-8640f20b573f"
   },
   "outputs": [],
   "source": [
    "import random\n",
    "import time\n",
    "while True:\n",
    "    s=random.choice([b'g',b'r',b'y'])\n",
    "    print(f\"action {s}\")\n",
    "    arduino.write(s)\n",
    "\n",
    "    time.sleep(5)"
   ]
  }
 ],
 "metadata": {
  "colab": {
   "collapsed_sections": [
    "UXV5lkGtemDg",
    "6UoZ4_O-zzX_",
    "COMX999vzzZj",
    "VzgmdbkkExt1",
    "kQTerJYtHZhx",
    "Ti1PxkdOd5S3",
    "lUhSuk12d5TI",
    "Cc-_Wthzd5TL",
    "TsHoKZR1d5TL",
    "nG0EyP10d5TM",
    "CiFUDZ5Dd5TO",
    "-vV5vP6ad5TO",
    "09h9imoid5TU",
    "0zvEKX9Id5Tc",
    "YevcAY-Rd5Tc",
    "GFzYTrAczzeO",
    "Cy4h3O7Vzzeu"
   ],
   "provenance": []
  },
  "kernelspec": {
   "display_name": "Python 3",
   "name": "python3"
  },
  "language_info": {
   "codemirror_mode": {
    "name": "ipython",
    "version": 3
   },
   "file_extension": ".py",
   "mimetype": "text/x-python",
   "name": "python",
   "nbconvert_exporter": "python",
   "pygments_lexer": "ipython3",
   "version": "3.11.4"
  }
 },
 "nbformat": 4,
 "nbformat_minor": 0
}
