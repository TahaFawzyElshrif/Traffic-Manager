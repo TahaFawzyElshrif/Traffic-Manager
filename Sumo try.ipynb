{
 "cells": [
  {
   "cell_type": "markdown",
   "id": "228e2398",
   "metadata": {},
   "source": [
    "## Colab Mount Drive\n"
   ]
  },
  {
   "cell_type": "code",
   "execution_count": null,
   "id": "b9e79140",
   "metadata": {},
   "outputs": [],
   "source": [
    "# prompt: mount drive\n",
    "\n",
    "from google.colab import drive\n",
    "drive.mount('/content/drive')\n"
   ]
  },
  {
   "cell_type": "markdown",
   "id": "c2b5e7c5",
   "metadata": {},
   "source": [
    "## Set Main Pathes"
   ]
  },
  {
   "cell_type": "code",
   "execution_count": 1,
   "id": "08491c6f",
   "metadata": {},
   "outputs": [],
   "source": [
    "def is_colab():\n",
    "    try:\n",
    "        import google.colab\n",
    "        return True\n",
    "    except ImportError:\n",
    "        return False\n",
    "\n"
   ]
  },
  {
   "cell_type": "code",
   "execution_count": 2,
   "id": "5d578dfc",
   "metadata": {},
   "outputs": [
    {
     "name": "stdout",
     "output_type": "stream",
     "text": [
      "Running on Windows\n"
     ]
    }
   ],
   "source": [
    "import platform\n",
    "\n",
    "if platform.system() == \"Linux\":\n",
    "    if is_colab():\n",
    "      print(\"Running in Google Colab\")\n",
    "      path_main_folder = \"/content/drive/My Drive/study/graduation_project/final/Code/project_files/TrafficManager/TrafficManager/\"\n",
    "\n",
    "\n",
    "else:\n",
    "    print(\"Running on Windows\")\n",
    "    path_main_folder = \"I:/My Drive/study/graduation_project/final/Code/project_files/TrafficManager/TrafficManager/\"\n",
    "\n",
    "\n",
    "path_data_folder = path_main_folder + \"AIST_Cleaned/data2_mosheerIsmail/\"#\"AIST_Cleaned/data2_mosheerIsmail/\"\n",
    "path_cfg = path_data_folder +\"cfg.sumocfg\"\n",
    "path_project_folder = path_main_folder + \"\"\n",
    "\n"
   ]
  },
  {
   "cell_type": "code",
   "execution_count": 3,
   "id": "201fb842",
   "metadata": {},
   "outputs": [
    {
     "name": "stdout",
     "output_type": "stream",
     "text": [
      "File exists at: I:/My Drive/study/graduation_project/final/Code/project_files/TrafficManager/TrafficManager/\n"
     ]
    }
   ],
   "source": [
    "# prompt: check if file path ok\n",
    "\n",
    "import os\n",
    "\n",
    "if os.path.exists(path_main_folder):\n",
    "  print(f\"File exists at: {path_main_folder}\")\n",
    "else:\n",
    "  print(f\"File does not exist at: {path_main_folder}\")\n"
   ]
  },
  {
   "cell_type": "code",
   "execution_count": 4,
   "id": "096bbfd4",
   "metadata": {},
   "outputs": [],
   "source": [
    "yaml_file = path_project_folder + \"config.yaml\"\n",
    "keys_file = path_project_folder + \"keys.env\""
   ]
  },
  {
   "cell_type": "markdown",
   "id": "a300a2b5",
   "metadata": {},
   "source": [
    "##  install sumo"
   ]
  },
  {
   "cell_type": "code",
   "execution_count": null,
   "id": "4885d5d1",
   "metadata": {},
   "outputs": [],
   "source": [
    "!sudo add-apt-repository -y ppa:sumo/stable\n",
    "!sudo apt-get update\n",
    "!sudo apt-get install -y sumo sumo-tools sumo-doc\n"
   ]
  },
  {
   "cell_type": "code",
   "execution_count": null,
   "id": "903f95e2",
   "metadata": {},
   "outputs": [],
   "source": [
    "!source ~/.bashrc\n"
   ]
  },
  {
   "cell_type": "code",
   "execution_count": null,
   "id": "110444b3",
   "metadata": {},
   "outputs": [],
   "source": [
    "!sumo --version\n"
   ]
  },
  {
   "cell_type": "markdown",
   "id": "5c926b59",
   "metadata": {},
   "source": [
    "## Install Packages"
   ]
  },
  {
   "cell_type": "code",
   "execution_count": null,
   "id": "01f7a20a",
   "metadata": {},
   "outputs": [],
   "source": [
    "!pip install traci\n",
    "!pip install dotenv\n",
    "!pip install ray\n",
    "!pip install ray[rllib]\n",
    "!pip install colorama\n",
    "!pip install optuna\n",
    "!pip install stable_baselines3"
   ]
  },
  {
   "cell_type": "markdown",
   "id": "bbf5d0d3",
   "metadata": {},
   "source": [
    "## Import Packages"
   ]
  },
  {
   "cell_type": "code",
   "execution_count": 5,
   "id": "79c72fe1",
   "metadata": {},
   "outputs": [],
   "source": [
    "import sys\n",
    "sys.path.append(path_project_folder)\n"
   ]
  },
  {
   "cell_type": "code",
   "execution_count": 6,
   "id": "72c48dba",
   "metadata": {},
   "outputs": [],
   "source": [
    "from Connections import SumoConnection\n",
    "from Connections.Connection import *\n",
    "import os\n",
    "import traci\n",
    "import gymnasium as gym\n",
    "from numpy import inf\n",
    "import numpy as np\n",
    "import SumoEnvSingleAgent\n",
    "from Utils_reporting import *\n",
    "from Utils_running_singleAgent import *\n",
    "from rewards import *\n",
    "from stable_baselines3 import PPO ,DQN\n",
    "from stable_baselines3.common.vec_env import DummyVecEnv, VecNormalize\n",
    "import torch\n",
    "import time\n",
    "from Callbacks import *\n",
    "from models.d3qn import D3QNAgent\n",
    "from Utils_reporting import *\n"
   ]
  },
  {
   "cell_type": "markdown",
   "id": "4341bbe5",
   "metadata": {},
   "source": [
    "## Set Parameters"
   ]
  },
  {
   "cell_type": "code",
   "execution_count": 7,
   "id": "423f975f",
   "metadata": {},
   "outputs": [],
   "source": [
    "max_step = 4000\n",
    "precent_Scale = .14\n",
    "is_gui = True"
   ]
  },
  {
   "cell_type": "code",
   "execution_count": 8,
   "id": "2a8f8ab8",
   "metadata": {},
   "outputs": [],
   "source": [
    "scale = int(10*precent_Scale)"
   ]
  },
  {
   "cell_type": "markdown",
   "id": "b21de759",
   "metadata": {},
   "source": [
    "## Open Sumo"
   ]
  },
  {
   "cell_type": "code",
   "execution_count": 9,
   "id": "edfc6aff",
   "metadata": {},
   "outputs": [
    {
     "name": "stdout",
     "output_type": "stream",
     "text": [
      "Running on Windows\n",
      "Running in Google Colab\n"
     ]
    }
   ],
   "source": [
    "if platform.system() == \"Linux\":\n",
    "    if is_colab():\n",
    "        print(\"Running in Google Colab\")\n",
    "        sumo_home = str(os.getenv(\"sumo_home_lin\"))\n",
    "        sumo_binary = str(os.getenv(\"sumo_binary_lin\"))\n",
    "        if is_gui:\n",
    "            print(\"GUI not supported on linux\")\n",
    "    else:\n",
    "      print(\"Not running in HPC Linux (default linux)\")\n",
    "\n",
    "\n",
    "else:\n",
    "    print(\"Running on Windows\")\n",
    "    print(\"Running in Google Colab\")\n",
    "    sumo_home = str(os.getenv(\"sumo_home_win\"))\n",
    "    if is_gui:\n",
    "        sumo_binary = str(os.getenv(\"sumo_binary_gui_win\"))\n",
    "    else:\n",
    "        sumo_binary = str(os.getenv(\"sumo_binary_cli_win\"))\n",
    "\n",
    "\n"
   ]
  },
  {
   "cell_type": "code",
   "execution_count": 10,
   "id": "a7f2b36b",
   "metadata": {},
   "outputs": [],
   "source": [
    "python_path =sumo_home\n",
    "data_path = path_data_folder"
   ]
  },
  {
   "cell_type": "code",
   "execution_count": 11,
   "id": "93dcd119",
   "metadata": {},
   "outputs": [],
   "source": [
    "cmd=[sumo_binary, \"-c\", path_cfg ,\"--log\", \"sumo_log.txt\", \"--verbose\", \"true\"]\n"
   ]
  },
  {
   "cell_type": "code",
   "execution_count": 12,
   "id": "c01c1d68",
   "metadata": {},
   "outputs": [
    {
     "name": "stdout",
     "output_type": "stream",
     "text": [
      "No connection found, creating a new connection ❌\n"
     ]
    }
   ],
   "source": [
    "conn=SumoConnection.SumoConnection(cmd)"
   ]
  },
  {
   "cell_type": "markdown",
   "id": "bb3983ee",
   "metadata": {},
   "source": [
    "## Load Traffic Lights info"
   ]
  },
  {
   "cell_type": "code",
   "execution_count": 13,
   "id": "977f608b",
   "metadata": {},
   "outputs": [],
   "source": [
    "agent_id='1698478721'"
   ]
  },
  {
   "cell_type": "code",
   "execution_count": 14,
   "id": "700a5067",
   "metadata": {},
   "outputs": [
    {
     "data": {
      "text/plain": [
       "[(4, '1698478721')]"
      ]
     },
     "execution_count": 14,
     "metadata": {},
     "output_type": "execute_result"
    }
   ],
   "source": [
    "traffic_lights,policies=get_traffic_lights_policies_high_group(durations=[1],agent_ids=[agent_id])\n",
    "traffic_lights"
   ]
  },
  {
   "cell_type": "markdown",
   "id": "9bbc86e1",
   "metadata": {},
   "source": [
    "## Start Simulation"
   ]
  },
  {
   "cell_type": "code",
   "execution_count": 15,
   "id": "5b1dbe12",
   "metadata": {},
   "outputs": [],
   "source": [
    "traci.simulation.setScale(scale)"
   ]
  },
  {
   "cell_type": "code",
   "execution_count": 28,
   "id": "e447001a",
   "metadata": {},
   "outputs": [
    {
     "data": {
      "text/plain": [
       "'GGrr'"
      ]
     },
     "execution_count": 28,
     "metadata": {},
     "output_type": "execute_result"
    }
   ],
   "source": [
    "traci.trafficlight.getRedYellowGreenState(traffic_lights[0][1])"
   ]
  },
  {
   "cell_type": "code",
   "execution_count": 29,
   "id": "57e0bba5",
   "metadata": {},
   "outputs": [
    {
     "data": {
      "text/plain": [
       "('1698478721', '295959999', '5375841071')"
      ]
     },
     "execution_count": 29,
     "metadata": {},
     "output_type": "execute_result"
    }
   ],
   "source": [
    "traci.trafficlight.getIDList()"
   ]
  },
  {
   "cell_type": "code",
   "execution_count": 16,
   "id": "0081b6b8",
   "metadata": {},
   "outputs": [],
   "source": [
    "time_before =time.time()\n",
    "\n",
    "for i in range(500):\n",
    "\n",
    "    traci.trafficlight.setRedYellowGreenState( '295959999','g')\n",
    "    traci.trafficlight.setRedYellowGreenState( '5375841071','gggg')\n",
    "    traci.trafficlight.setRedYellowGreenState( traffic_lights[0][1],'gggg')\n",
    "\n",
    "    traci.simulation.step()\n",
    "    #conn.do_steps_duration(1,max_step,traffic_lights[0][1])\n",
    "\n",
    "time_after =time.time()\n"
   ]
  },
  {
   "cell_type": "code",
   "execution_count": 17,
   "id": "d7eec4d9",
   "metadata": {},
   "outputs": [
    {
     "data": {
      "text/plain": [
       "('765377840#0_0', '765377840#0_0', '599453178#2_0', '599453178#2_0')"
      ]
     },
     "execution_count": 17,
     "metadata": {},
     "output_type": "execute_result"
    }
   ],
   "source": [
    "traci.trafficlight.getControlledLanes('5375841071')# traffic_lights[0][1])"
   ]
  },
  {
   "cell_type": "code",
   "execution_count": 48,
   "id": "46a8de6c",
   "metadata": {},
   "outputs": [
    {
     "data": {
      "text/plain": [
       "'178936306#0_0'"
      ]
     },
     "execution_count": 48,
     "metadata": {},
     "output_type": "execute_result"
    }
   ],
   "source": [
    "traci.vehicle.getLaneID('341')"
   ]
  },
  {
   "cell_type": "code",
   "execution_count": null,
   "id": "3d7f642b",
   "metadata": {},
   "outputs": [
    {
     "data": {
      "text/plain": [
       "False"
      ]
     },
     "execution_count": 49,
     "metadata": {},
     "output_type": "execute_result"
    }
   ],
   "source": [
    "'178936306#1_0'=='178936306#0_0'"
   ]
  },
  {
   "cell_type": "code",
   "execution_count": 18,
   "id": "b44a59db",
   "metadata": {},
   "outputs": [
    {
     "data": {
      "text/plain": [
       "(0.0, 0.0, 100.0, 0.0, 2.5, 2.5, 0.8783636666881245)"
      ]
     },
     "execution_count": 18,
     "metadata": {},
     "output_type": "execute_result"
    }
   ],
   "source": [
    "getSumoSensors_full( '5375841071')#traffic_lights[0][1])"
   ]
  },
  {
   "cell_type": "code",
   "execution_count": 23,
   "id": "06061d08",
   "metadata": {},
   "outputs": [
    {
     "data": {
      "text/plain": [
       "0.0"
      ]
     },
     "execution_count": 23,
     "metadata": {},
     "output_type": "execute_result"
    }
   ],
   "source": [
    "traci.vehicle.getSpeed('312')"
   ]
  },
  {
   "cell_type": "code",
   "execution_count": 19,
   "id": "db7c03c1",
   "metadata": {},
   "outputs": [
    {
     "data": {
      "text/plain": [
       "('144', '366', '142', '106', '103')"
      ]
     },
     "execution_count": 19,
     "metadata": {},
     "output_type": "execute_result"
    }
   ],
   "source": [
    "traci.lane.getLastStepVehicleIDs( '765377840#0_0')"
   ]
  },
  {
   "cell_type": "code",
   "execution_count": 22,
   "id": "79ad8d17",
   "metadata": {},
   "outputs": [],
   "source": [
    "\n",
    "def getSumoSensors_full(tl_id):\n",
    "    \"\"\"\n",
    "    Retrieves various traffic-related metrics from SUMO for a given traffic light ID.\n",
    "    \n",
    "    This function collects data such as vehicle speeds, waiting times, queue lengths, \n",
    "    throughput, and occupancy for all lanes controlled by the specified traffic light.\n",
    "\n",
    "    Parameters:\n",
    "        tl_id (str): The ID of the traffic light in SUMO.\n",
    "\n",
    "    Returns:\n",
    "        tuple: A tuple containing the following metrics:\n",
    "            - avg_speed (float): Average speed of vehicles.\n",
    "            - var_speed (float): Variance in vehicle speeds.\n",
    "            - avg_waiting_time (float): Average waiting time of vehicles.\n",
    "            - var_waiting_time (float): Variance in waiting time.\n",
    "            - avg_throughput (float): Average number of vehicles passing per step.\n",
    "            - avg_queue_length (float): Average number of halted vehicles.\n",
    "            - avg_Occupancy (float): Average lane occupancy percentage.\n",
    "    \"\"\"\n",
    "\n",
    "    vehicle_waiting = []  # Stores waiting times of vehicles\n",
    "    vehicle_speeds = []  # Stores speeds of vehicles\n",
    "    edges = []  # Stores unique edge IDs corresponding to lanes\n",
    "    throughputs = []  # Stores number of vehicles passing per step\n",
    "    queue_lengths = []  # Stores number of halted vehicles per edge\n",
    "    Occupancies = []  # Stores lane occupancy percentages\n",
    "    \n",
    "    # Initialize output variables\n",
    "    avg_waiting_time = 0\n",
    "    var_waiting_time = 0\n",
    "    avg_speed = 0\n",
    "    var_speed = 0\n",
    "    avg_throughput = 0\n",
    "    avg_queue_length = 0\n",
    "    avg_Occupancy = 0  # Percentage of occupied space in lanes\n",
    "\n",
    "    # Get all lanes controlled by the traffic light\n",
    "    controlled_lanes = traci.trafficlight.getControlledLanes(tl_id)\n",
    "\n",
    "    for lane in controlled_lanes:\n",
    "        # Get vehicle IDs currently in the lane\n",
    "        vehicle_ids = traci.lane.getLastStepVehicleIDs(lane)\n",
    "\n",
    "        # Collect speed and waiting time of vehicles in the lane\n",
    "        vehicle_speeds += [traci.vehicle.getSpeed(vehicle_id) for vehicle_id in vehicle_ids]\n",
    "        vehicle_waiting += [traci.vehicle.getAccumulatedWaitingTime(vehicle_id) for vehicle_id in vehicle_ids]\n",
    "\n",
    "        # Identify the corresponding edge for this lane\n",
    "        corresponding_edge = traci.lane.getEdgeID(lane)\n",
    "\n",
    "        # Avoid duplicate data collection for the same edge\n",
    "        if corresponding_edge not in edges:\n",
    "            edges.append(corresponding_edge)\n",
    "            throughputs.append(traci.edge.getLastStepVehicleNumber(corresponding_edge))  # Number of vehicles passing\n",
    "            queue_lengths.append(traci.edge.getLastStepHaltingNumber(corresponding_edge))  # Number of halted vehicles\n",
    "            Occupancies.append(traci.edge.getLastStepOccupancy(corresponding_edge))  # Lane occupancy percentage\n",
    "\n",
    "    # Convert lists to NumPy arrays for efficient computation\n",
    "    vehicle_speeds = np.array(vehicle_speeds)\n",
    "    avg_speed = np.mean(vehicle_speeds) if vehicle_speeds.size > 0 else 0\n",
    "    var_speed = np.var(vehicle_speeds) if vehicle_speeds.size > 0 else 0\n",
    "    \n",
    "    vehicle_waiting = np.array(vehicle_waiting)\n",
    "    avg_waiting_time = np.mean(vehicle_waiting) if vehicle_waiting.size > 0 else 0\n",
    "    var_waiting_time = np.var(vehicle_waiting) if vehicle_waiting.size > 0 else 0\n",
    "        \n",
    "    avg_throughput = np.mean(throughputs) if throughputs else 0\n",
    "    avg_queue_length = np.mean(queue_lengths) if queue_lengths else 0\n",
    "    avg_Occupancy = np.mean(Occupancies) if Occupancies else 0\n",
    "\n",
    "    #clean memory\n",
    "    del(vehicle_waiting)\n",
    "    del(vehicle_speeds)\n",
    "    del(edges)\n",
    "    del(throughputs)\n",
    "    del(queue_lengths)\n",
    "    del(Occupancies)\n",
    "    \n",
    "    return (avg_speed, var_speed, avg_waiting_time, var_waiting_time, avg_throughput, avg_queue_length, avg_Occupancy)\n",
    "\n"
   ]
  },
  {
   "cell_type": "markdown",
   "id": "26ab0699",
   "metadata": {},
   "source": [
    "## Results"
   ]
  },
  {
   "cell_type": "code",
   "execution_count": 21,
   "id": "0fd58453",
   "metadata": {},
   "outputs": [
    {
     "name": "stdout",
     "output_type": "stream",
     "text": [
      "\u001b[32mTime taken for training: 0.431 seconds (0.007 Minutes)\u001b[0m\n"
     ]
    }
   ],
   "source": [
    "time_diff = time_after - time_before\n",
    "print(Fore.GREEN + f\"Time taken for training: {round(time_diff,3)} seconds ({round(time_diff/60,3)} Minutes)\" + Style.RESET_ALL)\n"
   ]
  },
  {
   "cell_type": "code",
   "execution_count": 22,
   "id": "53ef371a",
   "metadata": {},
   "outputs": [],
   "source": [
    "def append_to_file(filename, text):\n",
    "    with open(filename, 'a') as file:\n",
    "        file.write(text + '\\n')  # '\\n' لتضيف السطر الجديد بعد كل جملة\n"
   ]
  },
  {
   "cell_type": "code",
   "execution_count": 23,
   "id": "13618b4c",
   "metadata": {},
   "outputs": [],
   "source": [
    "traci.close()"
   ]
  },
  {
   "cell_type": "code",
   "execution_count": 24,
   "id": "1f69d41f",
   "metadata": {},
   "outputs": [
    {
     "name": "stdout",
     "output_type": "stream",
     "text": [
      "Successfully ran C:\\Program Files (x86)\\Eclipse\\Sumo\\tools\\xml\\xml2csv.py with I:\\My Drive\\study\\graduation_project\\final\\Code\\project_files\\TrafficManager\\TrafficManager\\AIST_Cleaned\\data2\\osm.statistics.xml\n",
      "\u001b[36mWaiting_Time: 293.26\u001b[0m\n",
      "\u001b[36mSpeed: 7.38\u001b[0m\n",
      "\u001b[36mWaiting_Vehicles: 1066.0\u001b[0m\n",
      "\u001b[36mTimeLoss: 308.27\u001b[0m\n",
      "\u001b[36mDepart_Delay: 304.62\u001b[0m\n"
     ]
    }
   ],
   "source": [
    "results = get_sumo_statics(python_path, data_path)\n",
    "for key, value in results.items():\n",
    "    print(Fore.CYAN + f\"{key}: {round(value,3)}\" + Style.RESET_ALL)\n",
    "    #append_to_file(\"output1.txt\",f\"{key}: {round(value,3)}\")\n"
   ]
  },
  {
   "cell_type": "code",
   "execution_count": null,
   "id": "f471364f",
   "metadata": {},
   "outputs": [],
   "source": []
  }
 ],
 "metadata": {
  "kernelspec": {
   "display_name": "Python 3",
   "language": "python",
   "name": "python3"
  },
  "language_info": {
   "codemirror_mode": {
    "name": "ipython",
    "version": 3
   },
   "file_extension": ".py",
   "mimetype": "text/x-python",
   "name": "python",
   "nbconvert_exporter": "python",
   "pygments_lexer": "ipython3",
   "version": "3.11.4"
  }
 },
 "nbformat": 4,
 "nbformat_minor": 5
}
